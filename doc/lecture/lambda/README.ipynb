{
 "cells": [
  {
   "attachments": {},
   "cell_type": "markdown",
   "metadata": {},
   "source": [
    "<a href=\"https://colab.research.google.com/github/cm-nakamura-shogo/python-training/blob/master/doc/lecture/lambda/README.ipynb\" target=\"_parent\"><img src=\"https://colab.research.google.com/assets/colab-badge.svg\" alt=\"Open In Colab\"/></a>"
   ]
  },
  {
   "attachments": {},
   "cell_type": "markdown",
   "metadata": {},
   "source": [
    "# lambda式とmap, filter, reduce"
   ]
  },
  {
   "attachments": {},
   "cell_type": "markdown",
   "metadata": {},
   "source": [
    "ここでは以下についてやります。\n",
    "\n",
    "- ラムダ式ってなんぞ？\n",
    "- map, filter, reduceの使い方"
   ]
  },
  {
   "attachments": {},
   "cell_type": "markdown",
   "metadata": {},
   "source": [
    "## lambda式"
   ]
  },
  {
   "attachments": {},
   "cell_type": "markdown",
   "metadata": {},
   "source": [
    "すでにでてきてるかもしれませんが、無名関数とも呼ばれます。\n",
    "\n",
    "よくmapなどと組み合わせて使用されたり、pandasだとapplyでユーザ定義関数を使う場合に見られます。\n",
    "\n",
    "あまり意味のある実装ではないですが、以下のような感じで作ります。"
   ]
  },
  {
   "cell_type": "code",
   "execution_count": 2,
   "metadata": {},
   "outputs": [
    {
     "name": "stdout",
     "output_type": "stream",
     "text": [
      "ret_val=101\n"
     ]
    }
   ],
   "source": [
    "def myfunc(func_conv, input):\n",
    "    return func_conv(input)\n",
    "\n",
    "ret_val = myfunc(lambda x: x+1, 100)\n",
    "\n",
    "print(f\"{ret_val=}\")"
   ]
  },
  {
   "attachments": {},
   "cell_type": "markdown",
   "metadata": {},
   "source": [
    "引数を2個にしたい場合は以下のようにします。"
   ]
  },
  {
   "cell_type": "code",
   "execution_count": 3,
   "metadata": {},
   "outputs": [
    {
     "name": "stdout",
     "output_type": "stream",
     "text": [
      "ret_val=101\n"
     ]
    }
   ],
   "source": [
    "def myfunc(func_conv, x, y):\n",
    "    return func_conv(x, y)\n",
    "\n",
    "ret_val = myfunc(lambda x,y: x+y, 100, 1)\n",
    "\n",
    "print(f\"{ret_val=}\")"
   ]
  },
  {
   "attachments": {},
   "cell_type": "markdown",
   "metadata": {},
   "source": [
    "ちなみに、ここで作ったmyfuncのように関数を引数にもつ関数を、高階関数と呼ぶようです。\n",
    "\n",
    "以降のmap, filter, reduceはそれも高階関数になります。"
   ]
  },
  {
   "attachments": {},
   "cell_type": "markdown",
   "metadata": {},
   "source": [
    "## map, filter, reduceについて"
   ]
  },
  {
   "attachments": {},
   "cell_type": "markdown",
   "metadata": {},
   "source": [
    "map, filter, reduceはlistなどのiterableに対する処理を行います。\n",
    "\n",
    "mapは全要素に同じ操作を、filterはある条件での抽出操作を、reduceは全知全能です。\n",
    "\n",
    "なお、同名の処理はJavaScriptでも出没するので覚えておいておくと後々役立ちます。\n",
    "\n",
    "特にreduceはこの機会にマスターしましょう。（mapとfilterはそもそもそんなにむずくない）"
   ]
  },
  {
   "attachments": {},
   "cell_type": "markdown",
   "metadata": {},
   "source": [
    "## map"
   ]
  },
  {
   "attachments": {},
   "cell_type": "markdown",
   "metadata": {},
   "source": [
    "全要素に同じ操作を実施します。戻り値はiteratorになっているので、アンパックで実体化すると値が取れます。"
   ]
  },
  {
   "cell_type": "code",
   "execution_count": 10,
   "metadata": {},
   "outputs": [
    {
     "name": "stdout",
     "output_type": "stream",
     "text": [
      "[2, 3, 4, 5, 6]\n"
     ]
    }
   ],
   "source": [
    "it = map(lambda x: x+1, [1,2,3,4,5])\n",
    "\n",
    "print([*it])"
   ]
  },
  {
   "attachments": {},
   "cell_type": "markdown",
   "metadata": {},
   "source": [
    "iterableを複数渡すと、入力を複数取ることが可能です。その場合lambda式も引数が2個必要になります。\n",
    "\n",
    "（ちなみに長さが違う場合は、短い方に合わせられます）"
   ]
  },
  {
   "cell_type": "code",
   "execution_count": 12,
   "metadata": {},
   "outputs": [
    {
     "name": "stdout",
     "output_type": "stream",
     "text": [
      "[6, 7, 8, 9, 10]\n"
     ]
    }
   ],
   "source": [
    "it = map(lambda x,y: x+y, [1,2,3,4,5], [5,5,5,5,5])\n",
    "\n",
    "print([*it])"
   ]
  },
  {
   "attachments": {},
   "cell_type": "markdown",
   "metadata": {},
   "source": [
    "むろん、lambda式ではなく普通の関数を使ってもできます。"
   ]
  },
  {
   "cell_type": "code",
   "execution_count": 13,
   "metadata": {},
   "outputs": [
    {
     "name": "stdout",
     "output_type": "stream",
     "text": [
      "[6, 7, 8, 9, 10]\n"
     ]
    }
   ],
   "source": [
    "def myfunc(x,y):\n",
    "    return x+y\n",
    "\n",
    "it = map(myfunc, [1,2,3,4,5], [5,5,5,5,5])\n",
    "\n",
    "print([*it])"
   ]
  },
  {
   "attachments": {},
   "cell_type": "markdown",
   "metadata": {},
   "source": [
    "まあでも関数型で副作用のないデータ変換を実施する際にmapなどを使うため、lambda式で書けるような変換の用途の方が向いているともいえる。"
   ]
  },
  {
   "attachments": {},
   "cell_type": "markdown",
   "metadata": {},
   "source": [
    "## filter"
   ]
  },
  {
   "attachments": {},
   "cell_type": "markdown",
   "metadata": {},
   "source": [
    "要素を抽出する処理です。"
   ]
  },
  {
   "cell_type": "code",
   "execution_count": 15,
   "metadata": {},
   "outputs": [
    {
     "name": "stdout",
     "output_type": "stream",
     "text": [
      "[2, 4]\n"
     ]
    }
   ],
   "source": [
    "it = filter(lambda x: x % 2==0, [1,2,3,4,5])\n",
    "\n",
    "print([*it])"
   ]
  },
  {
   "attachments": {},
   "cell_type": "markdown",
   "metadata": {},
   "source": [
    "こういった処理は、リスト内包表記で同じことができるためどっちが良いのかって話はあるかなと思いますが、どうでしょう？"
   ]
  },
  {
   "attachments": {},
   "cell_type": "markdown",
   "metadata": {},
   "source": [
    "WIP\n",
    "\n",
    "- [Pythonのreduceと内包表記／ジェネレータ式を比較してみた | DevelopersIO](https://dev.classmethod.jp/articles/python-reduce-vs-generator)"
   ]
  },
  {
   "cell_type": "markdown",
   "metadata": {},
   "source": []
  }
 ],
 "metadata": {
  "kernelspec": {
   "display_name": "python-training-OAfC8-HB-py3.9",
   "language": "python",
   "name": "python3"
  },
  "language_info": {
   "codemirror_mode": {
    "name": "ipython",
    "version": 3
   },
   "file_extension": ".py",
   "mimetype": "text/x-python",
   "name": "python",
   "nbconvert_exporter": "python",
   "pygments_lexer": "ipython3",
   "version": "3.9.6"
  },
  "orig_nbformat": 4,
  "vscode": {
   "interpreter": {
    "hash": "f1bb3037b7047e51bb8afb7259a11f25a654836601d1df17e921fadb5d562f2f"
   }
  }
 },
 "nbformat": 4,
 "nbformat_minor": 2
}
