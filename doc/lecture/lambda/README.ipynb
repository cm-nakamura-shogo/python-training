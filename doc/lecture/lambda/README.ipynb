{
 "cells": [
  {
   "attachments": {},
   "cell_type": "markdown",
   "metadata": {},
   "source": [
    "<a href=\"https://colab.research.google.com/github/cm-nakamura-shogo/python-training/blob/master/doc/lecture/lambda/README.ipynb\" target=\"_parent\"><img src=\"https://colab.research.google.com/assets/colab-badge.svg\" alt=\"Open In Colab\"/></a>"
   ]
  },
  {
   "attachments": {},
   "cell_type": "markdown",
   "metadata": {},
   "source": [
    "# lambda式とmap, filter, reduce"
   ]
  },
  {
   "attachments": {},
   "cell_type": "markdown",
   "metadata": {},
   "source": [
    "ここでは以下についてやります。\n",
    "\n",
    "- ラムダ式ってなんぞ？\n",
    "- map, filter, reduceの使い方"
   ]
  },
  {
   "attachments": {},
   "cell_type": "markdown",
   "metadata": {},
   "source": [
    "## lambda式"
   ]
  },
  {
   "attachments": {},
   "cell_type": "markdown",
   "metadata": {},
   "source": [
    "すでにでてきてるかもしれませんが、無名関数とも呼ばれます。\n",
    "\n",
    "よくmapなどと組み合わせて使用されたり、pandasだとapplyでユーザ定義関数を使う場合に見られます。\n",
    "\n",
    "あまり意味のある実装ではないですが、以下のような感じで作ります。"
   ]
  },
  {
   "cell_type": "code",
   "execution_count": 2,
   "metadata": {},
   "outputs": [
    {
     "name": "stdout",
     "output_type": "stream",
     "text": [
      "ret_val=101\n"
     ]
    }
   ],
   "source": [
    "def myfunc(func_conv, input):\n",
    "    return func_conv(input)\n",
    "\n",
    "ret_val = myfunc(lambda x: x+1, 100)\n",
    "\n",
    "print(f\"{ret_val=}\")"
   ]
  },
  {
   "attachments": {},
   "cell_type": "markdown",
   "metadata": {},
   "source": [
    "引数を2個にしたい場合は以下のようにします。"
   ]
  },
  {
   "cell_type": "code",
   "execution_count": 3,
   "metadata": {},
   "outputs": [
    {
     "name": "stdout",
     "output_type": "stream",
     "text": [
      "ret_val=101\n"
     ]
    }
   ],
   "source": [
    "def myfunc(func_conv, x, y):\n",
    "    return func_conv(x, y)\n",
    "\n",
    "ret_val = myfunc(lambda x,y: x+y, 100, 1)\n",
    "\n",
    "print(f\"{ret_val=}\")"
   ]
  },
  {
   "attachments": {},
   "cell_type": "markdown",
   "metadata": {},
   "source": [
    "ちなみに、ここで作ったmyfuncのように関数を引数にもつ関数を、高階関数と呼ぶようです。\n",
    "\n",
    "以降のmap, filter, reduceはそれも高階関数になります。"
   ]
  },
  {
   "attachments": {},
   "cell_type": "markdown",
   "metadata": {},
   "source": [
    "## map, filter, reduceについて"
   ]
  },
  {
   "attachments": {},
   "cell_type": "markdown",
   "metadata": {},
   "source": [
    "map, filter, reduceはlistなどのiterableに対する処理を行います。\n",
    "\n",
    "mapは全要素に同じ操作を、filterはある条件での抽出操作を、reduceは全知全能です。\n",
    "\n",
    "なお、同名の処理はJavaScriptでも出没するので覚えておいておくと後々役立ちます。\n",
    "\n",
    "特にreduceはこの機会にマスターしましょう。（mapとfilterはそもそもそんなにむずくない）"
   ]
  },
  {
   "attachments": {},
   "cell_type": "markdown",
   "metadata": {},
   "source": [
    "## map"
   ]
  },
  {
   "cell_type": "markdown",
   "metadata": {},
   "source": [
    "全要素に同じ操作を実施します。"
   ]
  },
  {
   "cell_type": "code",
   "execution_count": 9,
   "metadata": {},
   "outputs": [
    {
     "ename": "StopIteration",
     "evalue": "",
     "output_type": "error",
     "traceback": [
      "\u001b[1;31m---------------------------------------------------------------------------\u001b[0m",
      "\u001b[1;31mStopIteration\u001b[0m                             Traceback (most recent call last)",
      "Cell \u001b[1;32mIn[9], line 8\u001b[0m\n\u001b[0;32m      6\u001b[0m gen\u001b[39m.\u001b[39m\u001b[39m__next__\u001b[39m()\n\u001b[0;32m      7\u001b[0m gen\u001b[39m.\u001b[39m\u001b[39m__next__\u001b[39m()\n\u001b[1;32m----> 8\u001b[0m gen\u001b[39m.\u001b[39;49m\u001b[39m__next__\u001b[39;49m()\n",
      "\u001b[1;31mStopIteration\u001b[0m: "
     ]
    }
   ],
   "source": [
    "it = map(lambda x: x+1, [1,2,3,4,5])\n",
    "\n",
    "gen.__next__()\n",
    "gen.__next__()\n",
    "gen.__next__()\n",
    "gen.__next__()\n",
    "gen.__next__()\n",
    "gen.__next__()"
   ]
  },
  {
   "attachments": {},
   "cell_type": "markdown",
   "metadata": {},
   "source": [
    "WIP\n",
    "\n",
    "- [Pythonのreduceと内包表記／ジェネレータ式を比較してみた | DevelopersIO](https://dev.classmethod.jp/articles/python-reduce-vs-generator)"
   ]
  },
  {
   "cell_type": "markdown",
   "metadata": {},
   "source": []
  }
 ],
 "metadata": {
  "kernelspec": {
   "display_name": "python-training-OAfC8-HB-py3.9",
   "language": "python",
   "name": "python3"
  },
  "language_info": {
   "codemirror_mode": {
    "name": "ipython",
    "version": 3
   },
   "file_extension": ".py",
   "mimetype": "text/x-python",
   "name": "python",
   "nbconvert_exporter": "python",
   "pygments_lexer": "ipython3",
   "version": "3.9.6"
  },
  "orig_nbformat": 4,
  "vscode": {
   "interpreter": {
    "hash": "f1bb3037b7047e51bb8afb7259a11f25a654836601d1df17e921fadb5d562f2f"
   }
  }
 },
 "nbformat": 4,
 "nbformat_minor": 2
}
