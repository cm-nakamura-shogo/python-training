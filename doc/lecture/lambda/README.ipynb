{
 "cells": [
  {
   "attachments": {},
   "cell_type": "markdown",
   "metadata": {},
   "source": [
    "<a href=\"https://colab.research.google.com/github/cm-nakamura-shogo/python-training/blob/master/doc/lecture/lambda/README.ipynb\" target=\"_parent\"><img src=\"https://colab.research.google.com/assets/colab-badge.svg\" alt=\"Open In Colab\"/></a>"
   ]
  },
  {
   "attachments": {},
   "cell_type": "markdown",
   "metadata": {},
   "source": [
    "# lambda式とmap, filter, reduce"
   ]
  },
  {
   "attachments": {},
   "cell_type": "markdown",
   "metadata": {},
   "source": [
    "ここでは以下についてやります。\n",
    "\n",
    "- ラムダ式ってなんぞ？\n",
    "- map, filter, reduceの使い方"
   ]
  },
  {
   "attachments": {},
   "cell_type": "markdown",
   "metadata": {},
   "source": [
    "## lambda式"
   ]
  },
  {
   "attachments": {},
   "cell_type": "markdown",
   "metadata": {},
   "source": [
    "すでにでてきてるかもしれませんが、無名関数とも呼ばれます。\n",
    "\n",
    "よくmapなどと組み合わせて使用されたり、pandasだとapplyでユーザ定義関数を使う場合に見られます。\n",
    "\n",
    "あまり意味のある実装ではないですが、以下のような感じで作ります。"
   ]
  },
  {
   "cell_type": "code",
   "execution_count": 2,
   "metadata": {},
   "outputs": [
    {
     "name": "stdout",
     "output_type": "stream",
     "text": [
      "ret_val=101\n"
     ]
    }
   ],
   "source": [
    "def myfunc(func_conv, input):\n",
    "    return func_conv(input)\n",
    "\n",
    "ret_val = myfunc(lambda x: x+1, 100)\n",
    "\n",
    "print(f\"{ret_val=}\")"
   ]
  },
  {
   "attachments": {},
   "cell_type": "markdown",
   "metadata": {},
   "source": [
    "引数を2個にしたい場合は以下のようにします。"
   ]
  },
  {
   "cell_type": "code",
   "execution_count": 3,
   "metadata": {},
   "outputs": [
    {
     "name": "stdout",
     "output_type": "stream",
     "text": [
      "ret_val=101\n"
     ]
    }
   ],
   "source": [
    "def myfunc(func_conv, x, y):\n",
    "    return func_conv(x, y)\n",
    "\n",
    "ret_val = myfunc(lambda x,y: x+y, 100, 1)\n",
    "\n",
    "print(f\"{ret_val=}\")"
   ]
  },
  {
   "attachments": {},
   "cell_type": "markdown",
   "metadata": {},
   "source": [
    "lambda式は簡単な処理の関数をサクッと作成したい場合に使います。\n",
    "\n",
    "複数行の処理をもてないため、複雑な処理を行うことはできません。\n",
    "\n",
    "ちなみに、ここで作ったmyfuncのように関数を引数にもつ関数を、高階関数と呼ぶようです。\n",
    "\n",
    "以降のmap, filter, reduceはそれも高階関数になります。"
   ]
  },
  {
   "attachments": {},
   "cell_type": "markdown",
   "metadata": {},
   "source": [
    "## map, filter, reduceについて"
   ]
  },
  {
   "attachments": {},
   "cell_type": "markdown",
   "metadata": {},
   "source": [
    "map, filter, reduceはlistなどのiterableに対する処理を行います。\n",
    "\n",
    "mapは全要素に同じ操作を、filterはある条件での抽出操作を、reduceは全知全能です。\n",
    "\n",
    "なお、同名の処理はJavaScriptでも出没するので覚えておいておくと後々役立ちます。\n",
    "\n",
    "特にreduceはこの機会にマスターしましょう。（mapとfilterはそもそもそんなにむずくない）"
   ]
  },
  {
   "attachments": {},
   "cell_type": "markdown",
   "metadata": {},
   "source": [
    "## map"
   ]
  },
  {
   "attachments": {},
   "cell_type": "markdown",
   "metadata": {},
   "source": [
    "全要素に同じ操作を実施します。戻り値はiteratorになっているので、アンパックで実体化すると値が取れます。"
   ]
  },
  {
   "cell_type": "code",
   "execution_count": 10,
   "metadata": {},
   "outputs": [
    {
     "name": "stdout",
     "output_type": "stream",
     "text": [
      "[2, 3, 4, 5, 6]\n"
     ]
    }
   ],
   "source": [
    "it = map(lambda x: x+1, [1,2,3,4,5])\n",
    "\n",
    "print([*it])"
   ]
  },
  {
   "attachments": {},
   "cell_type": "markdown",
   "metadata": {},
   "source": [
    "iterableを複数渡すと、入力を複数取ることが可能です。その場合lambda式も引数が2個必要になります。\n",
    "\n",
    "（ちなみに長さが違う場合は、短い方に合わせられます）"
   ]
  },
  {
   "cell_type": "code",
   "execution_count": 12,
   "metadata": {},
   "outputs": [
    {
     "name": "stdout",
     "output_type": "stream",
     "text": [
      "[6, 7, 8, 9, 10]\n"
     ]
    }
   ],
   "source": [
    "it = map(lambda x,y: x+y, [1,2,3,4,5], [5,5,5,5,5])\n",
    "\n",
    "print([*it])"
   ]
  },
  {
   "attachments": {},
   "cell_type": "markdown",
   "metadata": {},
   "source": [
    "むろん、lambda式ではなく普通の関数を使ってもできます。"
   ]
  },
  {
   "cell_type": "code",
   "execution_count": 13,
   "metadata": {},
   "outputs": [
    {
     "name": "stdout",
     "output_type": "stream",
     "text": [
      "[6, 7, 8, 9, 10]\n"
     ]
    }
   ],
   "source": [
    "def myfunc(x,y):\n",
    "    return x+y\n",
    "\n",
    "it = map(myfunc, [1,2,3,4,5], [5,5,5,5,5])\n",
    "\n",
    "print([*it])"
   ]
  },
  {
   "attachments": {},
   "cell_type": "markdown",
   "metadata": {},
   "source": [
    "まあでも関数型で副作用のないデータ変換を実施する際にmapなどを使うため、lambda式で書けるような変換の用途の方が向いているともいえる。"
   ]
  },
  {
   "attachments": {},
   "cell_type": "markdown",
   "metadata": {},
   "source": [
    "## filter"
   ]
  },
  {
   "attachments": {},
   "cell_type": "markdown",
   "metadata": {},
   "source": [
    "要素を抽出する処理です。"
   ]
  },
  {
   "cell_type": "code",
   "execution_count": 15,
   "metadata": {},
   "outputs": [
    {
     "name": "stdout",
     "output_type": "stream",
     "text": [
      "[2, 4]\n"
     ]
    }
   ],
   "source": [
    "it = filter(lambda x: x % 2==0, [1,2,3,4,5])\n",
    "\n",
    "print([*it])"
   ]
  },
  {
   "attachments": {},
   "cell_type": "markdown",
   "metadata": {},
   "source": [
    "逆のfalsefilterというものが、iteratortoolsにありましたね。\n",
    "\n",
    "こういった処理は、リスト内包表記で同じことができるためどっちが良いのかって話はあるかなと思いますが、どうでしょう？"
   ]
  },
  {
   "attachments": {},
   "cell_type": "markdown",
   "metadata": {},
   "source": [
    "### reduce"
   ]
  },
  {
   "attachments": {},
   "cell_type": "markdown",
   "metadata": {},
   "source": [
    "reduceはさまざまな変換を書くことができます。\n",
    "\n",
    "mapやfilterの代用も可能です。\n",
    "\n",
    "唯一できないことは、無限シーケンスに対して動作させることができない点です（mapとfilterは無限シーケンスでも動作可能）\n",
    "\n",
    "reduceは関数、入力シーケンス、初期値を与えます。\n",
    "\n",
    "関数の引数は２個必要なのがポイントです。関数は順次先頭から要素を処理し、前回の処理結果を引き継ぎます。\n",
    "\n",
    "前回の結果は、関数は第一引数に格納され、第二引数がシーケンスの現在の要素の入力になります。\n",
    "\n",
    "そのため、第一引数の初期値がreduceの引数として必要になります（必要でないケースももちろんある）。\n",
    "\n",
    "これらの引数は分かりやすいようにaccとcurで書いてあることも多い。(acc: Accumulator 累積値の意味、cur: current valueで現在の値)\n",
    "\n",
    "以下は総和を求める処理です。"
   ]
  },
  {
   "cell_type": "code",
   "execution_count": 4,
   "metadata": {},
   "outputs": [
    {
     "data": {
      "text/plain": [
       "15"
      ]
     },
     "execution_count": 4,
     "metadata": {},
     "output_type": "execute_result"
    }
   ],
   "source": [
    "from functools import reduce\n",
    "\n",
    "sum = reduce(lambda acc, cur: acc + cur, [1,2,3,4,5], 0)\n",
    "sum"
   ]
  },
  {
   "attachments": {},
   "cell_type": "markdown",
   "metadata": {},
   "source": [
    "このようにreduceは処理結果が返り値になり、iteratorではありません。そのため、無限イテレータに対して使うことができない。\n",
    "\n",
    "練習のため別の例をみてみます。全ての要素を２倍にする処理です（mapで実装するような処理）。"
   ]
  },
  {
   "cell_type": "code",
   "execution_count": 14,
   "metadata": {},
   "outputs": [
    {
     "data": {
      "text/plain": [
       "[2, 4, 6, 8, 10]"
      ]
     },
     "execution_count": 14,
     "metadata": {},
     "output_type": "execute_result"
    }
   ],
   "source": [
    "from functools import reduce\n",
    "\n",
    "values = reduce(lambda acc, cur: [*acc, cur*2], [1,2,3,4,5], [])\n",
    "values"
   ]
  },
  {
   "attachments": {},
   "cell_type": "markdown",
   "metadata": {},
   "source": [
    "次に偶数のみを抽出してみます（filterのような処理）。"
   ]
  },
  {
   "cell_type": "code",
   "execution_count": 15,
   "metadata": {},
   "outputs": [
    {
     "data": {
      "text/plain": [
       "[2, 4]"
      ]
     },
     "execution_count": 15,
     "metadata": {},
     "output_type": "execute_result"
    }
   ],
   "source": [
    "from functools import reduce\n",
    "\n",
    "values = reduce(lambda acc, cur: [*acc, cur] if cur%2==0 else acc, [1,2,3,4,5], [])\n",
    "values"
   ]
  },
  {
   "attachments": {},
   "cell_type": "markdown",
   "metadata": {},
   "source": [
    "このようにアンパックを駆使すれば様々な処理が実現できる。"
   ]
  },
  {
   "attachments": {},
   "cell_type": "markdown",
   "metadata": {},
   "source": [
    "### 速度の話"
   ]
  },
  {
   "attachments": {},
   "cell_type": "markdown",
   "metadata": {},
   "source": [
    "始めに言っておきますが、reduceは特に速くない。\n",
    "\n",
    "なので単純な処理では全くメリットがないので、あくまでリーディング時の知識として使うことが多いと思います。（知らないとイミフなので）\n",
    "\n",
    "以降、処理時間を比較していきます。"
   ]
  },
  {
   "cell_type": "code",
   "execution_count": 24,
   "metadata": {},
   "outputs": [],
   "source": [
    "import random\n",
    "\n",
    "sample_list = [random.randint(-2, 2) for _ in range(100000)]"
   ]
  },
  {
   "cell_type": "code",
   "execution_count": 19,
   "metadata": {},
   "outputs": [
    {
     "name": "stdout",
     "output_type": "stream",
     "text": [
      "3.79 s ± 112 ms per loop (mean ± std. dev. of 7 runs, 1 loop each)\n"
     ]
    }
   ],
   "source": [
    "%%timeit\n",
    "values = reduce(lambda acc, cur: [*acc, cur] if cur%2==0 else acc, sample_list, [])"
   ]
  },
  {
   "cell_type": "code",
   "execution_count": 18,
   "metadata": {},
   "outputs": [
    {
     "name": "stdout",
     "output_type": "stream",
     "text": [
      "3.78 ms ± 128 µs per loop (mean ± std. dev. of 7 runs, 100 loops each)\n"
     ]
    }
   ],
   "source": [
    "%%timeit\n",
    "values = [ i for i in sample_list if i%2==0]"
   ]
  },
  {
   "attachments": {},
   "cell_type": "markdown",
   "metadata": {},
   "source": [
    "リスト内包表記が1000倍くらい速そうです。\n",
    "\n",
    "これは実際はフェアな比較ではなく、reduceはlambda式でワンライナーで表現するために変数を作り直しているからです。\n",
    "\n",
    "なのでlambda式を使わず、変数を新規作成せずにappendするといくぶんかマシになります。（2倍程度の処理時間におさまりました）"
   ]
  },
  {
   "cell_type": "code",
   "execution_count": 31,
   "metadata": {},
   "outputs": [
    {
     "name": "stdout",
     "output_type": "stream",
     "text": [
      "7.45 ms ± 110 µs per loop (mean ± std. dev. of 7 runs, 100 loops each)\n"
     ]
    }
   ],
   "source": [
    "%%timeit\n",
    "def myfunc(acc, cur):\n",
    "    acc.append(cur)\n",
    "    return acc\n",
    "values = reduce(myfunc, sample_list, [])"
   ]
  },
  {
   "attachments": {},
   "cell_type": "markdown",
   "metadata": {},
   "source": [
    "ただしそれでもリスト内包表記の方が速いです。"
   ]
  }
 ],
 "metadata": {
  "kernelspec": {
   "display_name": "python-training-OAfC8-HB-py3.9",
   "language": "python",
   "name": "python3"
  },
  "language_info": {
   "codemirror_mode": {
    "name": "ipython",
    "version": 3
   },
   "file_extension": ".py",
   "mimetype": "text/x-python",
   "name": "python",
   "nbconvert_exporter": "python",
   "pygments_lexer": "ipython3",
   "version": "3.9.6"
  },
  "orig_nbformat": 4,
  "vscode": {
   "interpreter": {
    "hash": "f1bb3037b7047e51bb8afb7259a11f25a654836601d1df17e921fadb5d562f2f"
   }
  }
 },
 "nbformat": 4,
 "nbformat_minor": 2
}
