{
 "cells": [
  {
   "attachments": {},
   "cell_type": "markdown",
   "metadata": {},
   "source": [
    "# 関数とクラス"
   ]
  },
  {
   "attachments": {},
   "cell_type": "markdown",
   "metadata": {},
   "source": [
    "## 関数"
   ]
  },
  {
   "attachments": {},
   "cell_type": "markdown",
   "metadata": {},
   "source": [
    "### 関数を使う理由"
   ]
  },
  {
   "attachments": {},
   "cell_type": "markdown",
   "metadata": {},
   "source": [
    "関数とはなんか一連の処理を入出力を定義してまとめたもの。\n",
    "\n",
    "すべてうまく言語化できないが、関数を使うメリットを挙げてみる。\n",
    "\n",
    "- 同じような処理を複数箇所に埋め込むことを避けられる\n",
    "- 上記のためメンテが楽になる\n",
    "- 適切な関数名であれば抽象的なままコードを読むことができる\n",
    "- 関数単位でテスト（単体試験）を行うことができる\n",
    "- 同時に理解する範囲が狭くなり認知しやすくなる（関数内の変数に外部から基本的にはアクセスできないためスコープが狭まる）\n",
    "- 単純に分担がしやすくなる\n",
    "\n",
    "関数化する合図の整理。\n",
    "\n",
    "- 似たような処理が増えてきたなと感じたら\n",
    "- 今ベースに書いているコードがデカくなってるなと感じたら"
   ]
  },
  {
   "attachments": {},
   "cell_type": "markdown",
   "metadata": {},
   "source": [
    "### 関数の例"
   ]
  },
  {
   "cell_type": "code",
   "execution_count": 42,
   "metadata": {},
   "outputs": [
    {
     "name": "stdout",
     "output_type": "stream",
     "text": [
      "ワイはnokomoro3である。\n"
     ]
    }
   ],
   "source": [
    "def print_message(name: str):\n",
    "    print(f\"ワイは{name}である。\")\n",
    "    return\n",
    "\n",
    "print_message(\"nokomoro3\")"
   ]
  },
  {
   "attachments": {},
   "cell_type": "markdown",
   "metadata": {},
   "source": [
    "### 変数のスコープ"
   ]
  },
  {
   "attachments": {},
   "cell_type": "markdown",
   "metadata": {},
   "source": [
    "これを題材に関数外の変数にアクセスできるかみてみる。"
   ]
  },
  {
   "cell_type": "code",
   "execution_count": null,
   "metadata": {},
   "outputs": [],
   "source": [
    "hoge = \"hoge\"\n",
    "def print_message(name: str):\n",
    "    print(f\"ワイは{name}である。\")\n",
    "    print(f\"{hoge}\")\n",
    "    return\n",
    "\n",
    "print_message(\"nokomoro3\")"
   ]
  },
  {
   "attachments": {},
   "cell_type": "markdown",
   "metadata": {},
   "source": [
    "上記のように、インデントの無い部分はグローバル変数であり、関数内からでもアクセスが可能なことがわかる。\n",
    "\n",
    "ローカル変数とグローバル変数はそれぞれ`locals()`と`globals()`で確認することが可能。"
   ]
  },
  {
   "cell_type": "code",
   "execution_count": 33,
   "metadata": {},
   "outputs": [
    {
     "name": "stdout",
     "output_type": "stream",
     "text": [
      "{'name': 'nokomoro3'}\n",
      "{'__name__': '__main__', '__doc__': 'Automatically created module for IPython interactive environment', '__package__': None, '__loader__': None, '__spec__': None, '__builtin__': <module 'builtins' (built-in)>, '__builtins__': <module 'builtins' (built-in)>, '_ih': ['', 'hoge = \"hoge\"\\ndef print_message(name: str):\\n    print(locals())\\n    print(globals())\\n    print(f\"ワイは{name}である。\")\\n    print(f\"{hoge}\")\\n    return\\n\\nprint_message(\"nokomoro3\")', 'hoge = \"hoge\"\\ndef print_message(name: str):\\n    hoge = \"hoge_local\"\\n    print(f\"ワイは{name}である。\")\\n    print(f\"{hoge}\")\\n    return\\n\\nprint_message(\"nokomoro3\")', 'hoge = \"hoge\"\\ndef print_message(name: str):\\n    print(type(locals()))\\n    print(globals())\\n    print(f\"ワイは{name}である。\")\\n    print(f\"{hoge}\")\\n    return\\n\\nprint_message(\"nokomoro3\")', 'hoge = \"hoge\"\\ndef print_message(name: str):\\n    print(locals())\\n    print(globals())\\n    print(f\"ワイは{name}である。\")\\n    print(f\"{hoge}\")\\n    return\\n\\nprint_message(\"nokomoro3\")', 'hoge = \"hoge\"\\ndef print_message(name: str):\\n    hoge = \"hoge_local\"\\n    print(f\"ワイは{name}である。\")\\n    print(f\"{hoge}\")\\n    return\\n\\nprint_message(\"nokomoro3\")\\nprint(f\"{hoge}\")', 'hoge = \"hoge\"\\ndef print_message(name: str):\\n    hoge = \"hoge_local\"\\n    print(f\"ワイは{name}である。\")\\n    print(f\"{hoge}, {id(hoge)}\")\\n    return\\n\\nprint_message(\"nokomoro3\")\\nprint(f\"{hoge}, {id(hoge)}\")', 'hoge = \"hoge\"\\ndef print_message(name: str):\\n    # hoge = \"hoge_local\"\\n    print(f\"ワイは{name}である。\")\\n    print(f\"{hoge}, {id(hoge)}\")\\n    return\\n\\nprint_message(\"nokomoro3\")\\nprint(f\"{hoge}, {id(hoge)}\")', 'hoge = \"hoge\"\\ndef print_message(name: str):\\n    print(f\"{hoge}, {id(hoge)}\")\\n    hoge = \"hoge_local\"\\n    print(f\"ワイは{name}である。\")\\n    print(f\"{hoge}, {id(hoge)}\")\\n    return\\n\\nprint_message(\"nokomoro3\")\\nprint(f\"{hoge}, {id(hoge)}\")', 'hoge = \"hoge\"\\ndef print_message(name: str):\\n    # print(f\"{hoge}, {id(hoge)}\")\\n    hoge = \"hoge_local\"\\n    print(f\"ワイは{name}である。\")\\n    print(f\"{hoge}, {id(hoge)}\")\\n    return\\n\\nprint_message(\"nokomoro3\")\\nprint(f\"{hoge}, {id(hoge)}\")', 'hoge = \"hoge\"\\ndef print_message(name: str):\\n    print(f\"{hoge}, {id(hoge)}\")\\n    # hoge = \"hoge_local\"\\n    print(f\"ワイは{name}である。\")\\n    print(f\"{hoge}, {id(hoge)}\")\\n    return\\n\\nprint_message(\"nokomoro3\")\\nprint(f\"{hoge}, {id(hoge)}\")', 'hoge = \"hoge\"\\ndef print_message(name: str):\\n    # print(f\"{hoge}, {id(hoge)}\")\\n    hoge = \"hoge_local\"\\n    print(f\"ワイは{name}である。\")\\n    print(f\"{hoge}, {id(hoge)}\")\\n    return\\n\\nprint_message(\"nokomoro3\")\\nprint(f\"{hoge}, {id(hoge)}\")', 'hoge = \"hoge\"\\ndef print_message(name: str):\\n    print(f\"{hoge}, {id(hoge)}\")\\n    hoge = \"hoge_local\"\\n    print(f\"ワイは{name}である。\")\\n    print(f\"{hoge}, {id(hoge)}\")\\n    return\\n\\nprint_message(\"nokomoro3\")\\nprint(f\"{hoge}, {id(hoge)}\")', 'hoge = \"hoge\"\\ndef print_message(name: str):\\n    hoge = \"hoge_local\"\\n    print(f\"ワイは{name}である。\")\\n    print(f\"{hoge}, {id(hoge)}\")\\n    return\\n\\nprint_message(\"nokomoro3\")\\nprint(f\"{hoge}, {id(hoge)}\")', 'hoge = \"hoge\"\\ndef print_message(name: str):\\n    global hoge\\n    hoge = \"hoge_local\"\\n    print(f\"ワイは{name}である。\")\\n    print(f\"{hoge}, {id(hoge)}\")\\n    return\\n\\nprint_message(\"nokomoro3\")\\nprint(f\"{hoge}, {id(hoge)}\")', 'hoge = \"hoge\"\\nprint(f\"{hoge}, {id(hoge)}\")\\ndef print_message(name: str):\\n    hoge = \"hoge_local\"\\n    print(f\"ワイは{name}である。\")\\n    print(f\"{hoge}, {id(hoge)}\")\\n    return\\n\\nprint_message(\"nokomoro3\")\\nprint(f\"{hoge}, {id(hoge)}\")', 'hoge = \"hoge\"\\nprint(f\"{hoge}, {id(hoge)}\")\\ndef print_message(name: str):\\n    global hoge\\n    hoge = \"hoge_local\"\\n    print(f\"ワイは{name}である。\")\\n    print(f\"{hoge}, {id(hoge)}\")\\n    return\\n\\nprint_message(\"nokomoro3\")\\nprint(f\"{hoge}, {id(hoge)}\")', 'def print_message(name: str):\\n    global hoge\\n    hoge = \"hoge_local\"\\n    print(f\"ワイは{name}である。\")\\n    print(f\"{hoge}, {id(hoge)}\")\\n    return\\n\\nprint_message(\"nokomoro3\")\\nprint(f\"{hoge}, {id(hoge)}\")', 'hoge = \"hoge\"\\nprint(f\"{hoge}, {id(hoge)}\")\\ndef print_message(name: str):\\n    global hoge\\n    hoge = \"hoge_local\"\\n    print(f\"ワイは{name}である。\")\\n    print(f\"{hoge}, {id(hoge)}\")\\n    return\\n\\nprint_message(\"nokomoro3\")\\nprint(f\"{hoge}, {id(hoge)}\")', 'def sample():\\n    fuga = \"fuga\"\\n    def print_message(name: str):\\n        print(f\"ワイは{name}である。\")\\n        print(f\"{fuga}\")\\n        return\\n\\n    print_message(\"nokomoro3\")', 'def sample():\\n    fuga = \"fuga\"\\n    def print_message(name: str):\\n        print(f\"ワイは{name}である。\")\\n        print(f\"{fuga}\")\\n        return\\n\\n    print_message(\"nokomoro3\")\\n\\nsample()', 'def sample():\\n    fuga = \"fuga\"\\n    print(locals())\\n    def print_message(name: str):\\n        print(locals())\\n        print(f\"ワイは{name}である。\")\\n        print(f\"{fuga}\")\\n        return\\n\\n    print_message(\"nokomoro3\")\\n\\nsample()', 'def sample():\\n    fuga = \"fuga\"\\n    print(locals())\\n    def print_message(name: str):\\n        fuga = \"fugafuga\"\\n        print(locals())\\n        print(f\"ワイは{name}である。\")\\n        print(f\"{fuga}\")\\n        return\\n\\n    print_message(\"nokomoro3\")\\n\\nsample()', 'def sample():\\n    fuga = \"fuga\"\\n    print(locals())\\n    def print_message(name: str):\\n        fuga = \"fugafuga\"\\n        print(locals())\\n        print(f\"ワイは{name}である。\")\\n        print(f\"{fuga}, {id(fuga)}\")\\n        return\\n\\n    print_message(\"nokomoro3\")\\n\\nsample()', 'def sample():\\n    fuga = \"fuga\"\\n    print(f\"{fuga}, {id(fuga)}\")\\n    print(locals())\\n    def print_message(name: str):\\n        fuga = \"fugafuga\"\\n        print(locals())\\n        print(f\"ワイは{name}である。\")\\n        print(f\"{fuga}, {id(fuga)}\")\\n        return\\n\\n    print_message(\"nokomoro3\")\\n\\nsample()', 'def sample():\\n    fuga = \"fuga\"\\n    print(f\"{fuga}, {id(fuga)}\")\\n    print(locals())\\n    def print_message(name: str):\\n        # fuga = \"fugafuga\"\\n        print(locals())\\n        print(f\"ワイは{name}である。\")\\n        print(f\"{fuga}, {id(fuga)}\")\\n        return\\n\\n    print_message(\"nokomoro3\")\\n\\nsample()', 'def sample():\\n    fuga = \"fuga\"\\n    print(f\"{fuga}, {id(fuga)}\")\\n    print(locals())\\n    def print_message(name: str):\\n        fuga = \"fugafuga\"\\n        print(locals())\\n        print(f\"ワイは{name}である。\")\\n        print(f\"{fuga}, {id(fuga)}\")\\n        return\\n\\n    print_message(\"nokomoro3\")\\n    print(f\"{fuga}, {id(fuga)}\")\\n\\nsample()', 'def sample():\\n    fuga = \"fuga\"\\n    print(f\"{fuga}, {id(fuga)}\")\\n    print(locals())\\n    def print_message(name: str):\\n        print(f\"{fuga}, {id(fuga)}\")\\n        fuga = \"fugafuga\"\\n        print(locals())\\n        print(f\"ワイは{name}である。\")\\n        print(f\"{fuga}, {id(fuga)}\")\\n        return\\n\\n    print_message(\"nokomoro3\")\\n    print(f\"{fuga}, {id(fuga)}\")\\n\\nsample()', 'hoge = \"hoge\"\\nprint(f\"{hoge}, {id(hoge)}\")\\ndef print_message(name: str):\\n    global hoge\\n    hoge = \"hoge_local\"\\n    print(f\"ワイは{name}である。\")\\n    print(f\"{hoge}, {id(hoge)}\")\\n    return\\n\\nprint_message(\"nokomoro3\")\\nprint(f\"{hoge}, {id(hoge)}\")', 'hoge = \"hoge\"\\nprint(f\"{hoge}, {id(hoge)}\")\\ndef print_message(name: str):\\n    print(f\"{hoge}, {id(hoge)}\")\\n    hoge = \"hoge_local\"\\n    print(f\"ワイは{name}である。\")\\n    print(f\"{hoge}, {id(hoge)}\")\\n    return\\n\\nprint_message(\"nokomoro3\")\\nprint(f\"{hoge}, {id(hoge)}\")', 'hoge = \"hoge\"\\nprint(f\"{hoge}, {id(hoge)}\")\\ndef print_message(name: str):\\n    print(f\"{hoge}, {id(hoge)}\")\\n    # hoge = \"hoge_local\"\\n    print(f\"ワイは{name}である。\")\\n    print(f\"{hoge}, {id(hoge)}\")\\n    return\\n\\nprint_message(\"nokomoro3\")\\nprint(f\"{hoge}, {id(hoge)}\")', 'hoge = \"hoge\"\\nprint(f\"{hoge}, {id(hoge)}\")\\ndef print_message(name: str):\\n    print(f\"{hoge}, {id(hoge)}\")\\n    hoge = \"hoge_local\"\\n    print(f\"ワイは{name}である。\")\\n    print(f\"{hoge}, {id(hoge)}\")\\n    return\\n\\nprint_message(\"nokomoro3\")\\nprint(f\"{hoge}, {id(hoge)}\")', 'def sample():\\n    fuga = \"fuga\"\\n    print(f\"{fuga}, {id(fuga)}\")\\n    def print_message(name: str):\\n        fuga = \"fugafuga\"\\n        print(locals())\\n        print(f\"ワイは{name}である。\")\\n        print(f\"{fuga}, {id(fuga)}\")\\n        return\\n\\n    print_message(\"nokomoro3\")\\n    print(f\"{fuga}, {id(fuga)}\")\\n\\nsample()', 'hoge = \"hoge\"\\ndef print_message(name: str):\\n    print(locals()) # add\\n    print(globals()) # add\\n    print(f\"ワイは{name}である。\")\\n    print(f\"{hoge}\")\\n    return\\n\\nprint_message(\"nokomoro3\")'], '_oh': {}, '_dh': [WindowsPath('c:/Users/nakamura.shogo/Desktop/repos/cm-nakamura-shogo/python-training/doc/lecture/function-class'), WindowsPath('c:/Users/nakamura.shogo/Desktop/repos/cm-nakamura-shogo/python-training/doc/lecture/function-class')], 'In': ['', 'hoge = \"hoge\"\\ndef print_message(name: str):\\n    print(locals())\\n    print(globals())\\n    print(f\"ワイは{name}である。\")\\n    print(f\"{hoge}\")\\n    return\\n\\nprint_message(\"nokomoro3\")', 'hoge = \"hoge\"\\ndef print_message(name: str):\\n    hoge = \"hoge_local\"\\n    print(f\"ワイは{name}である。\")\\n    print(f\"{hoge}\")\\n    return\\n\\nprint_message(\"nokomoro3\")', 'hoge = \"hoge\"\\ndef print_message(name: str):\\n    print(type(locals()))\\n    print(globals())\\n    print(f\"ワイは{name}である。\")\\n    print(f\"{hoge}\")\\n    return\\n\\nprint_message(\"nokomoro3\")', 'hoge = \"hoge\"\\ndef print_message(name: str):\\n    print(locals())\\n    print(globals())\\n    print(f\"ワイは{name}である。\")\\n    print(f\"{hoge}\")\\n    return\\n\\nprint_message(\"nokomoro3\")', 'hoge = \"hoge\"\\ndef print_message(name: str):\\n    hoge = \"hoge_local\"\\n    print(f\"ワイは{name}である。\")\\n    print(f\"{hoge}\")\\n    return\\n\\nprint_message(\"nokomoro3\")\\nprint(f\"{hoge}\")', 'hoge = \"hoge\"\\ndef print_message(name: str):\\n    hoge = \"hoge_local\"\\n    print(f\"ワイは{name}である。\")\\n    print(f\"{hoge}, {id(hoge)}\")\\n    return\\n\\nprint_message(\"nokomoro3\")\\nprint(f\"{hoge}, {id(hoge)}\")', 'hoge = \"hoge\"\\ndef print_message(name: str):\\n    # hoge = \"hoge_local\"\\n    print(f\"ワイは{name}である。\")\\n    print(f\"{hoge}, {id(hoge)}\")\\n    return\\n\\nprint_message(\"nokomoro3\")\\nprint(f\"{hoge}, {id(hoge)}\")', 'hoge = \"hoge\"\\ndef print_message(name: str):\\n    print(f\"{hoge}, {id(hoge)}\")\\n    hoge = \"hoge_local\"\\n    print(f\"ワイは{name}である。\")\\n    print(f\"{hoge}, {id(hoge)}\")\\n    return\\n\\nprint_message(\"nokomoro3\")\\nprint(f\"{hoge}, {id(hoge)}\")', 'hoge = \"hoge\"\\ndef print_message(name: str):\\n    # print(f\"{hoge}, {id(hoge)}\")\\n    hoge = \"hoge_local\"\\n    print(f\"ワイは{name}である。\")\\n    print(f\"{hoge}, {id(hoge)}\")\\n    return\\n\\nprint_message(\"nokomoro3\")\\nprint(f\"{hoge}, {id(hoge)}\")', 'hoge = \"hoge\"\\ndef print_message(name: str):\\n    print(f\"{hoge}, {id(hoge)}\")\\n    # hoge = \"hoge_local\"\\n    print(f\"ワイは{name}である。\")\\n    print(f\"{hoge}, {id(hoge)}\")\\n    return\\n\\nprint_message(\"nokomoro3\")\\nprint(f\"{hoge}, {id(hoge)}\")', 'hoge = \"hoge\"\\ndef print_message(name: str):\\n    # print(f\"{hoge}, {id(hoge)}\")\\n    hoge = \"hoge_local\"\\n    print(f\"ワイは{name}である。\")\\n    print(f\"{hoge}, {id(hoge)}\")\\n    return\\n\\nprint_message(\"nokomoro3\")\\nprint(f\"{hoge}, {id(hoge)}\")', 'hoge = \"hoge\"\\ndef print_message(name: str):\\n    print(f\"{hoge}, {id(hoge)}\")\\n    hoge = \"hoge_local\"\\n    print(f\"ワイは{name}である。\")\\n    print(f\"{hoge}, {id(hoge)}\")\\n    return\\n\\nprint_message(\"nokomoro3\")\\nprint(f\"{hoge}, {id(hoge)}\")', 'hoge = \"hoge\"\\ndef print_message(name: str):\\n    hoge = \"hoge_local\"\\n    print(f\"ワイは{name}である。\")\\n    print(f\"{hoge}, {id(hoge)}\")\\n    return\\n\\nprint_message(\"nokomoro3\")\\nprint(f\"{hoge}, {id(hoge)}\")', 'hoge = \"hoge\"\\ndef print_message(name: str):\\n    global hoge\\n    hoge = \"hoge_local\"\\n    print(f\"ワイは{name}である。\")\\n    print(f\"{hoge}, {id(hoge)}\")\\n    return\\n\\nprint_message(\"nokomoro3\")\\nprint(f\"{hoge}, {id(hoge)}\")', 'hoge = \"hoge\"\\nprint(f\"{hoge}, {id(hoge)}\")\\ndef print_message(name: str):\\n    hoge = \"hoge_local\"\\n    print(f\"ワイは{name}である。\")\\n    print(f\"{hoge}, {id(hoge)}\")\\n    return\\n\\nprint_message(\"nokomoro3\")\\nprint(f\"{hoge}, {id(hoge)}\")', 'hoge = \"hoge\"\\nprint(f\"{hoge}, {id(hoge)}\")\\ndef print_message(name: str):\\n    global hoge\\n    hoge = \"hoge_local\"\\n    print(f\"ワイは{name}である。\")\\n    print(f\"{hoge}, {id(hoge)}\")\\n    return\\n\\nprint_message(\"nokomoro3\")\\nprint(f\"{hoge}, {id(hoge)}\")', 'def print_message(name: str):\\n    global hoge\\n    hoge = \"hoge_local\"\\n    print(f\"ワイは{name}である。\")\\n    print(f\"{hoge}, {id(hoge)}\")\\n    return\\n\\nprint_message(\"nokomoro3\")\\nprint(f\"{hoge}, {id(hoge)}\")', 'hoge = \"hoge\"\\nprint(f\"{hoge}, {id(hoge)}\")\\ndef print_message(name: str):\\n    global hoge\\n    hoge = \"hoge_local\"\\n    print(f\"ワイは{name}である。\")\\n    print(f\"{hoge}, {id(hoge)}\")\\n    return\\n\\nprint_message(\"nokomoro3\")\\nprint(f\"{hoge}, {id(hoge)}\")', 'def sample():\\n    fuga = \"fuga\"\\n    def print_message(name: str):\\n        print(f\"ワイは{name}である。\")\\n        print(f\"{fuga}\")\\n        return\\n\\n    print_message(\"nokomoro3\")', 'def sample():\\n    fuga = \"fuga\"\\n    def print_message(name: str):\\n        print(f\"ワイは{name}である。\")\\n        print(f\"{fuga}\")\\n        return\\n\\n    print_message(\"nokomoro3\")\\n\\nsample()', 'def sample():\\n    fuga = \"fuga\"\\n    print(locals())\\n    def print_message(name: str):\\n        print(locals())\\n        print(f\"ワイは{name}である。\")\\n        print(f\"{fuga}\")\\n        return\\n\\n    print_message(\"nokomoro3\")\\n\\nsample()', 'def sample():\\n    fuga = \"fuga\"\\n    print(locals())\\n    def print_message(name: str):\\n        fuga = \"fugafuga\"\\n        print(locals())\\n        print(f\"ワイは{name}である。\")\\n        print(f\"{fuga}\")\\n        return\\n\\n    print_message(\"nokomoro3\")\\n\\nsample()', 'def sample():\\n    fuga = \"fuga\"\\n    print(locals())\\n    def print_message(name: str):\\n        fuga = \"fugafuga\"\\n        print(locals())\\n        print(f\"ワイは{name}である。\")\\n        print(f\"{fuga}, {id(fuga)}\")\\n        return\\n\\n    print_message(\"nokomoro3\")\\n\\nsample()', 'def sample():\\n    fuga = \"fuga\"\\n    print(f\"{fuga}, {id(fuga)}\")\\n    print(locals())\\n    def print_message(name: str):\\n        fuga = \"fugafuga\"\\n        print(locals())\\n        print(f\"ワイは{name}である。\")\\n        print(f\"{fuga}, {id(fuga)}\")\\n        return\\n\\n    print_message(\"nokomoro3\")\\n\\nsample()', 'def sample():\\n    fuga = \"fuga\"\\n    print(f\"{fuga}, {id(fuga)}\")\\n    print(locals())\\n    def print_message(name: str):\\n        # fuga = \"fugafuga\"\\n        print(locals())\\n        print(f\"ワイは{name}である。\")\\n        print(f\"{fuga}, {id(fuga)}\")\\n        return\\n\\n    print_message(\"nokomoro3\")\\n\\nsample()', 'def sample():\\n    fuga = \"fuga\"\\n    print(f\"{fuga}, {id(fuga)}\")\\n    print(locals())\\n    def print_message(name: str):\\n        fuga = \"fugafuga\"\\n        print(locals())\\n        print(f\"ワイは{name}である。\")\\n        print(f\"{fuga}, {id(fuga)}\")\\n        return\\n\\n    print_message(\"nokomoro3\")\\n    print(f\"{fuga}, {id(fuga)}\")\\n\\nsample()', 'def sample():\\n    fuga = \"fuga\"\\n    print(f\"{fuga}, {id(fuga)}\")\\n    print(locals())\\n    def print_message(name: str):\\n        print(f\"{fuga}, {id(fuga)}\")\\n        fuga = \"fugafuga\"\\n        print(locals())\\n        print(f\"ワイは{name}である。\")\\n        print(f\"{fuga}, {id(fuga)}\")\\n        return\\n\\n    print_message(\"nokomoro3\")\\n    print(f\"{fuga}, {id(fuga)}\")\\n\\nsample()', 'hoge = \"hoge\"\\nprint(f\"{hoge}, {id(hoge)}\")\\ndef print_message(name: str):\\n    global hoge\\n    hoge = \"hoge_local\"\\n    print(f\"ワイは{name}である。\")\\n    print(f\"{hoge}, {id(hoge)}\")\\n    return\\n\\nprint_message(\"nokomoro3\")\\nprint(f\"{hoge}, {id(hoge)}\")', 'hoge = \"hoge\"\\nprint(f\"{hoge}, {id(hoge)}\")\\ndef print_message(name: str):\\n    print(f\"{hoge}, {id(hoge)}\")\\n    hoge = \"hoge_local\"\\n    print(f\"ワイは{name}である。\")\\n    print(f\"{hoge}, {id(hoge)}\")\\n    return\\n\\nprint_message(\"nokomoro3\")\\nprint(f\"{hoge}, {id(hoge)}\")', 'hoge = \"hoge\"\\nprint(f\"{hoge}, {id(hoge)}\")\\ndef print_message(name: str):\\n    print(f\"{hoge}, {id(hoge)}\")\\n    # hoge = \"hoge_local\"\\n    print(f\"ワイは{name}である。\")\\n    print(f\"{hoge}, {id(hoge)}\")\\n    return\\n\\nprint_message(\"nokomoro3\")\\nprint(f\"{hoge}, {id(hoge)}\")', 'hoge = \"hoge\"\\nprint(f\"{hoge}, {id(hoge)}\")\\ndef print_message(name: str):\\n    print(f\"{hoge}, {id(hoge)}\")\\n    hoge = \"hoge_local\"\\n    print(f\"ワイは{name}である。\")\\n    print(f\"{hoge}, {id(hoge)}\")\\n    return\\n\\nprint_message(\"nokomoro3\")\\nprint(f\"{hoge}, {id(hoge)}\")', 'def sample():\\n    fuga = \"fuga\"\\n    print(f\"{fuga}, {id(fuga)}\")\\n    def print_message(name: str):\\n        fuga = \"fugafuga\"\\n        print(locals())\\n        print(f\"ワイは{name}である。\")\\n        print(f\"{fuga}, {id(fuga)}\")\\n        return\\n\\n    print_message(\"nokomoro3\")\\n    print(f\"{fuga}, {id(fuga)}\")\\n\\nsample()', 'hoge = \"hoge\"\\ndef print_message(name: str):\\n    print(locals()) # add\\n    print(globals()) # add\\n    print(f\"ワイは{name}である。\")\\n    print(f\"{hoge}\")\\n    return\\n\\nprint_message(\"nokomoro3\")'], 'Out': {}, 'get_ipython': <bound method InteractiveShell.get_ipython of <ipykernel.zmqshell.ZMQInteractiveShell object at 0x000002DBC2DF0910>>, 'exit': <IPython.core.autocall.ZMQExitAutocall object at 0x000002DBC2E25520>, 'quit': <IPython.core.autocall.ZMQExitAutocall object at 0x000002DBC2E25520>, 'open': <function open at 0x000002DBC13514C0>, '_': '', '__': '', '___': '', '__vsc_ipynb_file__': 'c:\\\\Users\\\\nakamura.shogo\\\\Desktop\\\\repos\\\\cm-nakamura-shogo\\\\python-training\\\\doc\\\\lecture\\\\function-class\\\\README.ipynb', '_i': 'def sample():\\n    fuga = \"fuga\"\\n    print(f\"{fuga}, {id(fuga)}\")\\n    def print_message(name: str):\\n        fuga = \"fugafuga\"\\n        print(locals())\\n        print(f\"ワイは{name}である。\")\\n        print(f\"{fuga}, {id(fuga)}\")\\n        return\\n\\n    print_message(\"nokomoro3\")\\n    print(f\"{fuga}, {id(fuga)}\")\\n\\nsample()', '_ii': 'hoge = \"hoge\"\\nprint(f\"{hoge}, {id(hoge)}\")\\ndef print_message(name: str):\\n    print(f\"{hoge}, {id(hoge)}\")\\n    hoge = \"hoge_local\"\\n    print(f\"ワイは{name}である。\")\\n    print(f\"{hoge}, {id(hoge)}\")\\n    return\\n\\nprint_message(\"nokomoro3\")\\nprint(f\"{hoge}, {id(hoge)}\")', '_iii': 'hoge = \"hoge\"\\nprint(f\"{hoge}, {id(hoge)}\")\\ndef print_message(name: str):\\n    print(f\"{hoge}, {id(hoge)}\")\\n    # hoge = \"hoge_local\"\\n    print(f\"ワイは{name}である。\")\\n    print(f\"{hoge}, {id(hoge)}\")\\n    return\\n\\nprint_message(\"nokomoro3\")\\nprint(f\"{hoge}, {id(hoge)}\")', '_i1': 'hoge = \"hoge\"\\ndef print_message(name: str):\\n    print(locals())\\n    print(globals())\\n    print(f\"ワイは{name}である。\")\\n    print(f\"{hoge}\")\\n    return\\n\\nprint_message(\"nokomoro3\")', 'hoge': 'hoge', 'print_message': <function print_message at 0x000002DBC2FC5310>, '_i2': 'hoge = \"hoge\"\\ndef print_message(name: str):\\n    hoge = \"hoge_local\"\\n    print(f\"ワイは{name}である。\")\\n    print(f\"{hoge}\")\\n    return\\n\\nprint_message(\"nokomoro3\")', '_i3': 'hoge = \"hoge\"\\ndef print_message(name: str):\\n    print(type(locals()))\\n    print(globals())\\n    print(f\"ワイは{name}である。\")\\n    print(f\"{hoge}\")\\n    return\\n\\nprint_message(\"nokomoro3\")', '_i4': 'hoge = \"hoge\"\\ndef print_message(name: str):\\n    print(locals())\\n    print(globals())\\n    print(f\"ワイは{name}である。\")\\n    print(f\"{hoge}\")\\n    return\\n\\nprint_message(\"nokomoro3\")', '_i5': 'hoge = \"hoge\"\\ndef print_message(name: str):\\n    hoge = \"hoge_local\"\\n    print(f\"ワイは{name}である。\")\\n    print(f\"{hoge}\")\\n    return\\n\\nprint_message(\"nokomoro3\")\\nprint(f\"{hoge}\")', '_i6': 'hoge = \"hoge\"\\ndef print_message(name: str):\\n    hoge = \"hoge_local\"\\n    print(f\"ワイは{name}である。\")\\n    print(f\"{hoge}, {id(hoge)}\")\\n    return\\n\\nprint_message(\"nokomoro3\")\\nprint(f\"{hoge}, {id(hoge)}\")', '_i7': 'hoge = \"hoge\"\\ndef print_message(name: str):\\n    # hoge = \"hoge_local\"\\n    print(f\"ワイは{name}である。\")\\n    print(f\"{hoge}, {id(hoge)}\")\\n    return\\n\\nprint_message(\"nokomoro3\")\\nprint(f\"{hoge}, {id(hoge)}\")', '_i8': 'hoge = \"hoge\"\\ndef print_message(name: str):\\n    print(f\"{hoge}, {id(hoge)}\")\\n    hoge = \"hoge_local\"\\n    print(f\"ワイは{name}である。\")\\n    print(f\"{hoge}, {id(hoge)}\")\\n    return\\n\\nprint_message(\"nokomoro3\")\\nprint(f\"{hoge}, {id(hoge)}\")', '_i9': 'hoge = \"hoge\"\\ndef print_message(name: str):\\n    # print(f\"{hoge}, {id(hoge)}\")\\n    hoge = \"hoge_local\"\\n    print(f\"ワイは{name}である。\")\\n    print(f\"{hoge}, {id(hoge)}\")\\n    return\\n\\nprint_message(\"nokomoro3\")\\nprint(f\"{hoge}, {id(hoge)}\")', '_i10': 'hoge = \"hoge\"\\ndef print_message(name: str):\\n    print(f\"{hoge}, {id(hoge)}\")\\n    # hoge = \"hoge_local\"\\n    print(f\"ワイは{name}である。\")\\n    print(f\"{hoge}, {id(hoge)}\")\\n    return\\n\\nprint_message(\"nokomoro3\")\\nprint(f\"{hoge}, {id(hoge)}\")', '_i11': 'hoge = \"hoge\"\\ndef print_message(name: str):\\n    # print(f\"{hoge}, {id(hoge)}\")\\n    hoge = \"hoge_local\"\\n    print(f\"ワイは{name}である。\")\\n    print(f\"{hoge}, {id(hoge)}\")\\n    return\\n\\nprint_message(\"nokomoro3\")\\nprint(f\"{hoge}, {id(hoge)}\")', '_i12': 'hoge = \"hoge\"\\ndef print_message(name: str):\\n    print(f\"{hoge}, {id(hoge)}\")\\n    hoge = \"hoge_local\"\\n    print(f\"ワイは{name}である。\")\\n    print(f\"{hoge}, {id(hoge)}\")\\n    return\\n\\nprint_message(\"nokomoro3\")\\nprint(f\"{hoge}, {id(hoge)}\")', '_i13': 'hoge = \"hoge\"\\ndef print_message(name: str):\\n    hoge = \"hoge_local\"\\n    print(f\"ワイは{name}である。\")\\n    print(f\"{hoge}, {id(hoge)}\")\\n    return\\n\\nprint_message(\"nokomoro3\")\\nprint(f\"{hoge}, {id(hoge)}\")', '_i14': 'hoge = \"hoge\"\\ndef print_message(name: str):\\n    global hoge\\n    hoge = \"hoge_local\"\\n    print(f\"ワイは{name}である。\")\\n    print(f\"{hoge}, {id(hoge)}\")\\n    return\\n\\nprint_message(\"nokomoro3\")\\nprint(f\"{hoge}, {id(hoge)}\")', '_i15': 'hoge = \"hoge\"\\nprint(f\"{hoge}, {id(hoge)}\")\\ndef print_message(name: str):\\n    hoge = \"hoge_local\"\\n    print(f\"ワイは{name}である。\")\\n    print(f\"{hoge}, {id(hoge)}\")\\n    return\\n\\nprint_message(\"nokomoro3\")\\nprint(f\"{hoge}, {id(hoge)}\")', '_i16': 'hoge = \"hoge\"\\nprint(f\"{hoge}, {id(hoge)}\")\\ndef print_message(name: str):\\n    global hoge\\n    hoge = \"hoge_local\"\\n    print(f\"ワイは{name}である。\")\\n    print(f\"{hoge}, {id(hoge)}\")\\n    return\\n\\nprint_message(\"nokomoro3\")\\nprint(f\"{hoge}, {id(hoge)}\")', '_i17': 'def print_message(name: str):\\n    global hoge\\n    hoge = \"hoge_local\"\\n    print(f\"ワイは{name}である。\")\\n    print(f\"{hoge}, {id(hoge)}\")\\n    return\\n\\nprint_message(\"nokomoro3\")\\nprint(f\"{hoge}, {id(hoge)}\")', '_i18': 'hoge = \"hoge\"\\nprint(f\"{hoge}, {id(hoge)}\")\\ndef print_message(name: str):\\n    global hoge\\n    hoge = \"hoge_local\"\\n    print(f\"ワイは{name}である。\")\\n    print(f\"{hoge}, {id(hoge)}\")\\n    return\\n\\nprint_message(\"nokomoro3\")\\nprint(f\"{hoge}, {id(hoge)}\")', '_i19': 'def sample():\\n    fuga = \"fuga\"\\n    def print_message(name: str):\\n        print(f\"ワイは{name}である。\")\\n        print(f\"{fuga}\")\\n        return\\n\\n    print_message(\"nokomoro3\")', 'sample': <function sample at 0x000002DBC42C15E0>, '_i20': 'def sample():\\n    fuga = \"fuga\"\\n    def print_message(name: str):\\n        print(f\"ワイは{name}である。\")\\n        print(f\"{fuga}\")\\n        return\\n\\n    print_message(\"nokomoro3\")\\n\\nsample()', '_i21': 'def sample():\\n    fuga = \"fuga\"\\n    print(locals())\\n    def print_message(name: str):\\n        print(locals())\\n        print(f\"ワイは{name}である。\")\\n        print(f\"{fuga}\")\\n        return\\n\\n    print_message(\"nokomoro3\")\\n\\nsample()', '_i22': 'def sample():\\n    fuga = \"fuga\"\\n    print(locals())\\n    def print_message(name: str):\\n        fuga = \"fugafuga\"\\n        print(locals())\\n        print(f\"ワイは{name}である。\")\\n        print(f\"{fuga}\")\\n        return\\n\\n    print_message(\"nokomoro3\")\\n\\nsample()', '_i23': 'def sample():\\n    fuga = \"fuga\"\\n    print(locals())\\n    def print_message(name: str):\\n        fuga = \"fugafuga\"\\n        print(locals())\\n        print(f\"ワイは{name}である。\")\\n        print(f\"{fuga}, {id(fuga)}\")\\n        return\\n\\n    print_message(\"nokomoro3\")\\n\\nsample()', '_i24': 'def sample():\\n    fuga = \"fuga\"\\n    print(f\"{fuga}, {id(fuga)}\")\\n    print(locals())\\n    def print_message(name: str):\\n        fuga = \"fugafuga\"\\n        print(locals())\\n        print(f\"ワイは{name}である。\")\\n        print(f\"{fuga}, {id(fuga)}\")\\n        return\\n\\n    print_message(\"nokomoro3\")\\n\\nsample()', '_i25': 'def sample():\\n    fuga = \"fuga\"\\n    print(f\"{fuga}, {id(fuga)}\")\\n    print(locals())\\n    def print_message(name: str):\\n        # fuga = \"fugafuga\"\\n        print(locals())\\n        print(f\"ワイは{name}である。\")\\n        print(f\"{fuga}, {id(fuga)}\")\\n        return\\n\\n    print_message(\"nokomoro3\")\\n\\nsample()', '_i26': 'def sample():\\n    fuga = \"fuga\"\\n    print(f\"{fuga}, {id(fuga)}\")\\n    print(locals())\\n    def print_message(name: str):\\n        fuga = \"fugafuga\"\\n        print(locals())\\n        print(f\"ワイは{name}である。\")\\n        print(f\"{fuga}, {id(fuga)}\")\\n        return\\n\\n    print_message(\"nokomoro3\")\\n    print(f\"{fuga}, {id(fuga)}\")\\n\\nsample()', '_i27': 'def sample():\\n    fuga = \"fuga\"\\n    print(f\"{fuga}, {id(fuga)}\")\\n    print(locals())\\n    def print_message(name: str):\\n        print(f\"{fuga}, {id(fuga)}\")\\n        fuga = \"fugafuga\"\\n        print(locals())\\n        print(f\"ワイは{name}である。\")\\n        print(f\"{fuga}, {id(fuga)}\")\\n        return\\n\\n    print_message(\"nokomoro3\")\\n    print(f\"{fuga}, {id(fuga)}\")\\n\\nsample()', '_i28': 'hoge = \"hoge\"\\nprint(f\"{hoge}, {id(hoge)}\")\\ndef print_message(name: str):\\n    global hoge\\n    hoge = \"hoge_local\"\\n    print(f\"ワイは{name}である。\")\\n    print(f\"{hoge}, {id(hoge)}\")\\n    return\\n\\nprint_message(\"nokomoro3\")\\nprint(f\"{hoge}, {id(hoge)}\")', '_i29': 'hoge = \"hoge\"\\nprint(f\"{hoge}, {id(hoge)}\")\\ndef print_message(name: str):\\n    print(f\"{hoge}, {id(hoge)}\")\\n    hoge = \"hoge_local\"\\n    print(f\"ワイは{name}である。\")\\n    print(f\"{hoge}, {id(hoge)}\")\\n    return\\n\\nprint_message(\"nokomoro3\")\\nprint(f\"{hoge}, {id(hoge)}\")', '_i30': 'hoge = \"hoge\"\\nprint(f\"{hoge}, {id(hoge)}\")\\ndef print_message(name: str):\\n    print(f\"{hoge}, {id(hoge)}\")\\n    # hoge = \"hoge_local\"\\n    print(f\"ワイは{name}である。\")\\n    print(f\"{hoge}, {id(hoge)}\")\\n    return\\n\\nprint_message(\"nokomoro3\")\\nprint(f\"{hoge}, {id(hoge)}\")', '_i31': 'hoge = \"hoge\"\\nprint(f\"{hoge}, {id(hoge)}\")\\ndef print_message(name: str):\\n    print(f\"{hoge}, {id(hoge)}\")\\n    hoge = \"hoge_local\"\\n    print(f\"ワイは{name}である。\")\\n    print(f\"{hoge}, {id(hoge)}\")\\n    return\\n\\nprint_message(\"nokomoro3\")\\nprint(f\"{hoge}, {id(hoge)}\")', '_i32': 'def sample():\\n    fuga = \"fuga\"\\n    print(f\"{fuga}, {id(fuga)}\")\\n    def print_message(name: str):\\n        fuga = \"fugafuga\"\\n        print(locals())\\n        print(f\"ワイは{name}である。\")\\n        print(f\"{fuga}, {id(fuga)}\")\\n        return\\n\\n    print_message(\"nokomoro3\")\\n    print(f\"{fuga}, {id(fuga)}\")\\n\\nsample()', '_i33': 'hoge = \"hoge\"\\ndef print_message(name: str):\\n    print(locals()) # add\\n    print(globals()) # add\\n    print(f\"ワイは{name}である。\")\\n    print(f\"{hoge}\")\\n    return\\n\\nprint_message(\"nokomoro3\")'}\n",
      "ワイはnokomoro3である。\n",
      "hoge\n"
     ]
    }
   ],
   "source": [
    "hoge = \"hoge\"\n",
    "def print_message(name: str):\n",
    "    print(locals()) # add\n",
    "    print(globals()) # add\n",
    "    print(f\"ワイは{name}である。\")\n",
    "    print(f\"{hoge}\")\n",
    "    return\n",
    "\n",
    "print_message(\"nokomoro3\")"
   ]
  },
  {
   "attachments": {},
   "cell_type": "markdown",
   "metadata": {},
   "source": [
    "（グローバルにはipynbの場合なので様々な変数が格納されていることがわかる。）\n",
    "\n",
    "globalsに定義済みの変数がlocalsにもある場合、関数内ではlocalsが優先されるため注意する。"
   ]
  },
  {
   "cell_type": "code",
   "execution_count": 34,
   "metadata": {},
   "outputs": [
    {
     "name": "stdout",
     "output_type": "stream",
     "text": [
      "ワイはnokomoro3である。\n",
      "hoge_local\n"
     ]
    }
   ],
   "source": [
    "hoge = \"hoge\"\n",
    "def print_message(name: str):\n",
    "    hoge = \"hoge_local\" # add locals\n",
    "    print(f\"ワイは{name}である。\")\n",
    "    print(f\"{hoge}\")\n",
    "    return\n",
    "\n",
    "print_message(\"nokomoro3\")"
   ]
  },
  {
   "attachments": {},
   "cell_type": "markdown",
   "metadata": {},
   "source": [
    "なお上記はグローバル変数を上書きしているわけではなく、関数内で宣言したローカル変数は別オブジェクトになっている。\n",
    "\n",
    "その証拠に関数を通った後でもグローバル側の値は変わらない（再代入されない）。念のためオブジェクトIDも見てみよう。"
   ]
  },
  {
   "cell_type": "code",
   "execution_count": 35,
   "metadata": {},
   "outputs": [
    {
     "name": "stdout",
     "output_type": "stream",
     "text": [
      "hoge, 3142890825200\n",
      "ワイはnokomoro3である。\n",
      "hoge_local, 3142891075824\n",
      "hoge, 3142890825200\n"
     ]
    }
   ],
   "source": [
    "hoge = \"hoge\"\n",
    "print(f\"{hoge}, {id(hoge)}\") # add id check\n",
    "def print_message(name: str):\n",
    "    hoge = \"hoge_local\"\n",
    "    print(f\"ワイは{name}である。\")\n",
    "    print(f\"{hoge}, {id(hoge)}\") # add id check\n",
    "    return\n",
    "\n",
    "print_message(\"nokomoro3\")\n",
    "print(f\"{hoge}, {id(hoge)}\") # add id check"
   ]
  },
  {
   "attachments": {},
   "cell_type": "markdown",
   "metadata": {},
   "source": [
    "### グローバル変数の変更"
   ]
  },
  {
   "attachments": {},
   "cell_type": "markdown",
   "metadata": {},
   "source": [
    "グローバル変数そのものにアクセスし値を変えたい（再代入したい）場合は以下のような宣言を使用する。"
   ]
  },
  {
   "cell_type": "code",
   "execution_count": 36,
   "metadata": {},
   "outputs": [
    {
     "name": "stdout",
     "output_type": "stream",
     "text": [
      "hoge, 3142890825200\n",
      "ワイはnokomoro3である。\n",
      "hoge_local, 3142891075824\n",
      "hoge_local, 3142891075824\n"
     ]
    }
   ],
   "source": [
    "hoge = \"hoge\"\n",
    "print(f\"{hoge}, {id(hoge)}\")\n",
    "def print_message(name: str):\n",
    "    global hoge # add global access\n",
    "    hoge = \"hoge_local\"\n",
    "    print(f\"ワイは{name}である。\")\n",
    "    print(f\"{hoge}, {id(hoge)}\")\n",
    "    return\n",
    "\n",
    "print_message(\"nokomoro3\")\n",
    "print(f\"{hoge}, {id(hoge)}\")"
   ]
  },
  {
   "attachments": {},
   "cell_type": "markdown",
   "metadata": {},
   "source": [
    "オブジェクトIDを見ると分かるように、元と同じオブジェクトというわけではないので注意が必要（そもそも文字列がimmutableなので仕方ない）。\n",
    "\n",
    "ローカルで宣言されているかどうかで、グローバルにアクセスするかどうかの挙動が変わるのも注意。\n",
    "\n",
    "つまり、ローカルで宣言されており、その宣言前にグローバル側にアクセスしようとしてもできない。"
   ]
  },
  {
   "cell_type": "code",
   "execution_count": 39,
   "metadata": {},
   "outputs": [
    {
     "name": "stdout",
     "output_type": "stream",
     "text": [
      "hoge, 3142890825200\n"
     ]
    },
    {
     "ename": "UnboundLocalError",
     "evalue": "local variable 'hoge' referenced before assignment",
     "output_type": "error",
     "traceback": [
      "\u001b[1;31m---------------------------------------------------------------------------\u001b[0m",
      "\u001b[1;31mUnboundLocalError\u001b[0m                         Traceback (most recent call last)",
      "Cell \u001b[1;32mIn[39], line 10\u001b[0m\n\u001b[0;32m      7\u001b[0m     \u001b[39mprint\u001b[39m(\u001b[39mf\u001b[39m\u001b[39m\"\u001b[39m\u001b[39m{\u001b[39;00mhoge\u001b[39m}\u001b[39;00m\u001b[39m, \u001b[39m\u001b[39m{\u001b[39;00m\u001b[39mid\u001b[39m(hoge)\u001b[39m}\u001b[39;00m\u001b[39m\"\u001b[39m)\n\u001b[0;32m      8\u001b[0m     \u001b[39mreturn\u001b[39;00m\n\u001b[1;32m---> 10\u001b[0m print_message(\u001b[39m\"\u001b[39;49m\u001b[39mnokomoro3\u001b[39;49m\u001b[39m\"\u001b[39;49m)\n\u001b[0;32m     11\u001b[0m \u001b[39mprint\u001b[39m(\u001b[39mf\u001b[39m\u001b[39m\"\u001b[39m\u001b[39m{\u001b[39;00mhoge\u001b[39m}\u001b[39;00m\u001b[39m, \u001b[39m\u001b[39m{\u001b[39;00m\u001b[39mid\u001b[39m(hoge)\u001b[39m}\u001b[39;00m\u001b[39m\"\u001b[39m)\n",
      "Cell \u001b[1;32mIn[39], line 4\u001b[0m, in \u001b[0;36mprint_message\u001b[1;34m(name)\u001b[0m\n\u001b[0;32m      3\u001b[0m \u001b[39mdef\u001b[39;00m \u001b[39mprint_message\u001b[39m(name: \u001b[39mstr\u001b[39m):\n\u001b[1;32m----> 4\u001b[0m     \u001b[39mprint\u001b[39m(\u001b[39mf\u001b[39m\u001b[39m\"\u001b[39m\u001b[39m{\u001b[39;00mhoge\u001b[39m}\u001b[39;00m\u001b[39m, \u001b[39m\u001b[39m{\u001b[39;00m\u001b[39mid\u001b[39m(hoge)\u001b[39m}\u001b[39;00m\u001b[39m\"\u001b[39m) \u001b[39m# ここがエラーに\u001b[39;00m\n\u001b[0;32m      5\u001b[0m     hoge \u001b[39m=\u001b[39m \u001b[39m\"\u001b[39m\u001b[39mhoge_local\u001b[39m\u001b[39m\"\u001b[39m \u001b[39m# ここがあると\u001b[39;00m\n\u001b[0;32m      6\u001b[0m     \u001b[39mprint\u001b[39m(\u001b[39mf\u001b[39m\u001b[39m\"\u001b[39m\u001b[39mワイは\u001b[39m\u001b[39m{\u001b[39;00mname\u001b[39m}\u001b[39;00m\u001b[39mである。\u001b[39m\u001b[39m\"\u001b[39m)\n",
      "\u001b[1;31mUnboundLocalError\u001b[0m: local variable 'hoge' referenced before assignment"
     ]
    }
   ],
   "source": [
    "hoge = \"hoge\"\n",
    "print(f\"{hoge}, {id(hoge)}\")\n",
    "def print_message(name: str):\n",
    "    print(f\"{hoge}, {id(hoge)}\") # ここがエラーに\n",
    "    hoge = \"hoge_local\" # ここがあると\n",
    "    print(f\"ワイは{name}である。\")\n",
    "    print(f\"{hoge}, {id(hoge)}\")\n",
    "    return\n",
    "\n",
    "print_message(\"nokomoro3\")\n",
    "print(f\"{hoge}, {id(hoge)}\")"
   ]
  },
  {
   "attachments": {},
   "cell_type": "markdown",
   "metadata": {},
   "source": [
    "### mutableな変数の場合"
   ]
  },
  {
   "attachments": {},
   "cell_type": "markdown",
   "metadata": {},
   "source": [
    "当然だが、mutableなデータ型の場合、globalとしなくてもアクセスさせできれば書き換えが可能になる。\n",
    "\n",
    "よくわからない場合は、mutable・immutableについて復習が必要。"
   ]
  },
  {
   "cell_type": "code",
   "execution_count": 41,
   "metadata": {},
   "outputs": [
    {
     "name": "stdout",
     "output_type": "stream",
     "text": [
      "['hoge1'], 3142912845952\n",
      "ワイはnokomoro3である。\n",
      "['hoge1', 'hoge2'], 3142912845952\n",
      "['hoge1', 'hoge2'], 3142912845952\n"
     ]
    }
   ],
   "source": [
    "hoge_list = [\"hoge1\"]\n",
    "print(f\"{hoge_list}, {id(hoge_list)}\")\n",
    "def print_message(name: str):\n",
    "    hoge_list.append(\"hoge2\")\n",
    "    print(f\"ワイは{name}である。\")\n",
    "    print(f\"{hoge_list}, {id(hoge_list)}\")\n",
    "    return\n",
    "\n",
    "print_message(\"nokomoro3\")\n",
    "print(f\"{hoge_list}, {id(hoge_list)}\")"
   ]
  },
  {
   "attachments": {},
   "cell_type": "markdown",
   "metadata": {},
   "source": [
    "上のインデントの情報を持ってこれるのは、グローバル以外でも同様だが、グローバルのように再代入する方法は準備されていない様子。"
   ]
  },
  {
   "cell_type": "code",
   "execution_count": 32,
   "metadata": {},
   "outputs": [
    {
     "name": "stdout",
     "output_type": "stream",
     "text": [
      "fuga, 3142891180656\n",
      "{'name': 'nokomoro3', 'fuga': 'fugafuga'}\n",
      "ワイはnokomoro3である。\n",
      "fugafuga, 3142911839216\n",
      "fuga, 3142891180656\n"
     ]
    }
   ],
   "source": [
    "def sample():\n",
    "    fuga = \"fuga\"\n",
    "    print(f\"{fuga}, {id(fuga)}\")\n",
    "    def print_message(name: str):\n",
    "        fuga = \"fugafuga\"\n",
    "        print(locals())\n",
    "        print(f\"ワイは{name}である。\")\n",
    "        print(f\"{fuga}, {id(fuga)}\")\n",
    "        return\n",
    "\n",
    "    print_message(\"nokomoro3\")\n",
    "    print(f\"{fuga}, {id(fuga)}\")\n",
    "\n",
    "sample()"
   ]
  },
  {
   "attachments": {},
   "cell_type": "markdown",
   "metadata": {},
   "source": [
    "### 関数化の課題"
   ]
  },
  {
   "attachments": {},
   "cell_type": "markdown",
   "metadata": {},
   "source": [
    "このようにグローバル変数など関数外にある変数を使えば、状態（データ）を保持した処理が可能となる。\n",
    "\n",
    "しかしそういったデータを保持したい処理の塊が複数ある場合、グローバル変数はどこからでも参照可能なので問題が発生する。\n",
    "\n",
    "そのためデータと処理をまとめるためのクラスというものが使われる。"
   ]
  },
  {
   "attachments": {},
   "cell_type": "markdown",
   "metadata": {},
   "source": [
    "## クラス"
   ]
  },
  {
   "attachments": {},
   "cell_type": "markdown",
   "metadata": {},
   "source": [
    "クラス化とは何か。端的にいうと関連するデータ（変数）と処理（関数）をまとめるためのものである。\n",
    "\n",
    "よく「クラスを使えば、現実世界のオブジェクトに当てはめてプログラミングをできる」などといかがわしい情報があるが、これは誤りである。\n",
    "\n",
    "クラスは関連するものであれば抽象的でもよいし、現実の機構がかならずしもプログラミングの構造上適切であるとは限らない。\n",
    "\n",
    "クラスを使う理由は、現実世界のモデリングではなく、極論関数を使う理由とそこまで変わらない。\n",
    "\n",
    "クラスを使う理由をあげてみよう。\n",
    "\n",
    "- 同じような処理を複数箇所に埋め込むことを避けられる\n",
    "- 上記のためメンテが楽になる\n",
    "- 適切なクラス名であれば抽象的なままコードを読むことができる\n",
    "- クラス単位でテスト（単体試験）を行うことができる\n",
    "- 同時に理解する範囲が狭くなり認知しやすくなる（関数内の変数に外部から基本的にはアクセスできないためスコープが狭まる）\n",
    "- 単純に分担がしやすくなる\n",
    "\n",
    "ほぼ関数のときと同じことを書いており、これがより効率的に実現できる手法と考えればよい。"
   ]
  },
  {
   "attachments": {},
   "cell_type": "markdown",
   "metadata": {},
   "source": [
    "### クラスの例"
   ]
  },
  {
   "cell_type": "code",
   "execution_count": 47,
   "metadata": {},
   "outputs": [
    {
     "name": "stdout",
     "output_type": "stream",
     "text": [
      "ゴロゴロ...うれしいニャン\n",
      "にゃー\n",
      "（は？名前よべし）\n"
     ]
    }
   ],
   "source": [
    "class SampleCat():\n",
    "    def __init__(self, name: str):\n",
    "        self.name = name\n",
    "    def なでる(self):\n",
    "        print(\"ゴロゴロ...うれしいニャン\")\n",
    "    def 呼びかける(self, name: str):\n",
    "        if self.name in name:\n",
    "            print(\"にゃー\")\n",
    "        else:\n",
    "            print(\"（は？名前よべし）\")\n",
    "\n",
    "tama = SampleCat(\"たま\") # インスタンス化\n",
    "tama.なでる()\n",
    "tama.呼びかける(\"たま、こっちおいで\")\n",
    "tama.呼びかける(\"おーい、こっちおいで\")"
   ]
  },
  {
   "attachments": {},
   "cell_type": "markdown",
   "metadata": {},
   "source": [
    "`__init__`はマジックメソッドであり、この場合はコンストラクタである。コンストラクタはインスタンス化時に実行される初期化関数。\n",
    "\n",
    "マジックメソッドの詳細は以下を参照。一応デストラクタとして`__del__`もあるみたい。\n",
    "\n",
    "- [http://www.ops.dti.ne.jp/ironpython.beginner/method.html](http://www.ops.dti.ne.jp/ironpython.beginner/method.html)\n",
    "\n",
    "またクラス内の第一引数は`self`を付ける必要があり、クラス内で呼び出す場合は`self.関数名`で呼び出す。\n",
    "\n",
    "`self.変数名`はクラス内でアクセス可能な変数であり、インスタンス内にデータが保持される。"
   ]
  },
  {
   "attachments": {},
   "cell_type": "markdown",
   "metadata": {},
   "source": [
    "### クラス関数"
   ]
  },
  {
   "attachments": {},
   "cell_type": "markdown",
   "metadata": {},
   "source": [
    "さきほど定義した`def なでる(self)`という関数は、クラスのデータに依存しない。そのためインスタンスではなくクラス関数にしても良い。\n",
    "\n",
    "クラス関数は、`@classmethod`デコレータで囲み、`self`の代わりに`cls`を第一引数に持つ。"
   ]
  },
  {
   "cell_type": "code",
   "execution_count": 70,
   "metadata": {},
   "outputs": [
    {
     "name": "stdout",
     "output_type": "stream",
     "text": [
      "たま\n",
      "ゴロゴロ...うれしいニャン\n",
      "にゃー\n",
      "（は？名前よべし）\n"
     ]
    }
   ],
   "source": [
    "class SampleCat():\n",
    "    @classmethod\n",
    "    def なでる(cls):\n",
    "        print(\"ゴロゴロ...うれしいニャン\")\n",
    "    def __init__(self, name: str):\n",
    "        self.name = name\n",
    "    def 呼びかける(self, name: str):\n",
    "        if self.name in name:\n",
    "            print(\"にゃー\")\n",
    "        else:\n",
    "            print(\"（は？名前よべし）\")\n",
    "\n",
    "tama = SampleCat(\"たま\") # インスタンス化\n",
    "\n",
    "print(tama.name)\n",
    "\n",
    "tama.なでる()\n",
    "tama.呼びかける(\"たま、こっちおいで\")\n",
    "tama.呼びかける(\"おーい、こっちおいで\")"
   ]
  },
  {
   "attachments": {},
   "cell_type": "markdown",
   "metadata": {},
   "source": [
    "クラス関数はインスタンス化せずに呼び出すことも可能（この例では少し奇妙だが）"
   ]
  },
  {
   "cell_type": "code",
   "execution_count": 66,
   "metadata": {},
   "outputs": [
    {
     "name": "stdout",
     "output_type": "stream",
     "text": [
      "ゴロゴロ...うれしいニャン\n"
     ]
    }
   ],
   "source": [
    "SampleCat.なでる()"
   ]
  },
  {
   "attachments": {},
   "cell_type": "markdown",
   "metadata": {},
   "source": [
    "classmethodを使うシーンは以下を参照\n",
    "\n",
    "- [Pythonのクラスメソッド（@classmethod）とは？使いどころとメソッドとの違いを解説 - Python学習チャンネル by PyQ](https://blog.pyq.jp/entry/Python_kaiketsu_190205)"
   ]
  },
  {
   "attachments": {},
   "cell_type": "markdown",
   "metadata": {},
   "source": [
    "### staticmethodとclassmethodの違い"
   ]
  },
  {
   "attachments": {},
   "cell_type": "markdown",
   "metadata": {},
   "source": [
    "あまり気にしなくて良い。基本的には`@classmethod`を使えばOK。`@staticmethod`はclsを暗黙的に第一引数にとらない。\n",
    "\n",
    "- [Python の staticmethod と classmethod のちがい - Life with Python](https://www.lifewithpython.com/2014/02/python-difference-between-staticmethod-and-classmethod.html)\n",
    "\n",
    "clsにあるものを使わない場合は、`@staticmethod`でも良いよということ。"
   ]
  },
  {
   "attachments": {},
   "cell_type": "markdown",
   "metadata": {},
   "source": [
    "### クラス変数"
   ]
  },
  {
   "attachments": {},
   "cell_type": "markdown",
   "metadata": {},
   "source": [
    "クラス変数は、メンバ関数とおなじインデント記述すればそのような動きになる。（インスタンス化前にアクセスできる）"
   ]
  },
  {
   "cell_type": "code",
   "execution_count": 71,
   "metadata": {},
   "outputs": [
    {
     "name": "stdout",
     "output_type": "stream",
     "text": [
      "hoge\n"
     ]
    }
   ],
   "source": [
    "class SampleCat():\n",
    "    sample_class_var = \"hoge\"\n",
    "    @classmethod\n",
    "    def なでる(cls):\n",
    "        print(\"ゴロゴロ...うれしいニャン\")\n",
    "    def __init__(self, name: str):\n",
    "        self.name = name\n",
    "        self.hoge = name\n",
    "    def 呼びかける(self, name: str):\n",
    "        if self.name in name:\n",
    "            print(\"にゃー\")\n",
    "        else:\n",
    "            print(\"（は？名前よべし）\")\n",
    "\n",
    "print(SampleCat.sample_class_var)"
   ]
  },
  {
   "attachments": {},
   "cell_type": "markdown",
   "metadata": {},
   "source": [
    "このクラス変数はクラスのどこでも再代入できるので要注意。"
   ]
  },
  {
   "cell_type": "code",
   "execution_count": 72,
   "metadata": {},
   "outputs": [
    {
     "name": "stdout",
     "output_type": "stream",
     "text": [
      "hoge\n"
     ]
    }
   ],
   "source": [
    "class SampleCat():\n",
    "    sample_class_var = \"hoge\"\n",
    "    @classmethod\n",
    "    def なでる(cls):\n",
    "        print(\"ゴロゴロ...うれしいニャン\")\n",
    "    def __init__(self, name: str):\n",
    "        self.name = name\n",
    "        self.hoge = name\n",
    "    def 呼びかける(self, name: str):\n",
    "        if self.name in name:\n",
    "            print(\"にゃー\")\n",
    "        else:\n",
    "            print(\"（は？名前よべし）\")\n",
    "\n",
    "print(SampleCat.sample_class_var)"
   ]
  },
  {
   "attachments": {},
   "cell_type": "markdown",
   "metadata": {},
   "source": [
    "### finalな変数（定数）の定義"
   ]
  },
  {
   "attachments": {},
   "cell_type": "markdown",
   "metadata": {},
   "source": [
    "定数とは一度代入すると、再代入できない定数のこと。PEP8ではすべて大文字のアンダーバー区切りとなっている。\n",
    "\n",
    "Python 3.7まではfinalな変数（定数）は定義できなかったが、Python 3.8のtypingモジュールでは定義できるようになった。\n",
    "\n",
    "- [Pythonで型を極める【Python 3.9対応】 - Qiita](https://qiita.com/papi_tokei/items/bf652696d6b98f23565a)"
   ]
  },
  {
   "attachments": {},
   "cell_type": "markdown",
   "metadata": {},
   "source": [
    "## PEP8に基づく命名規則"
   ]
  },
  {
   "attachments": {},
   "cell_type": "markdown",
   "metadata": {},
   "source": [
    "ここでいまいちど、PEP8に基づく命名規則を抑えておこう。\n",
    "\n",
    "- [Python命名規則（PEP8より) - Qiita](https://qiita.com/shiracamus/items/bc3bdfc206b39e0a75b2)\n",
    "\n",
    "ここらへんも\n",
    "\n",
    "- [Pythonのアンダースコア( _ )を使いこなそう！. Pythonを上手そうに見させる手品の一つ「アンダースコア」の4種類の使い方を説… | by Neil Wu | LSC PSD | Medium](https://medium.com/lsc-psd/pythonic%E8%89%B2%E3%80%85-python%E3%81%AE%E3%82%A2%E3%83%B3%E3%83%80%E3%83%BC%E3%82%B9%E3%82%B3%E3%82%A2-%E3%82%92%E4%BD%BF%E3%81%84%E3%81%93%E3%81%AA%E3%81%9D%E3%81%86-3c132842eeef)"
   ]
  },
  {
   "cell_type": "markdown",
   "metadata": {},
   "source": []
  }
 ],
 "metadata": {
  "kernelspec": {
   "display_name": "python-training-OAfC8-HB-py3.9",
   "language": "python",
   "name": "python3"
  },
  "language_info": {
   "codemirror_mode": {
    "name": "ipython",
    "version": 3
   },
   "file_extension": ".py",
   "mimetype": "text/x-python",
   "name": "python",
   "nbconvert_exporter": "python",
   "pygments_lexer": "ipython3",
   "version": "3.9.6"
  },
  "orig_nbformat": 4,
  "vscode": {
   "interpreter": {
    "hash": "f1bb3037b7047e51bb8afb7259a11f25a654836601d1df17e921fadb5d562f2f"
   }
  }
 },
 "nbformat": 4,
 "nbformat_minor": 2
}
