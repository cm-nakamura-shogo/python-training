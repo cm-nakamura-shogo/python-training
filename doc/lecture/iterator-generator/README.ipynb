{
 "cells": [
  {
   "attachments": {},
   "cell_type": "markdown",
   "metadata": {},
   "source": [
    "<a href=\"https://colab.research.google.com/github/cm-nakamura-shogo/python-training/blob/master/doc/lecture/iterator-generator/README.ipynb\" target=\"_parent\"><img src=\"https://colab.research.google.com/assets/colab-badge.svg\" alt=\"Open In Colab\"/></a>"
   ]
  },
  {
   "attachments": {},
   "cell_type": "markdown",
   "metadata": {},
   "source": [
    "# iteratorとgenerator"
   ]
  },
  {
   "attachments": {},
   "cell_type": "markdown",
   "metadata": {},
   "source": [
    "ここでは以下についてやります。\n",
    "\n",
    "- iteratorとは\n",
    "- iteratorとiterableの違い\n",
    "- generatorとは\n",
    "- yiledってなんだ？\n",
    "- itertoolsの使い方"
   ]
  },
  {
   "attachments": {},
   "cell_type": "markdown",
   "metadata": {},
   "source": [
    "## iterator"
   ]
  },
  {
   "cell_type": "markdown",
   "metadata": {},
   "source": [
    "### iteratorとは"
   ]
  },
  {
   "attachments": {},
   "cell_type": "markdown",
   "metadata": {},
   "source": [
    "iteratorとはイテレータプロトコルをもつコンテナのこと。`__next__`と`__iter__`というメソッドを持てはiteratorと言ってよい。\n",
    "\n",
    "自作のiteratorの例をエキPyから持ってきた。"
   ]
  },
  {
   "cell_type": "code",
   "execution_count": 79,
   "metadata": {},
   "outputs": [],
   "source": [
    "class CountDown:\n",
    "    def __init__(self, step):\n",
    "        self.step = step\n",
    "\n",
    "    def __next__(self):\n",
    "        if self.step <= 0:\n",
    "            raise StopIteration\n",
    "        self.step -= 1\n",
    "        return self.step\n",
    "\n",
    "    def __iter__(self):\n",
    "        return self"
   ]
  },
  {
   "attachments": {},
   "cell_type": "markdown",
   "metadata": {},
   "source": [
    "iteratorは以下のようにfor文でループさせることができる。ループを抜けるタイミングは、`StopIteration`という例外が投げられた時。"
   ]
  },
  {
   "cell_type": "code",
   "execution_count": 80,
   "metadata": {},
   "outputs": [
    {
     "name": "stdout",
     "output_type": "stream",
     "text": [
      "2\n",
      "1\n",
      "0\n"
     ]
    }
   ],
   "source": [
    "count_down = CountDown(3)\n",
    "for i in count_down:\n",
    "    print(i)"
   ]
  },
  {
   "attachments": {},
   "cell_type": "markdown",
   "metadata": {},
   "source": [
    "この実装では、もう一度繰り返すことはできない。"
   ]
  },
  {
   "cell_type": "code",
   "execution_count": 81,
   "metadata": {},
   "outputs": [],
   "source": [
    "for i in count_down:\n",
    "    print(i)"
   ]
  },
  {
   "attachments": {},
   "cell_type": "markdown",
   "metadata": {},
   "source": [
    "繰り返し使用したい場合は、iteratorと状態を分割する。"
   ]
  },
  {
   "cell_type": "code",
   "execution_count": 26,
   "metadata": {},
   "outputs": [],
   "source": [
    "class CountState:\n",
    "    def __init__(self, step):\n",
    "        self.step = step\n",
    "\n",
    "    def __next__(self):\n",
    "        if self.step <= 0:\n",
    "            raise StopIteration\n",
    "        self.step -= 1\n",
    "        return self.step\n",
    "\n",
    "class CountDown:\n",
    "    def __init__(self, step):\n",
    "        self.step = step\n",
    "\n",
    "    def __iter__(self):\n",
    "        return CountState(self.step)"
   ]
  },
  {
   "cell_type": "code",
   "execution_count": 27,
   "metadata": {},
   "outputs": [
    {
     "name": "stdout",
     "output_type": "stream",
     "text": [
      "2\n",
      "1\n",
      "0\n",
      "2\n",
      "1\n",
      "0\n"
     ]
    }
   ],
   "source": [
    "count_down = CountDown(3)\n",
    "for i in count_down:\n",
    "    print(i)\n",
    "for i in count_down:\n",
    "    print(i)"
   ]
  },
  {
   "attachments": {},
   "cell_type": "markdown",
   "metadata": {},
   "source": [
    "### iteratorとiterable"
   ]
  },
  {
   "attachments": {},
   "cell_type": "markdown",
   "metadata": {},
   "source": [
    "これまででてきたlist, tupleなどはiterableではあるがiteratorではない。\n",
    "\n",
    "iterableは`iter()`を使うことによりiteratorにすることができる。（iteratorは`iter()`を使ってもiteratorのまま）"
   ]
  },
  {
   "cell_type": "code",
   "execution_count": 103,
   "metadata": {},
   "outputs": [
    {
     "name": "stdout",
     "output_type": "stream",
     "text": [
      "0\n",
      "1\n",
      "2\n",
      "3\n",
      "4\n",
      "\n"
     ]
    }
   ],
   "source": [
    "sample_list = [0,1,2,3,4]\n",
    "\n",
    "iterator = iter(sample_list)\n",
    "\n",
    "try:\n",
    "    print(iterator.__next__())\n",
    "    print(iterator.__next__())\n",
    "    print(iterator.__next__())\n",
    "    print(iterator.__next__())\n",
    "    print(iterator.__next__())\n",
    "    print(iterator.__next__())\n",
    "except Exception as e:\n",
    "    print(e)"
   ]
  },
  {
   "attachments": {},
   "cell_type": "markdown",
   "metadata": {},
   "source": [
    "rangeも実はiterableであり、iteratorではない。"
   ]
  },
  {
   "cell_type": "code",
   "execution_count": 100,
   "metadata": {},
   "outputs": [
    {
     "name": "stdout",
     "output_type": "stream",
     "text": [
      "'range' object has no attribute '__next__'\n"
     ]
    }
   ],
   "source": [
    "iterable = range(5)\n",
    "\n",
    "try:\n",
    "    print(iterable.__next__())\n",
    "except Exception as e:\n",
    "    print(e)"
   ]
  },
  {
   "attachments": {},
   "cell_type": "markdown",
   "metadata": {},
   "source": [
    "iterableは、`[3]`のように要素にアクセスできる。"
   ]
  },
  {
   "cell_type": "code",
   "execution_count": 44,
   "metadata": {},
   "outputs": [
    {
     "data": {
      "text/plain": [
       "3"
      ]
     },
     "execution_count": 44,
     "metadata": {},
     "output_type": "execute_result"
    }
   ],
   "source": [
    "iterable[3]"
   ]
  },
  {
   "cell_type": "code",
   "execution_count": 45,
   "metadata": {},
   "outputs": [
    {
     "name": "stdout",
     "output_type": "stream",
     "text": [
      "0\n"
     ]
    }
   ],
   "source": [
    "iterator = iter(iterable)\n",
    "print(iterator.__next__())"
   ]
  },
  {
   "attachments": {},
   "cell_type": "markdown",
   "metadata": {},
   "source": [
    "enumerate, zipは、iteratorである。"
   ]
  },
  {
   "cell_type": "code",
   "execution_count": 40,
   "metadata": {},
   "outputs": [
    {
     "name": "stdout",
     "output_type": "stream",
     "text": [
      "(0, 5)\n"
     ]
    }
   ],
   "source": [
    "sample_list = [5,4,3,2,1]\n",
    "\n",
    "iterator = enumerate(sample_list)\n",
    "print(iterator.__next__())"
   ]
  },
  {
   "cell_type": "code",
   "execution_count": 41,
   "metadata": {},
   "outputs": [
    {
     "name": "stdout",
     "output_type": "stream",
     "text": [
      "(5, 2)\n"
     ]
    }
   ],
   "source": [
    "sample_list = [5,4,3,2,1]\n",
    "sample_list2 = [2,5,2,5,2]\n",
    "\n",
    "iterator = zip(sample_list, sample_list2)\n",
    "print(iterator.__next__())"
   ]
  },
  {
   "attachments": {},
   "cell_type": "markdown",
   "metadata": {},
   "source": [
    "### iteratorの要素にアクセスしたい"
   ]
  },
  {
   "attachments": {},
   "cell_type": "markdown",
   "metadata": {},
   "source": [
    "iteratorはiterableと違い、要素番号で以下のようにアクセスできない。"
   ]
  },
  {
   "cell_type": "code",
   "execution_count": 2,
   "metadata": {},
   "outputs": [
    {
     "name": "stdout",
     "output_type": "stream",
     "text": [
      "'enumerate' object is not subscriptable\n"
     ]
    }
   ],
   "source": [
    "sample_list = [5,4,3,2,1]\n",
    "\n",
    "iterator = enumerate(sample_list)\n",
    "\n",
    "try:\n",
    "    iterator[3]\n",
    "except Exception as e:\n",
    "    print(e)"
   ]
  },
  {
   "cell_type": "code",
   "execution_count": 3,
   "metadata": {},
   "outputs": [
    {
     "data": {
      "text/plain": [
       "(3, 2)"
      ]
     },
     "execution_count": 3,
     "metadata": {},
     "output_type": "execute_result"
    }
   ],
   "source": [
    "[i for i in enumerate(sample_list)][3]"
   ]
  },
  {
   "attachments": {},
   "cell_type": "markdown",
   "metadata": {},
   "source": [
    "初期はこの`object is not subscriptable`が意味が分からなくてつまずくことが多い。\n",
    "\n",
    "解決策としては以下のように一度アンパックしてしまう。"
   ]
  },
  {
   "cell_type": "code",
   "execution_count": 1,
   "metadata": {},
   "outputs": [
    {
     "name": "stdout",
     "output_type": "stream",
     "text": [
      "(3, 2)\n"
     ]
    }
   ],
   "source": [
    "sample_list = [5,4,3,2,1]\n",
    "iterator = enumerate(sample_list)\n",
    "print([*iterator][3])"
   ]
  },
  {
   "attachments": {},
   "cell_type": "markdown",
   "metadata": {},
   "source": [
    "まとめると以下のような感じ。\n",
    "\n",
    "- iterable\n",
    "  - 要素番号`[n]`で要素アクセス可能。\n",
    "  - iteratorにするためには`iter()`で囲む\n",
    "  - 例は、list, tuple, dict, setなど。rangeも。\n",
    "- iterator\n",
    "  - 要素番号`[n]`で要素アクセス不可。アンパックして実体化が必要。\n",
    "  - `iter()`で囲ってもiteratorのまま\n",
    "  - 例は、zipやenumerateなど。\n",
    "\n",
    "以下もご参考\n",
    "- [4-2. イテラブルとイテレータ — Pythonプログラミング入門 documentation](https://utokyo-ipp.github.io/4/4-2.html)"
   ]
  },
  {
   "attachments": {},
   "cell_type": "markdown",
   "metadata": {},
   "source": [
    "## generator"
   ]
  },
  {
   "attachments": {},
   "cell_type": "markdown",
   "metadata": {},
   "source": [
    "generatorはyieldを伴う関数で実装されたiterator。generator iteratorと公式では呼ばれている。\n",
    "\n",
    "以下はgeneratorでカウントダウンを実装した例。"
   ]
  },
  {
   "cell_type": "code",
   "execution_count": 69,
   "metadata": {},
   "outputs": [
    {
     "name": "stdout",
     "output_type": "stream",
     "text": [
      "4\n",
      "3\n",
      "2\n",
      "1\n",
      "0\n"
     ]
    }
   ],
   "source": [
    "def count_down(n: int):\n",
    "    count = n\n",
    "    while count>0:\n",
    "        count = count - 1\n",
    "        yield count\n",
    "\n",
    "for i in count_down(5):\n",
    "    print(i)"
   ]
  },
  {
   "cell_type": "code",
   "execution_count": 73,
   "metadata": {},
   "outputs": [
    {
     "name": "stdout",
     "output_type": "stream",
     "text": [
      "<class 'generator'>\n"
     ]
    }
   ],
   "source": [
    "gen = count_down(5)\n",
    "print(type(gen))"
   ]
  },
  {
   "attachments": {},
   "cell_type": "markdown",
   "metadata": {},
   "source": [
    "iteratorのように`__next__()`で次のデータにアクセスが可能。"
   ]
  },
  {
   "cell_type": "code",
   "execution_count": 74,
   "metadata": {},
   "outputs": [
    {
     "name": "stdout",
     "output_type": "stream",
     "text": [
      "4\n",
      "3\n",
      "2\n",
      "1\n",
      "0\n"
     ]
    }
   ],
   "source": [
    "print(gen.__next__())\n",
    "print(gen.__next__())\n",
    "print(gen.__next__())\n",
    "print(gen.__next__())\n",
    "print(gen.__next__())"
   ]
  },
  {
   "attachments": {},
   "cell_type": "markdown",
   "metadata": {},
   "source": [
    "generatorはpathlibのglobなどはその実装例である。"
   ]
  },
  {
   "cell_type": "code",
   "execution_count": 75,
   "metadata": {},
   "outputs": [
    {
     "name": "stdout",
     "output_type": "stream",
     "text": [
      "<class 'generator'>\n"
     ]
    }
   ],
   "source": [
    "import pathlib\n",
    "gen = pathlib.Path(\".\").glob(\"**/*\")\n",
    "print(type(gen))"
   ]
  },
  {
   "attachments": {},
   "cell_type": "markdown",
   "metadata": {},
   "source": [
    "generatorもiteratorの一種であるので、要素へ直接アクセスできない。"
   ]
  },
  {
   "cell_type": "code",
   "execution_count": 97,
   "metadata": {},
   "outputs": [
    {
     "name": "stdout",
     "output_type": "stream",
     "text": [
      "'generator' object is not subscriptable\n"
     ]
    }
   ],
   "source": [
    "gen = count_down(5)\n",
    "try:\n",
    "    print(gen[3])\n",
    "except Exception as e:\n",
    "    print(e)"
   ]
  },
  {
   "attachments": {},
   "cell_type": "markdown",
   "metadata": {},
   "source": [
    "iterator同様、要素にアクセスするにはアンパックして実体化させる。"
   ]
  },
  {
   "cell_type": "code",
   "execution_count": 79,
   "metadata": {},
   "outputs": [
    {
     "name": "stdout",
     "output_type": "stream",
     "text": [
      "1\n"
     ]
    }
   ],
   "source": [
    "gen = count_down(5)\n",
    "print([*gen][3])"
   ]
  },
  {
   "attachments": {},
   "cell_type": "markdown",
   "metadata": {},
   "source": [
    "### generatorのメリット"
   ]
  },
  {
   "attachments": {},
   "cell_type": "markdown",
   "metadata": {},
   "source": [
    "いくつかgeneratorのメリットを整理しておく\n",
    "\n",
    "- generatorは単なる関数なので、容易に実装可能\n",
    "- メモリにすべてのデータを置く必要がないためメモリ効率がよい（？）\n",
    "- 上記のため、無限長のiteratorを作成することも可能（？）\n",
    "- 後述のsendを使ってgenerator側と対話ができる。\n",
    "\n",
    "ただし通常のiteratorも実装次第では、2,3番目の特性を持つので特有のメリットではないように思える。\n",
    "\n",
    "4番目の特性も、自身でAPIを作成すれば実装できる。\n",
    "\n",
    "なので本質的にはそれらを簡易に書けるという1番目の特性がメリットかなと考える。"
   ]
  },
  {
   "attachments": {},
   "cell_type": "markdown",
   "metadata": {},
   "source": [
    "### generatorのsend処理"
   ]
  },
  {
   "attachments": {},
   "cell_type": "markdown",
   "metadata": {},
   "source": [
    "generatorはsend処理をすることにより、generator側に値を返すことができる。"
   ]
  },
  {
   "cell_type": "code",
   "execution_count": 4,
   "metadata": {},
   "outputs": [
    {
     "name": "stdout",
     "output_type": "stream",
     "text": [
      "gen.__next__()=4\n",
      "send_value=None\n",
      "gen.__next__()=3\n",
      "send_value='hoge'\n",
      "gen.send('hoge')=2\n",
      "send_value='fuga'\n",
      "gen.send('fuga')=1\n"
     ]
    }
   ],
   "source": [
    "def count_down(n: int):\n",
    "    count = n\n",
    "    while count>0:\n",
    "        count = count - 1\n",
    "        send_value = yield count\n",
    "        print(f\"{send_value=}\")\n",
    "\n",
    "gen = count_down(5)\n",
    "print(f\"{gen.__next__()=}\")\n",
    "print(f\"{gen.__next__()=}\")\n",
    "print(f\"{gen.send('hoge')=}\")\n",
    "print(f\"{gen.send('fuga')=}\")"
   ]
  },
  {
   "attachments": {},
   "cell_type": "markdown",
   "metadata": {},
   "source": [
    "sendでも__next__のように一つ先に進むので送った後に結果を得るという形になります。\n",
    "\n",
    "なお、何もsendしていない場合は`None`となっていることが分かる。"
   ]
  },
  {
   "attachments": {},
   "cell_type": "markdown",
   "metadata": {},
   "source": [
    "### generatorのreturn"
   ]
  },
  {
   "attachments": {},
   "cell_type": "markdown",
   "metadata": {},
   "source": [
    "generatorでreturnをすると、強制的に終了される。\n",
    "\n",
    "またreturnすることで、値を`StopIteration`に含めることができる。"
   ]
  },
  {
   "cell_type": "code",
   "execution_count": 96,
   "metadata": {},
   "outputs": [
    {
     "name": "stdout",
     "output_type": "stream",
     "text": [
      "gen.__next__()=4\n",
      "finish\n"
     ]
    }
   ],
   "source": [
    "def count_down(n: int):\n",
    "    count = n\n",
    "    while count>0:\n",
    "        if count % 2 == 0:\n",
    "            return \"finish\"\n",
    "        count = count - 1\n",
    "        yield count\n",
    "\n",
    "try:\n",
    "    gen = count_down(5)\n",
    "    print(f\"{gen.__next__()=}\")\n",
    "    print(f\"{gen.__next__()=}\")\n",
    "except Exception as e:\n",
    "    print(e)"
   ]
  },
  {
   "attachments": {},
   "cell_type": "markdown",
   "metadata": {},
   "source": [
    "### まとめ\n",
    "\n",
    "- generatorはyieldで値を逐次生成する。\n",
    "- generatorは関数で実装できるためiteratorよりも簡単に作成できる。\n",
    "- generatorはiteratorと同様要素のアクセスにアンパックが必要。\n",
    "- generatorの型には、YieldType, SendType, ReturnTypeがある。\n",
    "\n",
    "ここら辺の話は以下もご参考\n",
    "\n",
    "- [Pythonのジェネレータってyieldするだけじゃなかったんだね](https://zenn.dev/alivelimb/articles/20220505-typing-generator)"
   ]
  },
  {
   "cell_type": "markdown",
   "metadata": {},
   "source": [
    "## itertools"
   ]
  },
  {
   "attachments": {},
   "cell_type": "markdown",
   "metadata": {},
   "source": [
    "累積和、グループ化、順列、組み合わせなどが求められる。\n",
    "\n",
    "- [すごいぞitertoolsくん - Qiita](https://qiita.com/anmint/items/37ca0ded5e1d360b51f3)\n",
    "\n",
    "網羅するならば以下。\n",
    "\n",
    "- [itertools --- 効率的なループ実行のためのイテレータ生成関数 — Python 3.11.1 ドキュメント](https://docs.python.org/ja/3/library/itertools.html)\n",
    "\n",
    "itertoolsは基本的にはイテレータを返す。実例を見ていく。"
   ]
  },
  {
   "attachments": {},
   "cell_type": "markdown",
   "metadata": {},
   "source": [
    "### accumulate : 累積和"
   ]
  },
  {
   "cell_type": "code",
   "execution_count": 104,
   "metadata": {},
   "outputs": [
    {
     "name": "stdout",
     "output_type": "stream",
     "text": [
      "[1, 3, 6, 10, 15]\n"
     ]
    }
   ],
   "source": [
    "import itertools\n",
    "\n",
    "print([*itertools.accumulate([1,2,3,4,5])])"
   ]
  },
  {
   "attachments": {},
   "cell_type": "markdown",
   "metadata": {},
   "source": [
    "### chain, chain.from_iterable : 複数のiterableをつなげる。"
   ]
  },
  {
   "cell_type": "code",
   "execution_count": 109,
   "metadata": {},
   "outputs": [
    {
     "name": "stdout",
     "output_type": "stream",
     "text": [
      "[1, 2, 3, 4, 5, 6]\n"
     ]
    }
   ],
   "source": [
    "print([*itertools.chain([1,2,3],[4,5,6])])"
   ]
  },
  {
   "cell_type": "code",
   "execution_count": 112,
   "metadata": {},
   "outputs": [
    {
     "name": "stdout",
     "output_type": "stream",
     "text": [
      "[1, 2, 3, 4, 5, 6]\n"
     ]
    }
   ],
   "source": [
    "print([*itertools.chain.from_iterable([[1,2,3],[4,5,6]])])"
   ]
  },
  {
   "attachments": {},
   "cell_type": "markdown",
   "metadata": {},
   "source": [
    "### compress : フラグでselectする。"
   ]
  },
  {
   "cell_type": "code",
   "execution_count": 113,
   "metadata": {},
   "outputs": [
    {
     "name": "stdout",
     "output_type": "stream",
     "text": [
      "[1, 4, 5]\n"
     ]
    }
   ],
   "source": [
    "print([*itertools.compress([1,2,3,4,5], [1,0,0,1,1])])"
   ]
  },
  {
   "attachments": {},
   "cell_type": "markdown",
   "metadata": {},
   "source": [
    "### takewhile, dropwhile : 要素を先頭から辿り、要素が偽になるまで、と偽になった後をそれぞれ抽出する。"
   ]
  },
  {
   "cell_type": "code",
   "execution_count": 117,
   "metadata": {},
   "outputs": [
    {
     "name": "stdout",
     "output_type": "stream",
     "text": [
      "[1, 2, 3]\n"
     ]
    }
   ],
   "source": [
    "print([*itertools.takewhile(lambda x: x!=10, [1,2,3,10,4,3,2,10])])"
   ]
  },
  {
   "cell_type": "code",
   "execution_count": 118,
   "metadata": {},
   "outputs": [
    {
     "name": "stdout",
     "output_type": "stream",
     "text": [
      "[10, 4, 3, 2, 10]\n"
     ]
    }
   ],
   "source": [
    "print([*itertools.dropwhile(lambda x: x!=10, [1,2,3,10,4,3,2,10])])"
   ]
  },
  {
   "attachments": {},
   "cell_type": "markdown",
   "metadata": {},
   "source": [
    "### filterfalse : 偽になる要素を抽出"
   ]
  },
  {
   "cell_type": "code",
   "execution_count": 119,
   "metadata": {},
   "outputs": [
    {
     "name": "stdout",
     "output_type": "stream",
     "text": [
      "[1, 3, 5]\n"
     ]
    }
   ],
   "source": [
    "print([*itertools.filterfalse(lambda x: x%2==0, [1,2,3,4,5])])"
   ]
  },
  {
   "attachments": {},
   "cell_type": "markdown",
   "metadata": {},
   "source": [
    "### groupby : 連続した同一要素をグループ化する。"
   ]
  },
  {
   "cell_type": "code",
   "execution_count": 146,
   "metadata": {},
   "outputs": [
    {
     "name": "stdout",
     "output_type": "stream",
     "text": [
      "val=1, [*it]=[1]\n",
      "val=2, [*it]=[2, 2]\n",
      "val=3, [*it]=[3, 3, 3]\n",
      "val=2, [*it]=[2, 2, 2, 2]\n",
      "val=1, [*it]=[1, 1, 1, 1, 1]\n"
     ]
    }
   ],
   "source": [
    "for val, it in itertools.groupby([1,2,2,3,3,3,2,2,2,2,1,1,1,1,1]):\n",
    "    print(f\"{val=}, {[*it]=}\")"
   ]
  },
  {
   "attachments": {},
   "cell_type": "markdown",
   "metadata": {},
   "source": [
    "islice : 普通のスライスと同じ。負のindexが使えないので、あまり使うことはない気がする。"
   ]
  },
  {
   "cell_type": "code",
   "execution_count": 131,
   "metadata": {},
   "outputs": [
    {
     "name": "stdout",
     "output_type": "stream",
     "text": [
      "[2, 4]\n"
     ]
    }
   ],
   "source": [
    "print([*itertools.islice([1,2,3,4,5], 1, 4, 2)])"
   ]
  },
  {
   "attachments": {},
   "cell_type": "markdown",
   "metadata": {},
   "source": [
    "### pairwise : 先頭から2個ずつ取ってくる。これは3.10以降でしか使えない"
   ]
  },
  {
   "cell_type": "code",
   "execution_count": 134,
   "metadata": {},
   "outputs": [],
   "source": [
    "# print([*itertools.pairwise([1,2,3,4,5,6])])"
   ]
  },
  {
   "attachments": {},
   "cell_type": "markdown",
   "metadata": {},
   "source": [
    "### starmap : ある関数と引数の組で一括処理する。"
   ]
  },
  {
   "cell_type": "code",
   "execution_count": 137,
   "metadata": {},
   "outputs": [
    {
     "name": "stdout",
     "output_type": "stream",
     "text": [
      "[3, 5, 7]\n"
     ]
    }
   ],
   "source": [
    "print([*itertools.starmap(lambda x,y: x+y, [[1,2],[2,3],[3,4]])])"
   ]
  },
  {
   "attachments": {},
   "cell_type": "markdown",
   "metadata": {},
   "source": [
    "### tee : iterableをn個のiteratorで生成する。複数回iteratorとして使いたいものがある場合に有効。"
   ]
  },
  {
   "attachments": {},
   "cell_type": "markdown",
   "metadata": {},
   "source": [
    "通常はiteratorは１回iterationすると再度iterationできない。"
   ]
  },
  {
   "cell_type": "code",
   "execution_count": 151,
   "metadata": {},
   "outputs": [
    {
     "name": "stdout",
     "output_type": "stream",
     "text": [
      "[1, 3, 6, 10, 15]\n",
      "[]\n"
     ]
    }
   ],
   "source": [
    "it = itertools.accumulate([1,2,3,4,5])\n",
    "print([*it])\n",
    "print([*it])"
   ]
  },
  {
   "attachments": {},
   "cell_type": "markdown",
   "metadata": {},
   "source": [
    "これをteeで複数回やることが可能。"
   ]
  },
  {
   "cell_type": "code",
   "execution_count": 150,
   "metadata": {},
   "outputs": [
    {
     "name": "stdout",
     "output_type": "stream",
     "text": [
      "[1, 3, 6, 10, 15]\n",
      "[1, 3, 6, 10, 15]\n",
      "[1, 3, 6, 10, 15]\n"
     ]
    }
   ],
   "source": [
    "for it in itertools.tee(itertools.accumulate([1,2,3,4,5]), 3):\n",
    "    print([*it])"
   ]
  },
  {
   "attachments": {},
   "cell_type": "markdown",
   "metadata": {},
   "source": [
    "### zip_longest : 長さの違うzipを長い方に併せてiterationする。短い側を何で埋めるかは指定可能。"
   ]
  },
  {
   "cell_type": "code",
   "execution_count": 153,
   "metadata": {},
   "outputs": [
    {
     "name": "stdout",
     "output_type": "stream",
     "text": [
      "(1, 'a', '1')\n",
      "(2, 'b', '2')\n",
      "(3, 'c', '3')\n",
      "(4, 'd', '4')\n",
      "(5, 'e', '5')\n",
      "(-1, 'f', '6')\n",
      "(-1, 'g', '7')\n",
      "(-1, -1, '8')\n"
     ]
    }
   ],
   "source": [
    "for i in itertools.zip_longest([1,2,3,4,5],\"abcdefg\", \"12345678\", fillvalue=-1):\n",
    "    print(i)"
   ]
  },
  {
   "attachments": {},
   "cell_type": "markdown",
   "metadata": {},
   "source": [
    "### itertoolsのiteratorは元リストの参照を持っている"
   ]
  },
  {
   "attachments": {},
   "cell_type": "markdown",
   "metadata": {},
   "source": [
    "基本的に、itertoolsのiteratorは元リストを参照する形で見ている点は注意が必要である。teeなどで複数回使う場合も同様。"
   ]
  },
  {
   "cell_type": "code",
   "execution_count": 149,
   "metadata": {},
   "outputs": [
    {
     "name": "stdout",
     "output_type": "stream",
     "text": [
      "[1, 3, 6, 10, 15]\n",
      "[1, 3, 6, 10, 15, 21]\n"
     ]
    }
   ],
   "source": [
    "sample_list = [1,2,3,4,5]\n",
    "iters = itertools.accumulate(sample_list)\n",
    "print([*iters])\n",
    "iters = itertools.accumulate(sample_list)\n",
    "sample_list.append(6)\n",
    "print([*iters])"
   ]
  },
  {
   "attachments": {},
   "cell_type": "markdown",
   "metadata": {},
   "source": [
    "### product : 総当たり"
   ]
  },
  {
   "cell_type": "code",
   "execution_count": 155,
   "metadata": {},
   "outputs": [
    {
     "name": "stdout",
     "output_type": "stream",
     "text": [
      "[(1, 4), (1, 5), (1, 6), (2, 4), (2, 5), (2, 6), (3, 4), (3, 5), (3, 6)]\n"
     ]
    }
   ],
   "source": [
    "print([*itertools.product([1,2,3], [4,5,6])])"
   ]
  },
  {
   "attachments": {},
   "cell_type": "markdown",
   "metadata": {},
   "source": [
    "### permutations : 順列"
   ]
  },
  {
   "cell_type": "code",
   "execution_count": 157,
   "metadata": {},
   "outputs": [
    {
     "name": "stdout",
     "output_type": "stream",
     "text": [
      "[(1, 2, 3), (1, 2, 4), (1, 3, 2), (1, 3, 4), (1, 4, 2), (1, 4, 3), (2, 1, 3), (2, 1, 4), (2, 3, 1), (2, 3, 4), (2, 4, 1), (2, 4, 3), (3, 1, 2), (3, 1, 4), (3, 2, 1), (3, 2, 4), (3, 4, 1), (3, 4, 2), (4, 1, 2), (4, 1, 3), (4, 2, 1), (4, 2, 3), (4, 3, 1), (4, 3, 2)]\n"
     ]
    }
   ],
   "source": [
    "print([*itertools.permutations([1,2,3,4], 3)])"
   ]
  },
  {
   "attachments": {},
   "cell_type": "markdown",
   "metadata": {},
   "source": [
    "### combination : 組み合わせ"
   ]
  },
  {
   "cell_type": "code",
   "execution_count": 158,
   "metadata": {},
   "outputs": [
    {
     "name": "stdout",
     "output_type": "stream",
     "text": [
      "[(1, 2, 3), (1, 2, 4), (1, 3, 4), (2, 3, 4)]\n"
     ]
    }
   ],
   "source": [
    "print([*itertools.combinations([1,2,3,4], 3)])"
   ]
  },
  {
   "attachments": {},
   "cell_type": "markdown",
   "metadata": {},
   "source": [
    "### combinations_with_replacement : 再利用ありの組み合わせ"
   ]
  },
  {
   "cell_type": "code",
   "execution_count": 159,
   "metadata": {},
   "outputs": [
    {
     "name": "stdout",
     "output_type": "stream",
     "text": [
      "[(1, 1, 1), (1, 1, 2), (1, 1, 3), (1, 1, 4), (1, 2, 2), (1, 2, 3), (1, 2, 4), (1, 3, 3), (1, 3, 4), (1, 4, 4), (2, 2, 2), (2, 2, 3), (2, 2, 4), (2, 3, 3), (2, 3, 4), (2, 4, 4), (3, 3, 3), (3, 3, 4), (3, 4, 4), (4, 4, 4)]\n"
     ]
    }
   ],
   "source": [
    "print([*itertools.combinations_with_replacement([1,2,3,4], 3)])"
   ]
  },
  {
   "attachments": {},
   "cell_type": "markdown",
   "metadata": {},
   "source": [
    "### count : カウントアップする。無限iteratorである。"
   ]
  },
  {
   "cell_type": "code",
   "execution_count": 161,
   "metadata": {},
   "outputs": [
    {
     "name": "stdout",
     "output_type": "stream",
     "text": [
      "5\n",
      "7\n",
      "9\n",
      "11\n",
      "13\n"
     ]
    }
   ],
   "source": [
    "count = 5\n",
    "for i in itertools.count(5, 2):\n",
    "    print(i)\n",
    "    count = count - 1\n",
    "    if count == 0:\n",
    "        break"
   ]
  },
  {
   "attachments": {},
   "cell_type": "markdown",
   "metadata": {},
   "source": [
    "### cycle : シーケンスを繰り返す。無限iteratorである。"
   ]
  },
  {
   "cell_type": "code",
   "execution_count": 162,
   "metadata": {},
   "outputs": [
    {
     "name": "stdout",
     "output_type": "stream",
     "text": [
      "1\n",
      "2\n",
      "3\n",
      "1\n",
      "2\n",
      "3\n",
      "1\n",
      "2\n",
      "3\n",
      "1\n"
     ]
    }
   ],
   "source": [
    "count = 10\n",
    "for i in itertools.cycle([1,2,3]):\n",
    "    print(i)\n",
    "    count = count - 1\n",
    "    if count == 0:\n",
    "        break"
   ]
  },
  {
   "attachments": {},
   "cell_type": "markdown",
   "metadata": {},
   "source": [
    "### repeat : 一定値を繰り返す。n未設定の場合は無限iteratorである。"
   ]
  },
  {
   "cell_type": "code",
   "execution_count": 163,
   "metadata": {},
   "outputs": [
    {
     "name": "stdout",
     "output_type": "stream",
     "text": [
      "1\n",
      "1\n",
      "1\n",
      "1\n",
      "1\n"
     ]
    }
   ],
   "source": [
    "for i in itertools.repeat(1, 5):\n",
    "    print(i)"
   ]
  }
 ],
 "metadata": {
  "kernelspec": {
   "display_name": "python-training-OAfC8-HB-py3.9",
   "language": "python",
   "name": "python3"
  },
  "language_info": {
   "codemirror_mode": {
    "name": "ipython",
    "version": 3
   },
   "file_extension": ".py",
   "mimetype": "text/x-python",
   "name": "python",
   "nbconvert_exporter": "python",
   "pygments_lexer": "ipython3",
   "version": "3.9.6"
  },
  "orig_nbformat": 4,
  "vscode": {
   "interpreter": {
    "hash": "f1bb3037b7047e51bb8afb7259a11f25a654836601d1df17e921fadb5d562f2f"
   }
  }
 },
 "nbformat": 4,
 "nbformat_minor": 2
}
