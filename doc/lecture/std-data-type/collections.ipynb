{
 "cells": [
  {
   "attachments": {},
   "cell_type": "markdown",
   "metadata": {},
   "source": [
    "<a href=\"https://colab.research.google.com/github/nokomoro3/book-ml-transformers/blob/main/ml-transformers-chap01-introduction.ipynb\" target=\"_parent\"><img src=\"https://colab.research.google.com/assets/colab-badge.svg\" alt=\"Open In Colab\"/></a>"
   ]
  },
  {
   "attachments": {},
   "cell_type": "markdown",
   "metadata": {},
   "source": [
    "# collections"
   ]
  },
  {
   "attachments": {},
   "cell_type": "markdown",
   "metadata": {},
   "source": [
    "## collectionsとは\n",
    "\n",
    "list, dict, tupleなどはcollectionsである。\"ABC\"などの文字列もcollectionsとなる。\n",
    "\n",
    "その他、重要なcollectionsは以下。\n",
    "\n",
    "- namedtuple：タプルのサブクラスを作成するファクトリ関数です。名前付きの属性としても要素にアクセスできる機能を持っています。\n",
    "- deque：スタックとキューに必要な操作を備えた両端キューです。これはリストに似たコレクションですが、リストの先頭と末尾への高速な追加、削除を行うことができます。\n",
    "- ChainMap：これは辞書のようなクラスで、複数の辞書をまとめて1 つの辞書に見せるビューを作成します。\n",
    "- Counter：hashable なオブジェクトの個数をカウントするための辞書のサブクラスです。\n",
    "- OrderedDict：要素が追加された順序を管理し変更できる、辞書のサブクラスです。\n",
    "- defaultdict：要素が見つからなかったときに指定された関数を呼び出して初期値を自動作成する、辞書のサブクラスです。"
   ]
  },
  {
   "attachments": {},
   "cell_type": "markdown",
   "metadata": {},
   "source": [
    "## namedtuple"
   ]
  },
  {
   "attachments": {},
   "cell_type": "markdown",
   "metadata": {},
   "source": [
    "dictの代わりに使い、immutableなので変更不可能なdictとして使用できる。\n",
    "\n",
    "- [namedtupleで美しいpythonを書く！（翻訳） - Qiita](https://qiita.com/Seny/items/add4d03876f505442136)"
   ]
  },
  {
   "cell_type": "code",
   "execution_count": 2,
   "metadata": {},
   "outputs": [
    {
     "data": {
      "text/plain": [
       "Car(color='red', mileage=3812.4)"
      ]
     },
     "execution_count": 2,
     "metadata": {},
     "output_type": "execute_result"
    }
   ],
   "source": [
    "from collections import namedtuple\n",
    "Car = namedtuple('Car', ['color', 'mileage'])\n",
    "car = Car(\"red\", 3812.4)\n",
    "car"
   ]
  },
  {
   "attachments": {},
   "cell_type": "markdown",
   "metadata": {},
   "source": [
    "アクセスに`.`が使用可能。つまりIDEの補完が効く"
   ]
  },
  {
   "cell_type": "code",
   "execution_count": 5,
   "metadata": {},
   "outputs": [
    {
     "name": "stdout",
     "output_type": "stream",
     "text": [
      "car.color='red', car.mileage=3812.4\n"
     ]
    }
   ],
   "source": [
    "print(f\"{car.color=}, {car.mileage=}\")"
   ]
  },
  {
   "attachments": {},
   "cell_type": "markdown",
   "metadata": {},
   "source": [
    "`getattr`でもアクセス可能。"
   ]
  },
  {
   "cell_type": "code",
   "execution_count": 18,
   "metadata": {},
   "outputs": [
    {
     "name": "stdout",
     "output_type": "stream",
     "text": [
      "getattr(car, 'color')='red', getattr(car, 'mileage')=3812.4\n"
     ]
    }
   ],
   "source": [
    "print(f\"{getattr(car, 'color')=}, {getattr(car, 'mileage')=}\")"
   ]
  },
  {
   "attachments": {},
   "cell_type": "markdown",
   "metadata": {},
   "source": [
    "dictのようなアクセスはできない点のは注意。"
   ]
  },
  {
   "cell_type": "code",
   "execution_count": 20,
   "metadata": {},
   "outputs": [
    {
     "ename": "TypeError",
     "evalue": "tuple indices must be integers or slices, not str",
     "output_type": "error",
     "traceback": [
      "\u001b[1;31m---------------------------------------------------------------------------\u001b[0m",
      "\u001b[1;31mTypeError\u001b[0m                                 Traceback (most recent call last)",
      "Cell \u001b[1;32mIn[20], line 1\u001b[0m\n\u001b[1;32m----> 1\u001b[0m car[\u001b[39m\"\u001b[39;49m\u001b[39mcolor\u001b[39;49m\u001b[39m\"\u001b[39;49m], car[\u001b[39m\"\u001b[39m\u001b[39mmileage\u001b[39m\u001b[39m\"\u001b[39m]\n",
      "\u001b[1;31mTypeError\u001b[0m: tuple indices must be integers or slices, not str"
     ]
    }
   ],
   "source": [
    "car[\"color\"], car[\"mileage\"]"
   ]
  },
  {
   "attachments": {},
   "cell_type": "markdown",
   "metadata": {},
   "source": [
    "アンパックもできる。"
   ]
  },
  {
   "cell_type": "code",
   "execution_count": 7,
   "metadata": {},
   "outputs": [
    {
     "name": "stdout",
     "output_type": "stream",
     "text": [
      "red 3812.4\n"
     ]
    }
   ],
   "source": [
    "print(*car)"
   ]
  },
  {
   "attachments": {},
   "cell_type": "markdown",
   "metadata": {},
   "source": [
    "tupleと同様にimmutableなので要素を書き換えることはできない。"
   ]
  },
  {
   "cell_type": "code",
   "execution_count": 12,
   "metadata": {},
   "outputs": [
    {
     "name": "stdout",
     "output_type": "stream",
     "text": [
      "can't set attribute\n"
     ]
    }
   ],
   "source": [
    "try:\n",
    "    car.color = \"blue\"\n",
    "except Exception as e:\n",
    "    print(e)"
   ]
  },
  {
   "attachments": {},
   "cell_type": "markdown",
   "metadata": {},
   "source": [
    "インデックスでもアクセス可能で、`tuple()`に変換することも可能。"
   ]
  },
  {
   "cell_type": "code",
   "execution_count": 16,
   "metadata": {},
   "outputs": [
    {
     "name": "stdout",
     "output_type": "stream",
     "text": [
      "car[0]='red', car[1]=3812.4\n",
      "tuple(car)=('red', 3812.4)\n"
     ]
    }
   ],
   "source": [
    "print(f\"{car[0]=}, {car[1]=}\")\n",
    "\n",
    "print(f\"{tuple(car)=}\")"
   ]
  },
  {
   "attachments": {},
   "cell_type": "markdown",
   "metadata": {},
   "source": [
    "listよりtuple、dictよりnamedTupleを積極的に使用することで、immutableな変数でのプログラミングが実現できる。"
   ]
  },
  {
   "attachments": {},
   "cell_type": "markdown",
   "metadata": {},
   "source": [
    "## deque"
   ]
  },
  {
   "attachments": {},
   "cell_type": "markdown",
   "metadata": {},
   "source": [
    "スタックとキューに必要な操作を備えた両端キューです。これはリストに似たコレクションですが、リストの先頭と末尾への高速な追加、削除を行うことができます。\n",
    "\n",
    "とあるので、先頭と末尾の編集が多いデータ型には使える。この性質のためパフォーマンス重視であり、リスト同様mutableである。"
   ]
  },
  {
   "cell_type": "code",
   "execution_count": 26,
   "metadata": {},
   "outputs": [
    {
     "name": "stdout",
     "output_type": "stream",
     "text": [
      "d=deque([0, 1, 2])\n",
      "d=deque([0, 1, 2, 3])\n",
      "d=deque([-1, 0, 1, 2, 3])\n",
      "d=deque([-1, 0, 1, 2, 3, 4, 5, 6])\n",
      "d=deque([-2, -3, -4, -1, 0, 1, 2, 3, 4, 5, 6])\n",
      "v=6, d=deque([-2, -3, -4, -1, 0, 1, 2, 3, 4, 5])\n",
      "v=-2, d=deque([-3, -4, -1, 0, 1, 2, 3, 4, 5])\n",
      "d=deque([4, 5, -3, -4, -1, 0, 1, 2, 3])\n",
      "d=deque([-3, -4, -1, 0, 1, 2, 3, 4, 5])\n",
      "d=deque([3, 4, 5], maxlen=3)\n"
     ]
    }
   ],
   "source": [
    "from collections import deque\n",
    "\n",
    "d = deque([0,1,2])\n",
    "print(f\"{d=}\")\n",
    "\n",
    "d.append(3)\n",
    "print(f\"{d=}\")\n",
    "\n",
    "d.appendleft(-1)\n",
    "print(f\"{d=}\")\n",
    "\n",
    "d.extend([4,5,6]) # 複数要素を追加\n",
    "print(f\"{d=}\")\n",
    "\n",
    "d.extendleft([-4,-3,-2]) # 複数要素を追加\n",
    "print(f\"{d=}\")\n",
    "\n",
    "v = d.pop() # 末尾から取り出す\n",
    "print(f\"{v=}, {d=}\")\n",
    "\n",
    "v = d.popleft() # 先頭から取り出す\n",
    "print(f\"{v=}, {d=}\")\n",
    "\n",
    "d.rotate(2) # ずらす\n",
    "print(f\"{d=}\")\n",
    "\n",
    "d.rotate(-2) # ずらす\n",
    "print(f\"{d=}\")\n",
    "\n",
    "d = deque([*d], maxlen=3) # 最後の3つで制限される\n",
    "print(f\"{d=}\")"
   ]
  },
  {
   "attachments": {},
   "cell_type": "markdown",
   "metadata": {},
   "source": [
    "以下をご参考\n",
    "\n",
    "- [Python dequeのメソッド、使いどころ](https://qlitre-weblog.com/python-deque-how-to-use/)"
   ]
  },
  {
   "attachments": {},
   "cell_type": "markdown",
   "metadata": {},
   "source": [
    "## ChainMap\n",
    "\n",
    "これは辞書のようなクラスで、複数の辞書をまとめて1 つの辞書に見せるビューを作成します。"
   ]
  },
  {
   "cell_type": "code",
   "execution_count": 29,
   "metadata": {},
   "outputs": [
    {
     "name": "stdout",
     "output_type": "stream",
     "text": [
      "cm['E']=5\n"
     ]
    }
   ],
   "source": [
    "from collections import ChainMap\n",
    "\n",
    "d1 = {'A': 1, 'B':2}\n",
    "d2 = {'C': 3, 'D':4}\n",
    "cm = ChainMap(d1, d2)\n",
    "\n",
    "d2[\"E\"] = 5\n",
    "print(f\"{cm['E']=}\")"
   ]
  },
  {
   "attachments": {},
   "cell_type": "markdown",
   "metadata": {},
   "source": [
    "重複するキーがある場合、手前の辞書にある要素が優先される"
   ]
  },
  {
   "cell_type": "code",
   "execution_count": 30,
   "metadata": {},
   "outputs": [
    {
     "name": "stdout",
     "output_type": "stream",
     "text": [
      "cm['A']=1\n"
     ]
    }
   ],
   "source": [
    "d2[\"A\"]=0\n",
    "print(f\"{cm['A']=}\")"
   ]
  },
  {
   "attachments": {},
   "cell_type": "markdown",
   "metadata": {},
   "source": [
    "dictと同様に、`items()`, `keys()`, `values()`が使用可能。まあそこまで使いどころは思いつかない。"
   ]
  },
  {
   "attachments": {},
   "cell_type": "markdown",
   "metadata": {},
   "source": [
    "## Counter\n",
    "\n",
    "hashable なオブジェクトの個数をカウントするための辞書のサブクラスです。\n",
    "\n",
    "要素数をカウントするのに使用可能。"
   ]
  },
  {
   "cell_type": "code",
   "execution_count": 31,
   "metadata": {},
   "outputs": [
    {
     "name": "stdout",
     "output_type": "stream",
     "text": [
      "Counter({'a': 3, 'b': 2, 'c': 1, 'd': 1})\n"
     ]
    }
   ],
   "source": [
    "from collections import Counter\n",
    "a = ['a', 'b', 'c', 'd', 'a', 'a', 'b']\n",
    "c = Counter(a)\n",
    "print(c)"
   ]
  },
  {
   "attachments": {},
   "cell_type": "markdown",
   "metadata": {},
   "source": [
    "Counterは辞書型として扱える。"
   ]
  },
  {
   "cell_type": "code",
   "execution_count": 33,
   "metadata": {},
   "outputs": [
    {
     "name": "stdout",
     "output_type": "stream",
     "text": [
      "c['a']=3\n"
     ]
    }
   ],
   "source": [
    "print(f\"{c['a']=}\")"
   ]
  },
  {
   "attachments": {},
   "cell_type": "markdown",
   "metadata": {},
   "source": [
    "`most_common()`で多い順にならんだtupleのリストを得られる。"
   ]
  },
  {
   "cell_type": "code",
   "execution_count": 34,
   "metadata": {},
   "outputs": [
    {
     "data": {
      "text/plain": [
       "[('a', 3), ('b', 2), ('c', 1), ('d', 1)]"
      ]
     },
     "execution_count": 34,
     "metadata": {},
     "output_type": "execute_result"
    }
   ],
   "source": [
    "c.most_common()"
   ]
  },
  {
   "attachments": {},
   "cell_type": "markdown",
   "metadata": {},
   "source": [
    "参考\n",
    "\n",
    "- [【Python】リストの要素の数え上げ、collections.Counterの使い方 - Qiita](https://qiita.com/ell/items/259388b511e24625c0d7)"
   ]
  },
  {
   "attachments": {},
   "cell_type": "markdown",
   "metadata": {},
   "source": [
    "## OrderedDict"
   ]
  },
  {
   "attachments": {},
   "cell_type": "markdown",
   "metadata": {},
   "source": [
    "要素が追加された順序を管理し変更できる、辞書のサブクラスです。\n",
    "\n",
    "Python 3.6以降はdictが順番を保持しているので使用頻度は高くない。以下のような場合に使用するかも。\n",
    "\n",
    "- ある指定した位置に要素を追加したい場合\n",
    "- `move_to_end`などは独自メソッド\n",
    "\n",
    "参考\n",
    "\n",
    "- [Pythonの順序付き辞書OrderedDictの使い方 | note.nkmk.me](https://note.nkmk.me/python-collections-ordereddict/)"
   ]
  },
  {
   "attachments": {},
   "cell_type": "markdown",
   "metadata": {},
   "source": [
    "## defaultdict"
   ]
  },
  {
   "attachments": {},
   "cell_type": "markdown",
   "metadata": {},
   "source": [
    "要素が見つからなかったときに指定された関数を呼び出して初期値を自動作成する、辞書のサブクラスです。"
   ]
  },
  {
   "cell_type": "code",
   "execution_count": 35,
   "metadata": {},
   "outputs": [
    {
     "name": "stdout",
     "output_type": "stream",
     "text": [
      "defaultdict(<class 'int'>, {'A': 1, 'B': 1, 'C': 1, 'D': 1})\n"
     ]
    }
   ],
   "source": [
    "from collections import defaultdict\n",
    "\n",
    "keys = [\"A\", \"B\", \"C\", \"D\"]\n",
    "\n",
    "d = defaultdict(int)\n",
    "\n",
    "for key in keys:\n",
    "    d[key] += 1\n",
    "\n",
    "print(d)"
   ]
  },
  {
   "attachments": {},
   "cell_type": "markdown",
   "metadata": {},
   "source": [
    "`int`だとintの0がデフォルトになる。このほか、float()、list()、dict()が使える。"
   ]
  },
  {
   "cell_type": "code",
   "execution_count": 36,
   "metadata": {},
   "outputs": [
    {
     "name": "stdout",
     "output_type": "stream",
     "text": [
      "defaultdict(<class 'dict'>, {'A': {'aaa': 100}, 'B': {'aaa': 100}, 'C': {'aaa': 100}, 'D': {'aaa': 100}})\n"
     ]
    }
   ],
   "source": [
    "from collections import defaultdict\n",
    "\n",
    "keys = [\"A\", \"B\", \"C\", \"D\"]\n",
    "\n",
    "d = defaultdict(dict)\n",
    "\n",
    "for key in keys:\n",
    "    d[key][\"aaa\"] = 100\n",
    "\n",
    "print(d)"
   ]
  },
  {
   "attachments": {},
   "cell_type": "markdown",
   "metadata": {},
   "source": [
    "初期化についてはlambda式や関数を使用できる。"
   ]
  },
  {
   "cell_type": "code",
   "execution_count": 37,
   "metadata": {},
   "outputs": [
    {
     "name": "stdout",
     "output_type": "stream",
     "text": [
      "defaultdict(<function <lambda> at 0x000001F9CF0B5F70>, {'A': {'bbb': 200, 'aaa': 100}, 'B': {'bbb': 200, 'aaa': 100}, 'C': {'bbb': 200, 'aaa': 100}, 'D': {'bbb': 200, 'aaa': 100}})\n"
     ]
    }
   ],
   "source": [
    "from collections import defaultdict\n",
    "\n",
    "keys = [\"A\", \"B\", \"C\", \"D\"]\n",
    "\n",
    "d = defaultdict(lambda: {\"bbb\": 200})\n",
    "\n",
    "for key in keys:\n",
    "    d[key][\"aaa\"] = 100\n",
    "\n",
    "print(d)"
   ]
  },
  {
   "attachments": {},
   "cell_type": "markdown",
   "metadata": {},
   "source": [
    "ただしlambda を利用している defaultdict の場合、そのままではpickleなどでシリアライズできないため注意。\n",
    "\n",
    "以下ご参考\n",
    "\n",
    "- [Python defaultdict の使い方 - Qiita](https://qiita.com/xza/items/72a1b07fcf64d1f4bdb7)\n"
   ]
  },
  {
   "cell_type": "markdown",
   "metadata": {},
   "source": []
  }
 ],
 "metadata": {
  "kernelspec": {
   "display_name": "python-training-OAfC8-HB-py3.9",
   "language": "python",
   "name": "python3"
  },
  "language_info": {
   "codemirror_mode": {
    "name": "ipython",
    "version": 3
   },
   "file_extension": ".py",
   "mimetype": "text/x-python",
   "name": "python",
   "nbconvert_exporter": "python",
   "pygments_lexer": "ipython3",
   "version": "3.9.6"
  },
  "orig_nbformat": 4,
  "vscode": {
   "interpreter": {
    "hash": "f1bb3037b7047e51bb8afb7259a11f25a654836601d1df17e921fadb5d562f2f"
   }
  }
 },
 "nbformat": 4,
 "nbformat_minor": 2
}
