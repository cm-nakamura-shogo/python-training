{
 "cells": [
  {
   "attachments": {},
   "cell_type": "markdown",
   "metadata": {},
   "source": [
    "<a href=\"https://colab.research.google.com/github/nokomoro3/book-ml-transformers/blob/main/ml-transformers-chap01-introduction.ipynb\" target=\"_parent\"><img src=\"https://colab.research.google.com/assets/colab-badge.svg\" alt=\"Open In Colab\"/></a>"
   ]
  },
  {
   "attachments": {},
   "cell_type": "markdown",
   "metadata": {},
   "source": [
    "# collections"
   ]
  },
  {
   "attachments": {},
   "cell_type": "markdown",
   "metadata": {},
   "source": [
    "## collectionsとは\n",
    "\n",
    "list, dict, tupleなどはcollectionsである。\"ABC\"などの文字列もcollectionsとなる。\n",
    "\n",
    "その他、重要なcollectionsは以下。\n",
    "\n",
    "- namedtuple：タプルのサブクラスを作成するファクトリ関数です。名前付きの属性としても要素にアクセスできる機能を持っています。\n",
    "- deque：スタックとキューに必要な操作を備えた両端キューです。これはリストに似たコレクションですが、リストの先頭と末尾への高速な追加、削除を行うことができます。\n",
    "- ChainMap：これは辞書のようなクラスで、複数の辞書をまとめて1 つの辞書に見せるビューを作成します。\n",
    "- Counter：hashable なオブジェクトの個数をカウントするための辞書のサブクラスです。\n",
    "- OrderedDict：要素が追加された順序を管理し変更できる、辞書のサブクラスです。\n",
    "- defaultdict：要素が見つからなかったときに指定された関数を呼び出して初期値を自動作成する、辞書のサブクラスです。"
   ]
  },
  {
   "attachments": {},
   "cell_type": "markdown",
   "metadata": {},
   "source": [
    "### namedtuple"
   ]
  }
 ],
 "metadata": {
  "kernelspec": {
   "display_name": "python-training-OAfC8-HB-py3.9",
   "language": "python",
   "name": "python3"
  },
  "language_info": {
   "codemirror_mode": {
    "name": "ipython",
    "version": 3
   },
   "file_extension": ".py",
   "mimetype": "text/x-python",
   "name": "python",
   "nbconvert_exporter": "python",
   "pygments_lexer": "ipython3",
   "version": "3.9.6 (tags/v3.9.6:db3ff76, Jun 28 2021, 15:26:21) [MSC v.1929 64 bit (AMD64)]"
  },
  "orig_nbformat": 4,
  "vscode": {
   "interpreter": {
    "hash": "f1bb3037b7047e51bb8afb7259a11f25a654836601d1df17e921fadb5d562f2f"
   }
  }
 },
 "nbformat": 4,
 "nbformat_minor": 2
}
