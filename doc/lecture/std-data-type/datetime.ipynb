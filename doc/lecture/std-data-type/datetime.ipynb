{
 "cells": [
  {
   "attachments": {},
   "cell_type": "markdown",
   "metadata": {},
   "source": [
    "<a href=\"https://colab.research.google.com/github/nokomoro3/book-ml-transformers/blob/main/ml-transformers-chap01-introduction.ipynb\" target=\"_parent\"><img src=\"https://colab.research.google.com/assets/colab-badge.svg\" alt=\"Open In Colab\"/></a>"
   ]
  },
  {
   "attachments": {},
   "cell_type": "markdown",
   "metadata": {},
   "source": [
    "# datetime型"
   ]
  },
  {
   "attachments": {},
   "cell_type": "markdown",
   "metadata": {},
   "source": [
    "## datetime型について"
   ]
  },
  {
   "attachments": {},
   "cell_type": "markdown",
   "metadata": {},
   "source": [
    "### 基本操作"
   ]
  },
  {
   "attachments": {},
   "cell_type": "markdown",
   "metadata": {},
   "source": [
    "datetime型は日付を扱うデータ型である。スカラー量なのでimmutableである。\n",
    "\n",
    "基本的な使い方を見ていく。\n",
    "\n",
    "現在の取得。"
   ]
  },
  {
   "cell_type": "code",
   "execution_count": 97,
   "metadata": {},
   "outputs": [
    {
     "name": "stdout",
     "output_type": "stream",
     "text": [
      "2022-12-27 11:52:08.847950\n"
     ]
    }
   ],
   "source": [
    "from datetime import datetime\n",
    "\n",
    "print(datetime.now())"
   ]
  },
  {
   "attachments": {},
   "cell_type": "markdown",
   "metadata": {},
   "source": [
    "以降よくあるフォーマットについて、datetimeとstrの相互変換を見ていく。\n",
    "\n",
    "まずは日本でよくあるやーつ。"
   ]
  },
  {
   "cell_type": "code",
   "execution_count": 98,
   "metadata": {},
   "outputs": [
    {
     "name": "stdout",
     "output_type": "stream",
     "text": [
      "2022/12/27 11:52:08\n",
      "2022-12-27 11:52:08\n"
     ]
    }
   ],
   "source": [
    "now = datetime.now()\n",
    "\n",
    "dt_str = datetime.strftime(now, \"%Y/%m/%d %H:%M:%S\")\n",
    "print(dt_str)\n",
    "\n",
    "dt = datetime.strptime(dt_str, '%Y/%m/%d %H:%M:%S')\n",
    "print(dt)"
   ]
  },
  {
   "attachments": {},
   "cell_type": "markdown",
   "metadata": {},
   "source": [
    "米国でよくあるやーつ。"
   ]
  },
  {
   "cell_type": "code",
   "execution_count": 99,
   "metadata": {},
   "outputs": [
    {
     "name": "stdout",
     "output_type": "stream",
     "text": [
      "Dec 27 2022 11:52AM\n",
      "2022-12-27 11:52:00\n"
     ]
    }
   ],
   "source": [
    "now = datetime.now()\n",
    "\n",
    "dt_str = datetime.strftime(now, '%b %d %Y %I:%M%p')\n",
    "print(dt_str)\n",
    "\n",
    "dt = datetime.strptime(dt_str, '%b %d %Y %I:%M%p')\n",
    "print(dt)"
   ]
  },
  {
   "attachments": {},
   "cell_type": "markdown",
   "metadata": {},
   "source": [
    "RFC2822形式。"
   ]
  },
  {
   "cell_type": "code",
   "execution_count": 100,
   "metadata": {},
   "outputs": [
    {
     "name": "stdout",
     "output_type": "stream",
     "text": [
      "Tue, 27 Dec 2022 02:52:09 +0000\n",
      "2022-12-27 02:52:09+00:00\n"
     ]
    }
   ],
   "source": [
    "from datetime import timezone\n",
    "\n",
    "now = datetime.now(timezone.utc)\n",
    "\n",
    "dt_str = datetime.strftime(now, '%a, %d %b %Y %H:%M:%S %z')\n",
    "print(dt_str)\n",
    "\n",
    "dt = datetime.strptime(dt_str, '%a, %d %b %Y %H:%M:%S %z')\n",
    "print(dt)"
   ]
  },
  {
   "attachments": {},
   "cell_type": "markdown",
   "metadata": {},
   "source": [
    "ISO 8601形式は個別に関数が準備されている。（ただし`fromisoformat`はPython3.7以降で追加されている）"
   ]
  },
  {
   "cell_type": "code",
   "execution_count": 101,
   "metadata": {},
   "outputs": [
    {
     "name": "stdout",
     "output_type": "stream",
     "text": [
      "2022-12-27T02:52:09.157472+00:00\n",
      "2022-12-27 02:52:09.157472+00:00\n"
     ]
    }
   ],
   "source": [
    "now = datetime.now(timezone.utc)\n",
    "dt_str = now.isoformat()\n",
    "print(dt_str)\n",
    "\n",
    "dt = datetime.fromisoformat(dt_str)\n",
    "print(dt)"
   ]
  },
  {
   "attachments": {},
   "cell_type": "markdown",
   "metadata": {},
   "source": [
    "### timezoneについて"
   ]
  },
  {
   "attachments": {},
   "cell_type": "markdown",
   "metadata": {},
   "source": [
    "基本的に、tzinfoが出力されてないものはnaiveであり、tzinfoが出力されているものはawareである。\n",
    "\n",
    "（たまにnativeと書いてある記事を見つけるが、naiveが正しい）\n",
    "\n",
    "以下にnaiveな例とawareな例を列挙する。"
   ]
  },
  {
   "cell_type": "code",
   "execution_count": 102,
   "metadata": {},
   "outputs": [
    {
     "name": "stdout",
     "output_type": "stream",
     "text": [
      "2022-12-27 11:52:09.221472\n",
      "2022-12-27 02:52:09.221472+00:00\n"
     ]
    }
   ],
   "source": [
    "from datetime import timezone\n",
    "\n",
    "print(datetime.now())\n",
    "\n",
    "print(datetime.now(timezone.utc))"
   ]
  },
  {
   "attachments": {},
   "cell_type": "markdown",
   "metadata": {},
   "source": [
    "UTC以外のtimezoneを設定するにはいくつかの方法があり、dateutilを使うのが無難らしい。\n",
    "\n",
    "- [datetime の UTC / JSTの変換についてまとめ | Python Snippets](https://python.civic-apps.com/datetime-utc-jst-convert/)"
   ]
  },
  {
   "cell_type": "code",
   "execution_count": 103,
   "metadata": {},
   "outputs": [
    {
     "name": "stdout",
     "output_type": "stream",
     "text": [
      "2022-12-27 02:52:09.293473+00:00\n",
      "2022-12-27 11:52:09.293473+09:00\n"
     ]
    }
   ],
   "source": [
    "from dateutil import tz\n",
    "\n",
    "JST = tz.gettz('Asia/Tokyo')\n",
    "UTC = tz.gettz(\"UTC\")\n",
    "\n",
    "print(datetime.now(UTC))\n",
    "print(datetime.now(JST))"
   ]
  },
  {
   "attachments": {},
   "cell_type": "markdown",
   "metadata": {},
   "source": [
    "後付けする（naive⇒aware変換）には、astimezoneを使う。（その場合、時刻側は変わらないので注意）"
   ]
  },
  {
   "cell_type": "code",
   "execution_count": 104,
   "metadata": {},
   "outputs": [
    {
     "name": "stdout",
     "output_type": "stream",
     "text": [
      "2022-12-27 11:52:09.351448\n",
      "2022-12-27 11:52:09.351448+09:00\n"
     ]
    }
   ],
   "source": [
    "now = datetime.now()\n",
    "print(now)\n",
    "\n",
    "print(now.astimezone(JST))"
   ]
  },
  {
   "attachments": {},
   "cell_type": "markdown",
   "metadata": {},
   "source": [
    "変更する場合も、astimezoneを使う。（この場合は時刻側が変わる）"
   ]
  },
  {
   "cell_type": "code",
   "execution_count": 105,
   "metadata": {},
   "outputs": [
    {
     "name": "stdout",
     "output_type": "stream",
     "text": [
      "2022-12-27 11:52:09.408419\n",
      "2022-12-27 11:52:09.408419+09:00\n",
      "2022-12-27 02:52:09.408419+00:00\n"
     ]
    }
   ],
   "source": [
    "now = datetime.now()\n",
    "print(now)\n",
    "print(now.astimezone(JST))\n",
    "print(now.astimezone(UTC))"
   ]
  },
  {
   "attachments": {},
   "cell_type": "markdown",
   "metadata": {},
   "source": [
    "時刻を変えたくない場合は、`replace()`で強制的にtimezoneを変更することも可能。\n",
    "\n",
    "（これは例外的と考えた方がよいので、そもそも設計に問題がないかは確認した方が良い）"
   ]
  },
  {
   "cell_type": "code",
   "execution_count": 106,
   "metadata": {},
   "outputs": [
    {
     "name": "stdout",
     "output_type": "stream",
     "text": [
      "2022-12-27 11:52:09.467417\n",
      "2022-12-27 11:52:09.467417+09:00\n",
      "2022-12-27 11:52:09.467417+00:00\n"
     ]
    }
   ],
   "source": [
    "now = datetime.now()\n",
    "print(now)\n",
    "print(now.astimezone(JST))\n",
    "print(now.replace(tzinfo=UTC))"
   ]
  },
  {
   "attachments": {},
   "cell_type": "markdown",
   "metadata": {},
   "source": [
    "timezone自体を削除（aware⇒naive変換）する場合は、Noneを設定すればよい。"
   ]
  },
  {
   "cell_type": "code",
   "execution_count": 107,
   "metadata": {},
   "outputs": [
    {
     "name": "stdout",
     "output_type": "stream",
     "text": [
      "2022-12-27 11:52:09.526417\n",
      "2022-12-27 11:52:09.526417+09:00\n",
      "2022-12-27 11:52:09.526417\n"
     ]
    }
   ],
   "source": [
    "now = datetime.now()\n",
    "print(now)\n",
    "print(now.astimezone(JST))\n",
    "print(now.replace(tzinfo=None))"
   ]
  },
  {
   "attachments": {},
   "cell_type": "markdown",
   "metadata": {},
   "source": [
    "### 時間差分(timedelta)について"
   ]
  },
  {
   "attachments": {},
   "cell_type": "markdown",
   "metadata": {},
   "source": [
    "datetimeどうしを引き算すると、timedeltaクラスが生成される。"
   ]
  },
  {
   "cell_type": "code",
   "execution_count": 108,
   "metadata": {},
   "outputs": [
    {
     "name": "stdout",
     "output_type": "stream",
     "text": [
      "<class 'datetime.timedelta'>\n",
      "407 days, 21:20:46.590417\n"
     ]
    }
   ],
   "source": [
    "time_str = '2021/11/14 14:31:23'\n",
    "past_datetime = datetime.strptime(time_str, '%Y/%m/%d %H:%M:%S')\n",
    "\n",
    "delta = datetime.now() - past_datetime\n",
    "\n",
    "print(type(delta))\n",
    "print(delta)"
   ]
  },
  {
   "attachments": {},
   "cell_type": "markdown",
   "metadata": {},
   "source": [
    "timedeltaクラスは、クラスの属性値として`days`、`seconds`、`microseconds`しか持たないので注意が必要。\n",
    "\n",
    "属性をすべて合計すると、実際の差分時間となる。\n",
    "\n",
    "なのできちんと分離するには以下のような割と面倒な計算が必要になる。"
   ]
  },
  {
   "cell_type": "code",
   "execution_count": 109,
   "metadata": {},
   "outputs": [
    {
     "data": {
      "text/plain": [
       "'407 days, 21:20:46.590417'"
      ]
     },
     "execution_count": 109,
     "metadata": {},
     "output_type": "execute_result"
    }
   ],
   "source": [
    "f\"{delta.days} days, {delta.seconds // (60*60):02d}:{delta.seconds % (60*60) // (60):02d}:{delta.seconds % (60*60) % (60):02d}.{delta.microseconds}\""
   ]
  },
  {
   "attachments": {},
   "cell_type": "markdown",
   "metadata": {},
   "source": [
    "別の単位（時間単位）などで差分を知りたい場合は、以下のように別のtimedeltaで除算すればよい。\n",
    "\n",
    "- 参考\n",
    "  - [Pythonのtimedeltaで「xx時間」を一発で計算する方法 - Qiita](https://qiita.com/ksato9700/items/f8a2ea86c20ac0f34538)"
   ]
  },
  {
   "cell_type": "code",
   "execution_count": 110,
   "metadata": {},
   "outputs": [
    {
     "data": {
      "text/plain": [
       "9789.346275115833"
      ]
     },
     "execution_count": 110,
     "metadata": {},
     "output_type": "execute_result"
    }
   ],
   "source": [
    "from datetime import timedelta\n",
    "\n",
    "delta / timedelta(hours=1)"
   ]
  },
  {
   "attachments": {},
   "cell_type": "markdown",
   "metadata": {},
   "source": [
    "またdatetimeに加算することで、一週間前の日付などを求めることも可能。"
   ]
  },
  {
   "cell_type": "code",
   "execution_count": 111,
   "metadata": {},
   "outputs": [
    {
     "name": "stdout",
     "output_type": "stream",
     "text": [
      "2022-12-27 11:52:09.885418\n",
      "2022-12-20 11:52:09.885418\n"
     ]
    }
   ],
   "source": [
    "now = datetime.now()\n",
    "print(now)\n",
    "\n",
    "delta = timedelta(weeks=-1) # 負の数も指定可能\n",
    "print(now+delta)"
   ]
  },
  {
   "attachments": {},
   "cell_type": "markdown",
   "metadata": {},
   "source": [
    "timedeltaとして記述できるのはweeksまでで、monthsやyearsは指定できない。\n",
    "\n",
    "これはなぜかというと、monthsやyearsは基準となる時刻により加算すべき値が異なるため。\n",
    "\n",
    "（months=1は30日、31日、29日、28日などのバリエーションがある）\n",
    "\n",
    "なので一か月前という要求仕様は正確かどうか見極める必要がある。それは30日ではダメなのか？などの仕様を詰めるべき。\n",
    "\n",
    "どうしても１か月前が良い！という話であれば、後述の`relativedelta`を使用する。"
   ]
  },
  {
   "attachments": {},
   "cell_type": "markdown",
   "metadata": {},
   "source": [
    "### dateutil.relativedelta"
   ]
  },
  {
   "attachments": {},
   "cell_type": "markdown",
   "metadata": {},
   "source": [
    "以下のようにすれば、１か月前を計算できる。"
   ]
  },
  {
   "cell_type": "code",
   "execution_count": 112,
   "metadata": {},
   "outputs": [
    {
     "name": "stdout",
     "output_type": "stream",
     "text": [
      "2022-12-27 11:52:09.953417\n",
      "2022-11-27 11:52:09.953417\n"
     ]
    }
   ],
   "source": [
    "from dateutil.relativedelta import relativedelta\n",
    "\n",
    "now = datetime.now()\n",
    "one_month_ago = now - relativedelta(months=1)\n",
    "print(now)\n",
    "print(one_month_ago)"
   ]
  },
  {
   "attachments": {},
   "cell_type": "markdown",
   "metadata": {},
   "source": [
    "ただし、例えば12月31日の場合に11月30日となる、というような動作になるということを認識しておく必要がある。"
   ]
  },
  {
   "cell_type": "code",
   "execution_count": 113,
   "metadata": {},
   "outputs": [
    {
     "name": "stdout",
     "output_type": "stream",
     "text": [
      "2022-12-31 15:00:00\n",
      "2022-11-30 15:00:00\n"
     ]
    }
   ],
   "source": [
    "now = datetime.strptime(\"2022/12/31 15:00:00\", '%Y/%m/%d %H:%M:%S')\n",
    "one_month_ago = now - relativedelta(months=1)\n",
    "print(now)\n",
    "print(one_month_ago)"
   ]
  },
  {
   "attachments": {},
   "cell_type": "markdown",
   "metadata": {},
   "source": [
    "つまり「どうしても１か月前がいい！」という要求仕様は、\n",
    "\n",
    "言い換えれば「30日前でも31日前でも28日前でも29日前でもいいよ！そこはあいまいで！」と言っていることになる。\n",
    "\n",
    "それでも良いかどうかはきちんとすり合わせる必要があるということ。\n",
    "\n",
    "たぶんここがあいまいなので、標準のdatetimeでは扱えるようになっていないと考えられる。"
   ]
  }
 ],
 "metadata": {
  "kernelspec": {
   "display_name": "python-training-38VakdNu-py3.8",
   "language": "python",
   "name": "python3"
  },
  "language_info": {
   "codemirror_mode": {
    "name": "ipython",
    "version": 3
   },
   "file_extension": ".py",
   "mimetype": "text/x-python",
   "name": "python",
   "nbconvert_exporter": "python",
   "pygments_lexer": "ipython3",
   "version": "3.8.10"
  },
  "orig_nbformat": 4,
  "vscode": {
   "interpreter": {
    "hash": "a59d525356a01ed5c92e8a1c1a3f3c1ca8137d0d61f185b173cbb1f21f07f3cf"
   }
  }
 },
 "nbformat": 4,
 "nbformat_minor": 2
}
