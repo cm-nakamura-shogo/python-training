{
 "cells": [
  {
   "attachments": {},
   "cell_type": "markdown",
   "metadata": {},
   "source": [
    "<a href=\"https://colab.research.google.com/github/nokomoro3/book-ml-transformers/blob/main/ml-transformers-chap01-introduction.ipynb\" target=\"_parent\"><img src=\"https://colab.research.google.com/assets/colab-badge.svg\" alt=\"Open In Colab\"/></a>"
   ]
  },
  {
   "attachments": {},
   "cell_type": "markdown",
   "metadata": {},
   "source": [
    "# mutableと参照渡し（浅いコピー）"
   ]
  },
  {
   "attachments": {},
   "cell_type": "markdown",
   "metadata": {},
   "source": [
    "## mutableなものを浅いコピーした場合の注意点"
   ]
  },
  {
   "attachments": {},
   "cell_type": "markdown",
   "metadata": {},
   "source": [
    "### 現象：変更が元の変数にも影響する"
   ]
  },
  {
   "attachments": {},
   "cell_type": "markdown",
   "metadata": {},
   "source": [
    "ここまで見てきたように、list型とdict型はmutableである。\n",
    "\n",
    "またPythonでは、変数で別の変数にイコールで代入すると、必ず参照渡し（浅いコピー）となる。\n",
    "\n",
    "mutableなものが参照渡しされた場合、コピー先の変数を変更すると、コピー元の変数も変わるという現象に注意が必要。\n",
    "\n",
    "参照渡を厳密にチェックするために、オブジェクトIDを`id`で確認して、サンプルを実行する。"
   ]
  },
  {
   "cell_type": "code",
   "execution_count": 12,
   "metadata": {},
   "outputs": [
    {
     "name": "stdout",
     "output_type": "stream",
     "text": [
      "2399533861760\n",
      "0000022eaf5d0b80\n",
      "0000022eaf5d0b80\n"
     ]
    }
   ],
   "source": [
    "sample_list = [\"A\", \"B\", \"C\"]\n",
    "print(id(sample_list))\n",
    "\n",
    "print(f\"{id(sample_list):016x}\") \n",
    "\n",
    "sample_list_ref = sample_list\n",
    "print(f\"{id(sample_list_ref):016x}\") "
   ]
  },
  {
   "attachments": {},
   "cell_type": "markdown",
   "metadata": {},
   "source": [
    "この場合に、コピーされた側を変更すると、元の変数も変更される。"
   ]
  },
  {
   "cell_type": "code",
   "execution_count": 13,
   "metadata": {},
   "outputs": [
    {
     "name": "stdout",
     "output_type": "stream",
     "text": [
      "['A', 'B', 'C', 'D']\n",
      "['A', 'B', 'C', 'D']\n"
     ]
    }
   ],
   "source": [
    "sample_list_ref.append(\"D\")\n",
    "print(sample_list_ref)\n",
    "\n",
    "print(sample_list)"
   ]
  },
  {
   "attachments": {},
   "cell_type": "markdown",
   "metadata": {},
   "source": [
    "dictでも同様"
   ]
  },
  {
   "cell_type": "code",
   "execution_count": 15,
   "metadata": {},
   "outputs": [
    {
     "name": "stdout",
     "output_type": "stream",
     "text": [
      "0000022eaf5f7140\n",
      "0000022eaf5f7140\n",
      "{'A': 100, 'B': 200, 'C': 300}\n",
      "{'A': 100, 'B': 200, 'C': 300}\n"
     ]
    }
   ],
   "source": [
    "sample_dict = {\"A\": 100, \"B\": 200}\n",
    "print(f\"{id(sample_dict):016x}\")\n",
    "\n",
    "sample_dict_ref = sample_dict\n",
    "print(f\"{id(sample_dict_ref):016x}\")\n",
    "\n",
    "sample_dict_ref[\"C\"] = 300\n",
    "print(sample_dict_ref)\n",
    "\n",
    "print(sample_dict)"
   ]
  },
  {
   "attachments": {},
   "cell_type": "markdown",
   "metadata": {},
   "source": [
    "### 対策１：`.copy()`を使う"
   ]
  },
  {
   "attachments": {},
   "cell_type": "markdown",
   "metadata": {},
   "source": [
    "`.copy()`で複製すると、新しいオブジェクトとなるため、編集しても影響を及ぼさなくなる。"
   ]
  },
  {
   "cell_type": "code",
   "execution_count": 16,
   "metadata": {},
   "outputs": [
    {
     "name": "stdout",
     "output_type": "stream",
     "text": [
      "0000022eaf1cab00\n",
      "0000022eaf2fcd00\n"
     ]
    }
   ],
   "source": [
    "sample_list = [\"A\", \"B\", \"C\"]\n",
    "print(f\"{id(sample_list):016x}\") \n",
    "\n",
    "sample_list_ref = sample_list.copy()\n",
    "print(f\"{id(sample_list_ref):016x}\") "
   ]
  },
  {
   "cell_type": "code",
   "execution_count": 17,
   "metadata": {},
   "outputs": [
    {
     "name": "stdout",
     "output_type": "stream",
     "text": [
      "['A', 'B', 'C', 'D']\n",
      "['A', 'B', 'C']\n"
     ]
    }
   ],
   "source": [
    "sample_list_ref.append(\"D\")\n",
    "print(sample_list_ref)\n",
    "\n",
    "print(sample_list)"
   ]
  },
  {
   "attachments": {},
   "cell_type": "markdown",
   "metadata": {},
   "source": [
    "さて、一見落着でしょうか…？どう思いますか？\n",
    "\n",
    "次のようなlistの内部にlistがある例を見てみましょう。"
   ]
  },
  {
   "cell_type": "code",
   "execution_count": 23,
   "metadata": {},
   "outputs": [
    {
     "name": "stdout",
     "output_type": "stream",
     "text": [
      "0000022eaf5df480\n",
      "0000022eaf6060c0\n",
      "[['A', 'B', 'C', 'D'], ['D', 'E', 'F']]\n",
      "[['A', 'B', 'C', 'D'], ['D', 'E', 'F']]\n"
     ]
    }
   ],
   "source": [
    "sample_list = [[\"A\", \"B\", \"C\"],[\"D\", \"E\", \"F\"]]\n",
    "print(f\"{id(sample_list):016x}\") \n",
    "\n",
    "sample_list_ref = sample_list.copy()\n",
    "print(f\"{id(sample_list_ref):016x}\")\n",
    "\n",
    "sample_list_ref[0].append(\"D\")\n",
    "print(sample_list_ref)\n",
    "\n",
    "print(sample_list)"
   ]
  },
  {
   "attachments": {},
   "cell_type": "markdown",
   "metadata": {},
   "source": [
    "あれ？値の更新が影響を及ぼしている…？？\n",
    "\n",
    "これが落とし穴でより深刻なデバッグしにくいケースになります。\n",
    "\n",
    "`.copy()`だけでは、その要素の参照は維持されたままになるということを覚えておく必要があります。"
   ]
  },
  {
   "attachments": {},
   "cell_type": "markdown",
   "metadata": {},
   "source": [
    "### 対策２：`copy.deepcopy()`を使う"
   ]
  },
  {
   "attachments": {},
   "cell_type": "markdown",
   "metadata": {},
   "source": [
    "こういった要素の参照もきちんと別オブジェクトとしてコピーするには、copyモジュールのdeepcopyを使う必要があります。"
   ]
  },
  {
   "cell_type": "code",
   "execution_count": 22,
   "metadata": {},
   "outputs": [
    {
     "name": "stdout",
     "output_type": "stream",
     "text": [
      "0000022eaf5ef300\n",
      "0000022eaf628f80\n",
      "[['A', 'B', 'C', 'D'], ['D', 'E', 'F']]\n",
      "[['A', 'B', 'C'], ['D', 'E', 'F']]\n"
     ]
    }
   ],
   "source": [
    "import copy\n",
    "\n",
    "sample_list = [[\"A\", \"B\", \"C\"],[\"D\", \"E\", \"F\"]]\n",
    "print(f\"{id(sample_list):016x}\") \n",
    "\n",
    "sample_list_ref = copy.deepcopy(sample_list)\n",
    "print(f\"{id(sample_list_ref):016x}\")\n",
    "\n",
    "sample_list_ref[0].append(\"D\")\n",
    "print(sample_list_ref)\n",
    "\n",
    "print(sample_list)"
   ]
  },
  {
   "attachments": {},
   "cell_type": "markdown",
   "metadata": {},
   "source": [
    "## immutableなものはなぜ問題ないか"
   ]
  },
  {
   "attachments": {},
   "cell_type": "markdown",
   "metadata": {},
   "source": [
    "immutableな変数の場合も別の変数に代入した時点では参照渡し（浅いコピー）であることには変わりがない。\n",
    "\n",
    "以下のように同じオブジェクトを指している。"
   ]
  },
  {
   "cell_type": "code",
   "execution_count": 33,
   "metadata": {},
   "outputs": [
    {
     "name": "stdout",
     "output_type": "stream",
     "text": [
      "0000022eaf1ff8f0\n",
      "0000022eaf1ff8f0\n"
     ]
    }
   ],
   "source": [
    "sample_float = 3.14\n",
    "print(f\"{id(sample_float):016x}\")\n",
    "\n",
    "sample_float_copy = sample_float\n",
    "print(f\"{id(sample_float_copy):016x}\")"
   ]
  },
  {
   "attachments": {},
   "cell_type": "markdown",
   "metadata": {},
   "source": [
    "ただしimmutableなため変更はできず、新しい値を与えることしかできない。（この場合オブジェクトは新規に作成される）\n",
    "\n",
    "なので、実用上は参照渡し（浅いコピー）でも問題になることはないという話。"
   ]
  },
  {
   "cell_type": "code",
   "execution_count": 35,
   "metadata": {},
   "outputs": [
    {
     "name": "stdout",
     "output_type": "stream",
     "text": [
      "3.141592\n",
      "3.14\n"
     ]
    }
   ],
   "source": [
    "sample_float_copy = 3.141592\n",
    "print(sample_float_copy)\n",
    "\n",
    "print(sample_float)"
   ]
  },
  {
   "attachments": {},
   "cell_type": "markdown",
   "metadata": {},
   "source": [
    "…本当に問題ないのでしょうか？\n",
    "\n",
    "スカラーならそうなんですが、immutableのなかでtupleというやつに気を付ける必要があります。"
   ]
  },
  {
   "attachments": {},
   "cell_type": "markdown",
   "metadata": {},
   "source": [
    "## immutableでも要素はmutableである場合も注意"
   ]
  },
  {
   "attachments": {},
   "cell_type": "markdown",
   "metadata": {},
   "source": [
    "floatと同様、変数を代入しただけでは同じオブジェクトIDを示したままです。"
   ]
  },
  {
   "cell_type": "code",
   "execution_count": 37,
   "metadata": {},
   "outputs": [
    {
     "name": "stdout",
     "output_type": "stream",
     "text": [
      "0000022eaf61af80\n",
      "0000022eaf61af80\n"
     ]
    }
   ],
   "source": [
    "sample_tupe = (1, 3.14, [\"A\", \"B\", \"C\"])\n",
    "print(f\"{id(sample_tupe):016x}\")\n",
    "\n",
    "sample_tupe_copy = sample_tupe\n",
    "print(f\"{id(sample_tupe_copy):016x}\")"
   ]
  },
  {
   "attachments": {},
   "cell_type": "markdown",
   "metadata": {},
   "source": [
    "tuple自体はimmutableなのですが、その要素にlistを持たせれば要素をmutableにすることが可能です。\n",
    "\n",
    "ですので、変数の変更が元の変数に波及させることができます。"
   ]
  },
  {
   "cell_type": "code",
   "execution_count": 38,
   "metadata": {},
   "outputs": [
    {
     "name": "stdout",
     "output_type": "stream",
     "text": [
      "(1, 3.14, ['A', 'B', 'C', 'D'])\n",
      "(1, 3.14, ['A', 'B', 'C', 'D'])\n"
     ]
    }
   ],
   "source": [
    "sample_tupe_copy[2].append(\"D\")\n",
    "print(sample_tupe_copy)\n",
    "\n",
    "print(sample_tupe)"
   ]
  },
  {
   "attachments": {},
   "cell_type": "markdown",
   "metadata": {},
   "source": [
    "このケースでも、`copy.deepcopy()`を使えば解決することができます。"
   ]
  },
  {
   "cell_type": "code",
   "execution_count": 39,
   "metadata": {},
   "outputs": [
    {
     "name": "stdout",
     "output_type": "stream",
     "text": [
      "0000022eaf61b2c0\n",
      "0000022eaf5d7280\n",
      "(1, 3.14, ['A', 'B', 'C', 'D'])\n",
      "(1, 3.14, ['A', 'B', 'C'])\n"
     ]
    }
   ],
   "source": [
    "import copy\n",
    "\n",
    "sample_tupe = (1, 3.14, [\"A\", \"B\", \"C\"])\n",
    "print(f\"{id(sample_tupe):016x}\")\n",
    "\n",
    "sample_tupe_copy = copy.deepcopy(sample_tupe)\n",
    "print(f\"{id(sample_tupe_copy):016x}\")\n",
    "\n",
    "sample_tupe_copy[2].append(\"D\")\n",
    "print(sample_tupe_copy)\n",
    "\n",
    "print(sample_tupe)"
   ]
  },
  {
   "attachments": {},
   "cell_type": "markdown",
   "metadata": {},
   "source": [
    "## クラスの場合もmutableなので注意"
   ]
  },
  {
   "attachments": {},
   "cell_type": "markdown",
   "metadata": {},
   "source": [
    "自作したクラスなどの場合も、もちろんmutableになっているため、影響を与えないようにするためには`copy.deepcopy()`を使う必要があります。"
   ]
  },
  {
   "cell_type": "code",
   "execution_count": 6,
   "metadata": {},
   "outputs": [
    {
     "name": "stdout",
     "output_type": "stream",
     "text": [
      "age: 30\n",
      "age: 40\n",
      "age: 40\n"
     ]
    }
   ],
   "source": [
    "class Person:\n",
    "    def __init__(self, age):\n",
    "        self.age = age\n",
    "    def set_age(self, age):\n",
    "        self.age = age\n",
    "    def print_age(self):\n",
    "        print(f\"age: {self.age}\")\n",
    "\n",
    "person_A = Person(30)\n",
    "person_A.print_age()\n",
    "\n",
    "person_B = person_A\n",
    "person_B.set_age(40)\n",
    "person_B.print_age()\n",
    "\n",
    "person_A.print_age()"
   ]
  },
  {
   "cell_type": "code",
   "execution_count": 7,
   "metadata": {},
   "outputs": [
    {
     "name": "stdout",
     "output_type": "stream",
     "text": [
      "age: 30\n",
      "age: 40\n",
      "age: 30\n"
     ]
    }
   ],
   "source": [
    "import copy\n",
    "\n",
    "person_A = Person(30)\n",
    "person_A.print_age()\n",
    "\n",
    "person_B = copy.deepcopy(person_A)\n",
    "person_B.set_age(40)\n",
    "person_B.print_age()\n",
    "\n",
    "person_A.print_age()"
   ]
  },
  {
   "attachments": {},
   "cell_type": "markdown",
   "metadata": {},
   "source": [
    "## listのスライスは新しいオブジェクトになっている"
   ]
  },
  {
   "attachments": {},
   "cell_type": "markdown",
   "metadata": {},
   "source": [
    "当然ではあるが、スライスなどでlistの一部をコピーする場合は、新しいオブジェクトになっているため問題は発生しない。\n",
    "\n",
    "（もちろん要素がmutableなものを含んでいる場合は、注意が必要）"
   ]
  },
  {
   "cell_type": "code",
   "execution_count": 5,
   "metadata": {},
   "outputs": [
    {
     "name": "stdout",
     "output_type": "stream",
     "text": [
      "0000023736aa6ac0\n",
      "0000023736a6e400\n",
      "[-1, 3, 4]\n",
      "[0, 1, 2, 3, 4, 5, 6, 7, 8, 9]\n"
     ]
    }
   ],
   "source": [
    "sample_list = [0,1,2,3,4,5,6,7,8,9]\n",
    "print(f\"{id(sample_list):016x}\")\n",
    "\n",
    "sample_list2 = sample_list[2:5]\n",
    "print(f\"{id(sample_list2):016x}\")\n",
    "\n",
    "sample_list2[0] = -1\n",
    "\n",
    "print(sample_list2)\n",
    "\n",
    "print(sample_list)"
   ]
  },
  {
   "attachments": {},
   "cell_type": "markdown",
   "metadata": {},
   "source": [
    "## 教訓としては"
   ]
  },
  {
   "attachments": {},
   "cell_type": "markdown",
   "metadata": {},
   "source": [
    "結局のところmutableな扱いで、値を編集するのはスコープの狭い、見える範囲にとどめておく方が良い。\n",
    "\n",
    "間違っても関数外で編集したりすることは避けるべきだろう。\n",
    "\n",
    "クラスの場合は、避けるのが難しい実装も考えられるが、設計をきちんと行い、内部が状態が更新されても周りには影響がないような設計にすべきと考えられる。\n",
    "\n",
    "またMLなどの場合は、モデルを複製したい場合などに`copy.deepcopy()`を使うべきかもしれない。"
   ]
  },
  {
   "attachments": {},
   "cell_type": "markdown",
   "metadata": {},
   "source": [
    "### 参考\n",
    "\n",
    "- [Pythonの浅いコピーと深いコピー: copy(), deepcopy() | note.nkmk.me](https://note.nkmk.me/python-copy-deepcopy/)"
   ]
  }
 ],
 "metadata": {
  "kernelspec": {
   "display_name": "python-training-38VakdNu-py3.8",
   "language": "python",
   "name": "python3"
  },
  "language_info": {
   "codemirror_mode": {
    "name": "ipython",
    "version": 3
   },
   "file_extension": ".py",
   "mimetype": "text/x-python",
   "name": "python",
   "nbconvert_exporter": "python",
   "pygments_lexer": "ipython3",
   "version": "3.8.10"
  },
  "orig_nbformat": 4,
  "vscode": {
   "interpreter": {
    "hash": "a59d525356a01ed5c92e8a1c1a3f3c1ca8137d0d61f185b173cbb1f21f07f3cf"
   }
  }
 },
 "nbformat": 4,
 "nbformat_minor": 2
}
