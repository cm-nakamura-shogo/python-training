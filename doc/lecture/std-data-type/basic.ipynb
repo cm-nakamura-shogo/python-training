{
 "cells": [
  {
   "attachments": {},
   "cell_type": "markdown",
   "metadata": {},
   "source": [
    "<a href=\"introduction.ipynb\" target=\"_parent\"><img src=\"https://colab.research.google.com/assets/colab-badge.svg\" alt=\"Open In Colab\"/></a>"
   ]
  },
  {
   "attachments": {},
   "cell_type": "markdown",
   "metadata": {},
   "source": [
    "# 基本のデータ型"
   ]
  },
  {
   "attachments": {},
   "cell_type": "markdown",
   "metadata": {},
   "source": [
    "## データ型一覧"
   ]
  },
  {
   "attachments": {},
   "cell_type": "markdown",
   "metadata": {},
   "source": [
    "一覧については以下を一読\n",
    "\n",
    "- [図解！Python データ型を徹底解説！(確認・変換・指定方法と種類一覧) - AI-interのPython3入門](https://ai-inter1.com/python-data_type/)\n",
    "\n",
    "記載の通りだが、以下のような認識。\n",
    "\n",
    "- スカラーとしてはint, float, bool\n",
    "- 複数の値を持つデータ構造としてはlist, tuple, float, set\n",
    "  - あれ上のリンクにはsetなかったな…\n",
    "- strはちょっと特殊"
   ]
  },
  {
   "attachments": {},
   "cell_type": "markdown",
   "metadata": {},
   "source": [
    "## データ型の確認方法"
   ]
  },
  {
   "attachments": {},
   "cell_type": "markdown",
   "metadata": {},
   "source": [
    "以下のように`type`で確認する"
   ]
  },
  {
   "cell_type": "code",
   "execution_count": 110,
   "metadata": {},
   "outputs": [
    {
     "data": {
      "text/plain": [
       "float"
      ]
     },
     "execution_count": 110,
     "metadata": {},
     "output_type": "execute_result"
    }
   ],
   "source": [
    "sample_val = 3.14\n",
    "type(sample_val)"
   ]
  },
  {
   "attachments": {},
   "cell_type": "markdown",
   "metadata": {},
   "source": [
    "## listについて"
   ]
  },
  {
   "attachments": {},
   "cell_type": "markdown",
   "metadata": {},
   "source": [
    "### listの基本操作"
   ]
  },
  {
   "attachments": {},
   "cell_type": "markdown",
   "metadata": {},
   "source": [
    "基本は以下を参照\n",
    "\n",
    "- [list(リスト)型の更新と削除 | Python学習講座](https://www.python.ambitious-engineer.com/archives/137)"
   ]
  },
  {
   "attachments": {},
   "cell_type": "markdown",
   "metadata": {},
   "source": [
    "要素の追加方法は`append`以外にも`extend`もある。破壊的変更なので注意。"
   ]
  },
  {
   "cell_type": "code",
   "execution_count": 111,
   "metadata": {},
   "outputs": [
    {
     "name": "stdout",
     "output_type": "stream",
     "text": [
      "['A', 'B', 'C']\n",
      "['A', 'B', 'C', 'D', 'E']\n"
     ]
    }
   ],
   "source": [
    "sample_list = [\"A\", \"B\"]\n",
    "\n",
    "# 要素を追加\n",
    "sample_list.append(\"C\")\n",
    "print(sample_list)\n",
    "\n",
    "# 複数を追加する場合はこちら\n",
    "sample_list.extend([\"D\",\"E\"])\n",
    "print(sample_list)"
   ]
  },
  {
   "attachments": {},
   "cell_type": "markdown",
   "metadata": {},
   "source": [
    "破壊的変更をしないためには、後述のアンパックを駆使して新しいオブジェクトを作る方が良い。"
   ]
  },
  {
   "cell_type": "code",
   "execution_count": 112,
   "metadata": {},
   "outputs": [
    {
     "name": "stdout",
     "output_type": "stream",
     "text": [
      "['A', 'B', 'C']\n",
      "['A', 'B', 'C', 'D', 'E']\n"
     ]
    }
   ],
   "source": [
    "sample_list = [\"A\", \"B\"]\n",
    "\n",
    "# 要素を追加\n",
    "sample_list = [*sample_list, \"C\"]\n",
    "print(sample_list)\n",
    "\n",
    "# 複数を追加する場合はこちら\n",
    "sample_list = [*sample_list, *[\"D\", \"E\"]]\n",
    "print(sample_list)"
   ]
  },
  {
   "attachments": {},
   "cell_type": "markdown",
   "metadata": {},
   "source": [
    "### listで同じ値をもつリストを作成"
   ]
  },
  {
   "cell_type": "code",
   "execution_count": 5,
   "metadata": {},
   "outputs": [
    {
     "name": "stdout",
     "output_type": "stream",
     "text": [
      "[10, 10, 10, 10, 10, 10, 10, 10, 10, 10]\n",
      "[10, 20, 10, 20, 10, 20, 10, 20, 10, 20, 10, 20, 10, 20, 10, 20, 10, 20, 10, 20]\n",
      "[[10, 20], [10, 20], [10, 20], [10, 20], [10, 20], [10, 20], [10, 20], [10, 20], [10, 20], [10, 20]]\n"
     ]
    }
   ],
   "source": [
    "aaa = [10] * 10\n",
    "print(aaa)\n",
    "\n",
    "aaa = [10,20] * 10\n",
    "print(aaa)\n",
    "\n",
    "aaa = [[10,20]] * 10\n",
    "print(aaa)"
   ]
  },
  {
   "attachments": {},
   "cell_type": "markdown",
   "metadata": {},
   "source": [
    "### listのスライス\n",
    "\n",
    "スライスについては以下の通り。"
   ]
  },
  {
   "cell_type": "code",
   "execution_count": 113,
   "metadata": {},
   "outputs": [
    {
     "name": "stdout",
     "output_type": "stream",
     "text": [
      "[2, 3, 4]\n",
      "[0, 1, 2, 3, 4]\n",
      "[1, 2, 3, 4, 5, 6, 7, 8]\n",
      "[0, 2, 4, 6, 8]\n",
      "[0, 3, 6, 9]\n"
     ]
    }
   ],
   "source": [
    "sample_list = [0,1,2,3,4,5,6,7,8,9]\n",
    "\n",
    "print(sample_list[2:5])\n",
    "\n",
    "print(sample_list[:5])\n",
    "\n",
    "print(sample_list[1:-1])\n",
    "\n",
    "print(sample_list[::2])\n",
    "\n",
    "print(sample_list[::3])"
   ]
  },
  {
   "attachments": {},
   "cell_type": "markdown",
   "metadata": {},
   "source": [
    "### listのソート"
   ]
  },
  {
   "attachments": {},
   "cell_type": "markdown",
   "metadata": {},
   "source": [
    "ソートには`sort`と`sorted`があり、それぞれ破壊的変更とそうではないものなので注意する。"
   ]
  },
  {
   "cell_type": "code",
   "execution_count": 114,
   "metadata": {},
   "outputs": [
    {
     "name": "stdout",
     "output_type": "stream",
     "text": [
      "[1, 1, 2, 3, 5, 5, 6, 8]\n",
      "[1, 5, 2, 3, 6, 1, 5, 8]\n",
      "[1, 1, 2, 3, 5, 5, 6, 8]\n"
     ]
    }
   ],
   "source": [
    "sample_list = [1,5,2,3,6,1,5,8]\n",
    "sample_list.sort()\n",
    "print(sample_list)\n",
    "\n",
    "sample_list = [1,5,2,3,6,1,5,8]\n",
    "sample_list_sorted = sorted(sample_list)\n",
    "\n",
    "print(sample_list)\n",
    "print(sample_list_sorted)"
   ]
  },
  {
   "attachments": {},
   "cell_type": "markdown",
   "metadata": {},
   "source": [
    "### listのアンパック"
   ]
  },
  {
   "attachments": {},
   "cell_type": "markdown",
   "metadata": {},
   "source": [
    "listの要素をアンパック（カッコを外すイメージ）するためには、アスタリスクを使う。"
   ]
  },
  {
   "cell_type": "code",
   "execution_count": 115,
   "metadata": {},
   "outputs": [
    {
     "name": "stdout",
     "output_type": "stream",
     "text": [
      "[['A', 'B'], ['C', 'D', 'E']]\n",
      "['A', 'B', 'C', 'D', 'E']\n"
     ]
    }
   ],
   "source": [
    "sample_list1 = [\"A\", \"B\"]\n",
    "sample_list2 = [\"C\", \"D\", \"E\"]\n",
    "sample_list = [sample_list1, sample_list2]\n",
    "print(sample_list)\n",
    "\n",
    "sample_list = [*sample_list1, *sample_list2]\n",
    "print(sample_list)"
   ]
  },
  {
   "attachments": {},
   "cell_type": "markdown",
   "metadata": {},
   "source": [
    "アンパックは関数の引数（キーワード無し）としても展開できる。\n",
    "\n",
    "あまる部分にもアンパックを記述することで、tupleとして取得できる。"
   ]
  },
  {
   "cell_type": "code",
   "execution_count": 116,
   "metadata": {},
   "outputs": [
    {
     "name": "stdout",
     "output_type": "stream",
     "text": [
      "['A', 'B', 'C', 'D', 'E']\n",
      "A B\n",
      "('C', 'D', 'E')\n",
      "<class 'tuple'>\n"
     ]
    }
   ],
   "source": [
    "print(sample_list)\n",
    "\n",
    "def main(v1, v2, *args):\n",
    "    print(v1, v2)\n",
    "    print(args)\n",
    "    print(type(args))\n",
    "\n",
    "main(*sample_list)"
   ]
  },
  {
   "attachments": {},
   "cell_type": "markdown",
   "metadata": {},
   "source": [
    "### listの要素の型一貫性"
   ]
  },
  {
   "attachments": {},
   "cell_type": "markdown",
   "metadata": {},
   "source": [
    "listは要素の値が異なっても一つにまとめることが一応できてしまう。"
   ]
  },
  {
   "cell_type": "code",
   "execution_count": 117,
   "metadata": {},
   "outputs": [
    {
     "name": "stdout",
     "output_type": "stream",
     "text": [
      "['A', 'B', 100, 10.112]\n"
     ]
    }
   ],
   "source": [
    "sample_list = [\"A\", \"B\", 100, 10.112]\n",
    "print(sample_list)"
   ]
  },
  {
   "attachments": {},
   "cell_type": "markdown",
   "metadata": {},
   "source": [
    "ただし使い方としてはお勧めできないので、基本的にはやらない。\n",
    "\n",
    "こういったものを入れるのは後述するtupleの方が適切。\n",
    "\n",
    "やる必要がある場合はたぶん設計が何かおかしいので見直すこと。\n",
    "\n",
    "(スコープが5行程度の狭い変数であれば、まあありかもしれないが。)"
   ]
  },
  {
   "attachments": {},
   "cell_type": "markdown",
   "metadata": {},
   "source": [
    "## dictについて"
   ]
  },
  {
   "attachments": {},
   "cell_type": "markdown",
   "metadata": {},
   "source": [
    "### dictの基本操作"
   ]
  },
  {
   "attachments": {},
   "cell_type": "markdown",
   "metadata": {},
   "source": [
    "以下のようにすれば要素を追加できる。ただし破壊的変更となるので注意。"
   ]
  },
  {
   "cell_type": "code",
   "execution_count": 118,
   "metadata": {},
   "outputs": [
    {
     "name": "stdout",
     "output_type": "stream",
     "text": [
      "{'A': 100, 'B': 200, 'C': 300, 'D': 400}\n"
     ]
    }
   ],
   "source": [
    "sample_dict = {\"A\": 100, \"B\": 200, \"C\": 300}\n",
    "sample_dict[\"D\"] = 400\n",
    "\n",
    "print(sample_dict)"
   ]
  },
  {
   "attachments": {},
   "cell_type": "markdown",
   "metadata": {},
   "source": [
    "破壊的変更を避けるためには、後述するアンパックをうまく活用すれば可能。"
   ]
  },
  {
   "cell_type": "code",
   "execution_count": 119,
   "metadata": {},
   "outputs": [
    {
     "name": "stdout",
     "output_type": "stream",
     "text": [
      "{'A': 100, 'B': 200, 'C': 300, 'D': 400}\n"
     ]
    }
   ],
   "source": [
    "sample_dict = {\"A\": 100, \"B\": 200, \"C\": 300}\n",
    "sample_dict = {**sample_dict, \"D\": 400}\n",
    "\n",
    "print(sample_dict)"
   ]
  },
  {
   "attachments": {},
   "cell_type": "markdown",
   "metadata": {},
   "source": [
    "その他、基本操作は以下の通り。\n",
    "\n",
    "updateなどを使う方法やアンパックを使う方法でマージできる。\n",
    "\n",
    "- [Pythonで辞書に要素を追加、辞書同士を連結（結合） | note.nkmk.me](https://note.nkmk.me/python-dict-add-update/)\n",
    "\n",
    "こちらは削除方法。\n",
    "\n",
    "- [Pythonで辞書の要素を削除するclear, pop, popitem, del | note.nkmk.me](https://note.nkmk.me/python-dict-clear-pop-popitem-del/)\n",
    "\n",
    "アンパックでマージする場合、後にある方が優先っぽい。"
   ]
  },
  {
   "cell_type": "code",
   "execution_count": 120,
   "metadata": {},
   "outputs": [
    {
     "name": "stdout",
     "output_type": "stream",
     "text": [
      "{'A': 1000, 'B': 2000, 'C': 3000}\n"
     ]
    }
   ],
   "source": [
    "sample_dict1 = {\"A\": 100, \"B\": 200, \"C\": 300}\n",
    "sample_dict2 = {\"A\": 1000, \"B\": 2000, \"C\": 3000}\n",
    "\n",
    "sample_dict = {**sample_dict1, **sample_dict2}\n",
    "print(sample_dict)"
   ]
  },
  {
   "attachments": {},
   "cell_type": "markdown",
   "metadata": {},
   "source": [
    "### dictのアンパック"
   ]
  },
  {
   "attachments": {},
   "cell_type": "markdown",
   "metadata": {},
   "source": [
    "dict型はアスタリスクを２個でアンパックできる。（ちなみに１個にするとkeyのアンパックとなる）"
   ]
  },
  {
   "cell_type": "code",
   "execution_count": 121,
   "metadata": {},
   "outputs": [
    {
     "name": "stdout",
     "output_type": "stream",
     "text": [
      "{'A': 100, 'B': 200, 'C': 300, 'D': 400}\n"
     ]
    }
   ],
   "source": [
    "sample_dict = {\"A\": 100, \"B\": 200, \"C\": 300}\n",
    "\n",
    "sample_dict = {**sample_dict, \"D\": 400}\n",
    "print(sample_dict)"
   ]
  },
  {
   "attachments": {},
   "cell_type": "markdown",
   "metadata": {},
   "source": [
    "アンパックは、関数のキーワード引数にすることが可能。\n",
    "\n",
    "あまる部分を受け取るためには、引数にもアンパックを記述しておけばよい。あまる部分はdictとして取得可能。"
   ]
  },
  {
   "cell_type": "code",
   "execution_count": 122,
   "metadata": {},
   "outputs": [
    {
     "name": "stdout",
     "output_type": "stream",
     "text": [
      "200 400\n",
      "{'A': 100, 'C': 300}\n"
     ]
    }
   ],
   "source": [
    "def main(B, D, **kwargs):\n",
    "    print(B, D)\n",
    "    print(kwargs)\n",
    "\n",
    "main(**sample_dict)"
   ]
  },
  {
   "attachments": {},
   "cell_type": "markdown",
   "metadata": {},
   "source": [
    "### dictの要素一覧取得方法"
   ]
  },
  {
   "attachments": {},
   "cell_type": "markdown",
   "metadata": {},
   "source": [
    "items, keys, valuesという種類の取得方法がある。"
   ]
  },
  {
   "cell_type": "code",
   "execution_count": 123,
   "metadata": {},
   "outputs": [
    {
     "name": "stdout",
     "output_type": "stream",
     "text": [
      "[('A', 100), ('B', 200), ('C', 300)]\n",
      "['A', 'B', 'C']\n",
      "[100, 200, 300]\n"
     ]
    }
   ],
   "source": [
    "sample_dict = {\"A\": 100, \"B\": 200, \"C\": 300}\n",
    "\n",
    "print([*sample_dict.items()])\n",
    "\n",
    "print([*sample_dict.keys()])\n",
    "\n",
    "print([*sample_dict.values()])"
   ]
  },
  {
   "attachments": {},
   "cell_type": "markdown",
   "metadata": {},
   "source": [
    "### dictの順序性"
   ]
  },
  {
   "attachments": {},
   "cell_type": "markdown",
   "metadata": {},
   "source": [
    "要素の順番を保持したい場合は、OrderedDictを使用する必要があった。\n",
    "\n",
    "- [Pythonの順序付き辞書OrderedDictの使い方 | note.nkmk.me](https://note.nkmk.me/python-collections-ordereddict/)\n",
    "- [Python 3.7でdictが順序を保存するようになって良かったとしみじみ思う - Qiita](https://qiita.com/tonluqclml/items/db797d9ad03604ae489c)\n",
    "\n",
    "実際にはPython3.7以降では順番を保持する実装となっている。"
   ]
  },
  {
   "attachments": {},
   "cell_type": "markdown",
   "metadata": {},
   "source": [
    "## tupleについて詳しく"
   ]
  },
  {
   "attachments": {},
   "cell_type": "markdown",
   "metadata": {},
   "source": [
    "### tupleの基本操作"
   ]
  },
  {
   "attachments": {},
   "cell_type": "markdown",
   "metadata": {},
   "source": [
    "tupleはdict, listと違いimmutableとなっている。"
   ]
  },
  {
   "cell_type": "code",
   "execution_count": 124,
   "metadata": {},
   "outputs": [
    {
     "name": "stdout",
     "output_type": "stream",
     "text": [
      "<class 'tuple'>\n",
      "(1, 'A', 3.14)\n"
     ]
    }
   ],
   "source": [
    "sample_tuple = (1, \"A\", 3.14)\n",
    "print(type(sample_tuple))\n",
    "print(sample_tuple)"
   ]
  },
  {
   "attachments": {},
   "cell_type": "markdown",
   "metadata": {},
   "source": [
    "要素へのアクセスは、リストと同じような形で可能。"
   ]
  },
  {
   "cell_type": "code",
   "execution_count": 125,
   "metadata": {},
   "outputs": [
    {
     "name": "stdout",
     "output_type": "stream",
     "text": [
      "A\n"
     ]
    }
   ],
   "source": [
    "print(sample_tuple[1])"
   ]
  },
  {
   "attachments": {},
   "cell_type": "markdown",
   "metadata": {},
   "source": [
    "関数の戻り値に複数記載する際に、tupleをよく見ることになる。"
   ]
  },
  {
   "cell_type": "code",
   "execution_count": 126,
   "metadata": {},
   "outputs": [
    {
     "name": "stdout",
     "output_type": "stream",
     "text": [
      "<class 'tuple'>\n"
     ]
    }
   ],
   "source": [
    "def main():\n",
    "    return 1,2,3,4,5\n",
    "\n",
    "ret_val = main()\n",
    "print(type(ret_val))"
   ]
  },
  {
   "attachments": {},
   "cell_type": "markdown",
   "metadata": {},
   "source": [
    "### tupleのアンパック"
   ]
  },
  {
   "attachments": {},
   "cell_type": "markdown",
   "metadata": {},
   "source": [
    "リストと同じようなアンパックとなる。アンパックによりリストに変換することが可能。"
   ]
  },
  {
   "cell_type": "code",
   "execution_count": 127,
   "metadata": {},
   "outputs": [
    {
     "name": "stdout",
     "output_type": "stream",
     "text": [
      "[1, 'A', 3.14]\n"
     ]
    }
   ],
   "source": [
    "sample_tuple2 = [*sample_tuple]\n",
    "print(sample_tuple2)"
   ]
  },
  {
   "attachments": {},
   "cell_type": "markdown",
   "metadata": {},
   "source": [
    "tupleはlistと同じように分解やスライスが可能。"
   ]
  },
  {
   "cell_type": "code",
   "execution_count": 128,
   "metadata": {},
   "outputs": [
    {
     "name": "stdout",
     "output_type": "stream",
     "text": [
      "1\n",
      "[2, 3, 4]\n",
      "5\n",
      "[2, 3]\n"
     ]
    }
   ],
   "source": [
    "sample_tuple = [1,2,3,4,5]\n",
    "\n",
    "A, *B, C = sample_tuple\n",
    "print(A)\n",
    "print(B)\n",
    "print(C)\n",
    "\n",
    "print(sample_tuple[1:3])"
   ]
  },
  {
   "attachments": {},
   "cell_type": "markdown",
   "metadata": {},
   "source": [
    "ただし分解結果はlistになるので注意が必要。"
   ]
  },
  {
   "attachments": {},
   "cell_type": "markdown",
   "metadata": {},
   "source": [
    "## setについて"
   ]
  },
  {
   "attachments": {},
   "cell_type": "markdown",
   "metadata": {},
   "source": [
    "### setの基本操作"
   ]
  },
  {
   "attachments": {},
   "cell_type": "markdown",
   "metadata": {},
   "source": [
    "setは集合を扱うデータ型です。集合ですので重複を削除した操作をする際に便利になります。"
   ]
  },
  {
   "cell_type": "code",
   "execution_count": 129,
   "metadata": {},
   "outputs": [
    {
     "name": "stdout",
     "output_type": "stream",
     "text": [
      "<class 'set'>\n",
      "{1, 2, 3}\n"
     ]
    }
   ],
   "source": [
    "sample_set = set([1,2,3])\n",
    "print(type(sample_set))\n",
    "print(sample_set)"
   ]
  },
  {
   "attachments": {},
   "cell_type": "markdown",
   "metadata": {},
   "source": [
    "リストからセットを作成する際は`set()`を使えばOKです。"
   ]
  },
  {
   "cell_type": "code",
   "execution_count": 130,
   "metadata": {},
   "outputs": [
    {
     "name": "stdout",
     "output_type": "stream",
     "text": [
      "{1, 2, 3, 4, 5}\n"
     ]
    }
   ],
   "source": [
    "sample_list = [1,2,3,3,3,4,4,4,5]\n",
    "sample_set = set(sample_list)\n",
    "print(sample_set)"
   ]
  },
  {
   "attachments": {},
   "cell_type": "markdown",
   "metadata": {},
   "source": [
    "更新にはupdateが便利です。(addもあるが、要素数が１つの場合しか使えない)"
   ]
  },
  {
   "cell_type": "code",
   "execution_count": 131,
   "metadata": {},
   "outputs": [
    {
     "name": "stdout",
     "output_type": "stream",
     "text": [
      "{1, 2, 3, 4}\n"
     ]
    }
   ],
   "source": [
    "sample_set = set([1,2,3])\n",
    "\n",
    "sample_set.update([2,3,4])\n",
    "print(sample_set)"
   ]
  },
  {
   "attachments": {},
   "cell_type": "markdown",
   "metadata": {},
   "source": [
    "ただし破壊的変更になるので、後述する和集合を使ってやる方が分かりやすい可能性があります。"
   ]
  },
  {
   "cell_type": "code",
   "execution_count": 132,
   "metadata": {},
   "outputs": [
    {
     "name": "stdout",
     "output_type": "stream",
     "text": [
      "{1, 2, 3, 4}\n"
     ]
    }
   ],
   "source": [
    "sample_set = set([1,2,3])\n",
    "\n",
    "sample_set = sample_set | set([2,3,4])\n",
    "\n",
    "print(sample_set)"
   ]
  },
  {
   "attachments": {},
   "cell_type": "markdown",
   "metadata": {},
   "source": [
    "### setの集合演算"
   ]
  },
  {
   "attachments": {},
   "cell_type": "markdown",
   "metadata": {},
   "source": [
    "集合に関する演算が可能です。"
   ]
  },
  {
   "cell_type": "code",
   "execution_count": 133,
   "metadata": {},
   "outputs": [
    {
     "name": "stdout",
     "output_type": "stream",
     "text": [
      "{70, 40, 10, 50, 20, 90, 30}\n",
      "{10, 50, 30}\n",
      "{40, 20}\n"
     ]
    }
   ],
   "source": [
    "s1 = set([10, 20, 30, 40, 50])\n",
    "s2 = set([10, 30, 50, 70, 90])\n",
    "s3 = set([10, 20, 30])\n",
    "\n",
    "print(s1 | s2) # 和集合\n",
    "print(s1 & s2) # 積集合\n",
    "print(s1 - s2) # 差集合"
   ]
  },
  {
   "cell_type": "markdown",
   "metadata": {},
   "source": [
    "subsetかsupersetかなどの判断も可能です。"
   ]
  },
  {
   "cell_type": "code",
   "execution_count": 134,
   "metadata": {},
   "outputs": [
    {
     "name": "stdout",
     "output_type": "stream",
     "text": [
      "True\n",
      "False\n",
      "True\n"
     ]
    }
   ],
   "source": [
    "print(s3.issubset(s1))\n",
    "print(s3.issubset(s2))\n",
    "print(s1.issuperset(s3))"
   ]
  }
 ],
 "metadata": {
  "kernelspec": {
   "display_name": "python-training-38VakdNu-py3.8",
   "language": "python",
   "name": "python3"
  },
  "language_info": {
   "codemirror_mode": {
    "name": "ipython",
    "version": 3
   },
   "file_extension": ".py",
   "mimetype": "text/x-python",
   "name": "python",
   "nbconvert_exporter": "python",
   "pygments_lexer": "ipython3",
   "version": "3.8.10"
  },
  "orig_nbformat": 4,
  "vscode": {
   "interpreter": {
    "hash": "a59d525356a01ed5c92e8a1c1a3f3c1ca8137d0d61f185b173cbb1f21f07f3cf"
   }
  }
 },
 "nbformat": 4,
 "nbformat_minor": 2
}
