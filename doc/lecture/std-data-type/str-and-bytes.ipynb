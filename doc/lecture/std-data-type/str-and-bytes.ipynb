{
 "cells": [
  {
   "attachments": {},
   "cell_type": "markdown",
   "metadata": {},
   "source": [
    "<a href=\"https://colab.research.google.com/github/nokomoro3/book-ml-transformers/blob/main/ml-transformers-chap01-introduction.ipynb\" target=\"_parent\"><img src=\"https://colab.research.google.com/assets/colab-badge.svg\" alt=\"Open In Colab\"/></a>"
   ]
  },
  {
   "attachments": {},
   "cell_type": "markdown",
   "metadata": {},
   "source": [
    "# str型とbytes型"
   ]
  },
  {
   "attachments": {},
   "cell_type": "markdown",
   "metadata": {},
   "source": [
    "## str型について"
   ]
  },
  {
   "attachments": {},
   "cell_type": "markdown",
   "metadata": {},
   "source": [
    "### 基本操作"
   ]
  },
  {
   "attachments": {},
   "cell_type": "markdown",
   "metadata": {},
   "source": [
    "str型は文字列を扱う型である。またimmutableでもある。\n",
    "\n",
    "よく使う操作を以下に列挙する。"
   ]
  },
  {
   "cell_type": "code",
   "execution_count": 13,
   "metadata": {},
   "outputs": [
    {
     "name": "stdout",
     "output_type": "stream",
     "text": [
      "['aaa', 'bbb', 'ccc']\n",
      "['aaa', 'bbb', 'ccc']\n"
     ]
    }
   ],
   "source": [
    "sample_str = \"aaa,bbb,ccc\"\n",
    "\n",
    "# splitで文字分割\n",
    "tok = sample_str.split(\",\")\n",
    "print(tok)\n",
    "\n",
    "# splitの区切り文字は複数でもOK\n",
    "sample_str = \"aaa, bbb, ccc\"\n",
    "tok = sample_str.split(\", \")\n",
    "print(tok)\n"
   ]
  },
  {
   "cell_type": "code",
   "execution_count": 14,
   "metadata": {},
   "outputs": [
    {
     "name": "stdout",
     "output_type": "stream",
     "text": [
      "apple\n",
      "APPLE\n",
      "Apple\n"
     ]
    }
   ],
   "source": [
    "# 大文字小文字の正規化\n",
    "sample_str = \"aPPle\"\n",
    "print(sample_str.lower())\n",
    "print(sample_str.upper())\n",
    "print(sample_str.capitalize())"
   ]
  },
  {
   "cell_type": "code",
   "execution_count": 15,
   "metadata": {},
   "outputs": [
    {
     "name": "stdout",
     "output_type": "stream",
     "text": [
      "aaa, bbb, ccc\n",
      "\n",
      "aaa, bbb, ccc\n"
     ]
    }
   ],
   "source": [
    "# rstripで右側にあるゴミを消す。\n",
    "sample_str = \"aaa, bbb, ccc\\r\\n\"\n",
    "print(sample_str)\n",
    "print(sample_str.rstrip(\"\\r\\n\"))"
   ]
  },
  {
   "cell_type": "code",
   "execution_count": 16,
   "metadata": {},
   "outputs": [
    {
     "name": "stdout",
     "output_type": "stream",
     "text": [
      "apple, orange, melon\n"
     ]
    }
   ],
   "source": [
    "# joinで分割したものを任意の文字で結合する\n",
    "sample_list = [\"apple\",\"orange\",\"melon\"]\n",
    "print(\", \".join(sample_list))"
   ]
  },
  {
   "cell_type": "code",
   "execution_count": 26,
   "metadata": {},
   "outputs": [
    {
     "name": "stdout",
     "output_type": "stream",
     "text": [
      "====================================================================================================\n"
     ]
    }
   ],
   "source": [
    "# 繰り返し（まあリストでもできるので、str型の特性というわけではない）\n",
    "print(\"=\"*100)"
   ]
  },
  {
   "cell_type": "code",
   "execution_count": 52,
   "metadata": {},
   "outputs": [
    {
     "name": "stdout",
     "output_type": "stream",
     "text": [
      "にち\n"
     ]
    }
   ],
   "source": [
    "# 日本語のスライスも文字単位（マルチバイトかどうかは関係なく文字数をカウントできる）\n",
    "sample_str = \"こんにちは。今日はいい天気ですね。\"\n",
    "print(sample_str[2:4])"
   ]
  },
  {
   "attachments": {},
   "cell_type": "markdown",
   "metadata": {},
   "source": [
    "その他、検索や置換などあります。以下も参照ください。\n",
    "\n",
    "- [Python | 文字列操作(変数展開, スライス, 置換, 検索, 分割) - わくわくBank](https://www.wakuwakubank.com/posts/261-python-string/)"
   ]
  },
  {
   "attachments": {},
   "cell_type": "markdown",
   "metadata": {},
   "source": [
    "### 値の埋め込みはf-stringが基本"
   ]
  },
  {
   "attachments": {},
   "cell_type": "markdown",
   "metadata": {},
   "source": [
    "f-stringを極力使いましょう。高速ですし、何が出力されるのか明瞭です。"
   ]
  },
  {
   "cell_type": "code",
   "execution_count": 27,
   "metadata": {},
   "outputs": [
    {
     "name": "stdout",
     "output_type": "stream",
     "text": [
      "3.141592\n"
     ]
    }
   ],
   "source": [
    "value = 3.141592\n",
    "\n",
    "print(f\"{value}\")"
   ]
  },
  {
   "attachments": {},
   "cell_type": "markdown",
   "metadata": {},
   "source": [
    "コロン以降に書式を記述できます。"
   ]
  },
  {
   "cell_type": "code",
   "execution_count": 32,
   "metadata": {},
   "outputs": [
    {
     "name": "stdout",
     "output_type": "stream",
     "text": [
      "3.142\n"
     ]
    }
   ],
   "source": [
    "print(f\"{value:.3f}\")"
   ]
  },
  {
   "attachments": {},
   "cell_type": "markdown",
   "metadata": {},
   "source": [
    "Python3.8以降では変数名を同時出力することが以下の記法で可能です。"
   ]
  },
  {
   "cell_type": "code",
   "execution_count": 37,
   "metadata": {},
   "outputs": [
    {
     "name": "stdout",
     "output_type": "stream",
     "text": [
      "value=3.142\n"
     ]
    }
   ],
   "source": [
    "print(f\"{value=:.3f}\")"
   ]
  },
  {
   "attachments": {},
   "cell_type": "markdown",
   "metadata": {},
   "source": [
    "### 文字コードとencode,decode"
   ]
  },
  {
   "attachments": {},
   "cell_type": "markdown",
   "metadata": {},
   "source": [
    "Pythonは基本的にprintなどで出力される文字列のデフォルトがutf-8となっています。\n",
    "\n",
    "なお、変数定義した状態では文字コードはencodeされる前です。encode後はbytes型になります。"
   ]
  },
  {
   "cell_type": "code",
   "execution_count": 47,
   "metadata": {},
   "outputs": [
    {
     "name": "stdout",
     "output_type": "stream",
     "text": [
      "b'\\xe3\\x81\\x93\\xe3\\x82\\x93\\xe3\\x81\\xab\\xe3\\x81\\xa1\\xe3\\x81\\xaf\\xe3\\x80\\x82\\xe4\\xbb\\x8a\\xe6\\x97\\xa5\\xe3\\x81\\xaf\\xe3\\x81\\x84\\xe3\\x81\\x84\\xe5\\xa4\\xa9\\xe6\\xb0\\x97\\xe3\\x81\\xa7\\xe3\\x81\\x99\\xe3\\x81\\xad\\xe3\\x80\\x82'\n",
      "<class 'bytes'>\n"
     ]
    }
   ],
   "source": [
    "sample_str = \"こんにちは。今日はいい天気ですね。\"\n",
    "\n",
    "sample_str_encoded = sample_str.encode() # デフォルトはutf-8\n",
    "print(sample_str_encoded)\n",
    "print(type(sample_str_encoded))"
   ]
  },
  {
   "attachments": {},
   "cell_type": "markdown",
   "metadata": {},
   "source": [
    "以下のUTF-8のコード表を見ると、`b\\xe3\\x81\\x93`の3byteが`\"こ\"`に該当する。\n",
    "\n",
    "- [UTF-8コード表(1)](https://seiai.ed.jp/sys/text/java/utf8table.html)"
   ]
  },
  {
   "attachments": {},
   "cell_type": "markdown",
   "metadata": {},
   "source": [
    "また、コードポイントを調べるためには`ord()`を使用する。"
   ]
  },
  {
   "cell_type": "code",
   "execution_count": 59,
   "metadata": {},
   "outputs": [
    {
     "name": "stdout",
     "output_type": "stream",
     "text": [
      "U+3053\n"
     ]
    }
   ],
   "source": [
    "print(f\"U+{ord('こ'):x}\")"
   ]
  },
  {
   "attachments": {},
   "cell_type": "markdown",
   "metadata": {},
   "source": [
    "コードポイントとバイト列は異なるので注意が必要。\n",
    "\n",
    "- [UnicodeとUTF-8の違いを雰囲気で理解する - Qiita](https://qiita.com/uchiko/items/cca77e3e6866ca35a0c9)"
   ]
  },
  {
   "attachments": {},
   "cell_type": "markdown",
   "metadata": {},
   "source": [
    "日本語だと、bytesになっていることがよくわかるが、英語だとprintしても何も変わってないように見えるので注意。よく見ると先頭に`b`が付いている。"
   ]
  },
  {
   "cell_type": "code",
   "execution_count": 48,
   "metadata": {},
   "outputs": [
    {
     "name": "stdout",
     "output_type": "stream",
     "text": [
      "b'Hello, World.'\n",
      "<class 'bytes'>\n"
     ]
    }
   ],
   "source": [
    "sample_str = \"Hello, World.\"\n",
    "\n",
    "sample_str_encoded = sample_str.encode()\n",
    "print(sample_str_encoded)\n",
    "print(type(sample_str_encoded))"
   ]
  },
  {
   "attachments": {},
   "cell_type": "markdown",
   "metadata": {},
   "source": [
    "encodeされているものを受け取った場合は、逆にdecodeすればPython上のstrデータとして扱うことが可能。"
   ]
  },
  {
   "cell_type": "code",
   "execution_count": 50,
   "metadata": {},
   "outputs": [
    {
     "name": "stdout",
     "output_type": "stream",
     "text": [
      "こんにちは。今日はいい天気ですね。\n",
      "<class 'str'>\n"
     ]
    }
   ],
   "source": [
    "sample_str = \"こんにちは。今日はいい天気ですね。\"\n",
    "\n",
    "sample_str_encoded = sample_str.encode()\n",
    "\n",
    "sample_str_encdec = sample_str_encoded.decode()\n",
    "print(sample_str_encdec)\n",
    "print(type(sample_str_encdec))"
   ]
  },
  {
   "attachments": {},
   "cell_type": "markdown",
   "metadata": {},
   "source": [
    "## bytes型について"
   ]
  },
  {
   "attachments": {},
   "cell_type": "markdown",
   "metadata": {},
   "source": [
    "### 変更可能性"
   ]
  },
  {
   "attachments": {},
   "cell_type": "markdown",
   "metadata": {},
   "source": [
    "bytes型もstr型と同様にimmutableである。しかし、bytesにはmutableなバージョンであるbytearrayがある。"
   ]
  },
  {
   "attachments": {},
   "cell_type": "markdown",
   "metadata": {},
   "source": [
    "### pack（数値をbytes型にする）"
   ]
  },
  {
   "attachments": {},
   "cell_type": "markdown",
   "metadata": {},
   "source": [
    "bytes型をそのまま使うシーンはそれほど多くないのですが、\n",
    "\n",
    "音声のwavフォーマットなどはヘッダを除くと波形データがそのままbytesデータとして保管されているため\n",
    "\n",
    "音声処理では使うシーンが多少ありました。\n",
    "\n",
    "例えば、16bit signed little endianの場合は以下のように`<h`でbytes型にpackできます。"
   ]
  },
  {
   "cell_type": "code",
   "execution_count": 63,
   "metadata": {},
   "outputs": [
    {
     "name": "stdout",
     "output_type": "stream",
     "text": [
      "b'\\x98:'\n",
      "0x983a\n"
     ]
    }
   ],
   "source": [
    "import struct\n",
    "\n",
    "src_int = 15000\n",
    "dst_int = struct.pack('<h', src_int) # 16bit little-endian\n",
    "\n",
    "print(dst_int)\n",
    "\n",
    "# printでは勝手に文字に置き換わるので、bytesの要素で出力すると分かりやすい\n",
    "print(f\"0x\" + \"\".join(f\"{i:0x}\" for i in dst_int))"
   ]
  },
  {
   "attachments": {},
   "cell_type": "markdown",
   "metadata": {},
   "source": [
    "フォーマットに指定可能なものは以下を参照ください。\n",
    "\n",
    "- [バイトオーダ、サイズ、アラインメント](https://docs.python.org/ja/3/library/struct.html#byte-order-size-and-alignment)\n",
    "- [書式指定文字](https://docs.python.org/ja/3/library/struct.html#format-characters)\n",
    "\n",
    "このフォーマットの指定方法はNumPyを使用する際にも、出てくるケースがあります。\n",
    "\n",
    "配列をpackする方法は少し工夫が必要で、以下になります。"
   ]
  },
  {
   "cell_type": "code",
   "execution_count": 68,
   "metadata": {},
   "outputs": [
    {
     "name": "stdout",
     "output_type": "stream",
     "text": [
      "983a803e6842\n"
     ]
    }
   ],
   "source": [
    "src_int = [15000, 16000, 17000]\n",
    "dst_int = struct.pack('<'+'h'*len(src_int), *src_int) # 16bit little-endian\n",
    "\n",
    "print(\"\".join(f\"{i:0x}\" for i in dst_int))"
   ]
  },
  {
   "attachments": {},
   "cell_type": "markdown",
   "metadata": {},
   "source": [
    "### unpack（bytes型を数値にする）"
   ]
  },
  {
   "attachments": {},
   "cell_type": "markdown",
   "metadata": {},
   "source": [
    "逆にunpackして数値データに戻すためには以下のようにします。"
   ]
  },
  {
   "cell_type": "code",
   "execution_count": 85,
   "metadata": {},
   "outputs": [
    {
     "data": {
      "text/plain": [
       "(15000, 16000, 17000)"
      ]
     },
     "execution_count": 85,
     "metadata": {},
     "output_type": "execute_result"
    }
   ],
   "source": [
    "struct.unpack('<'+'h'*(len(dst_int)>>1), dst_int)"
   ]
  },
  {
   "attachments": {},
   "cell_type": "markdown",
   "metadata": {},
   "source": [
    "### NumPyによる代用"
   ]
  },
  {
   "attachments": {},
   "cell_type": "markdown",
   "metadata": {},
   "source": [
    "pack, unpackを実際に利用するシーンは少ない。NumPyで代用でき、NumPyの方が直感的で扱いやすいため。"
   ]
  },
  {
   "cell_type": "code",
   "execution_count": 91,
   "metadata": {},
   "outputs": [
    {
     "name": "stdout",
     "output_type": "stream",
     "text": [
      "983a803e6842\n"
     ]
    }
   ],
   "source": [
    "import numpy as np\n",
    "\n",
    "dst_int = np.array([15000, 16000, 17000], dtype='<h').tobytes()\n",
    "print(\"\".join(f\"{i:0x}\" for i in dst_int))"
   ]
  },
  {
   "attachments": {},
   "cell_type": "markdown",
   "metadata": {},
   "source": [
    "`tobytes()`にはorderが指定できるが、多次元配列をbytes型にする時のorderを決めるために使用する。\n",
    "\n",
    "詳細は以下。\n",
    "\n",
    "- [NumPyの多次元配列データ構造ndarrayの基礎 - DeepAge](https://deepage.net/features/numpy-ndarray.html)"
   ]
  },
  {
   "cell_type": "code",
   "execution_count": 92,
   "metadata": {},
   "outputs": [
    {
     "data": {
      "text/plain": [
       "array([15000, 16000, 17000], dtype=int16)"
      ]
     },
     "execution_count": 92,
     "metadata": {},
     "output_type": "execute_result"
    }
   ],
   "source": [
    "np.frombuffer(dst_int, dtype='<h')"
   ]
  }
 ],
 "metadata": {
  "kernelspec": {
   "display_name": "python-training-38VakdNu-py3.8",
   "language": "python",
   "name": "python3"
  },
  "language_info": {
   "codemirror_mode": {
    "name": "ipython",
    "version": 3
   },
   "file_extension": ".py",
   "mimetype": "text/x-python",
   "name": "python",
   "nbconvert_exporter": "python",
   "pygments_lexer": "ipython3",
   "version": "3.8.10"
  },
  "orig_nbformat": 4,
  "vscode": {
   "interpreter": {
    "hash": "a59d525356a01ed5c92e8a1c1a3f3c1ca8137d0d61f185b173cbb1f21f07f3cf"
   }
  }
 },
 "nbformat": 4,
 "nbformat_minor": 2
}
