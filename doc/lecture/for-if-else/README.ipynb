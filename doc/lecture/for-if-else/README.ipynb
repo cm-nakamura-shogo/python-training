{
 "cells": [
  {
   "attachments": {},
   "cell_type": "markdown",
   "metadata": {},
   "source": [
    "<a href=\"https://colab.research.google.com/github/cm-nakamura-shogo/python-training/blob/master/doc/lecture/for-if-else/README.ipynb\" target=\"_parent\"><img src=\"https://colab.research.google.com/assets/colab-badge.svg\" alt=\"Open In Colab\"/></a>"
   ]
  },
  {
   "attachments": {},
   "cell_type": "markdown",
   "metadata": {},
   "source": [
    "# ループと条件分岐"
   ]
  },
  {
   "attachments": {},
   "cell_type": "markdown",
   "metadata": {},
   "source": [
    "ここでは主に以下をやります。\n",
    "\n",
    "- forなどの基本的なループとrange, enumerate, zipなど\n",
    "- if-elseなどの基本的な条件分岐\n",
    "- ついでに条件分岐で浮動小数の丸め誤差について\n",
    "- リスト内包表記について"
   ]
  },
  {
   "attachments": {},
   "cell_type": "markdown",
   "metadata": {},
   "source": [
    "## 基本のループ"
   ]
  },
  {
   "attachments": {},
   "cell_type": "markdown",
   "metadata": {},
   "source": [
    "### inで要素毎のループをまわす"
   ]
  },
  {
   "attachments": {},
   "cell_type": "markdown",
   "metadata": {},
   "source": [
    "listやtupleやsetなどはforで直接まわすことができる。"
   ]
  },
  {
   "cell_type": "code",
   "execution_count": 2,
   "metadata": {},
   "outputs": [
    {
     "name": "stdout",
     "output_type": "stream",
     "text": [
      "100\n",
      "200\n",
      "300\n"
     ]
    }
   ],
   "source": [
    "sample_list = [100, 200, 300]\n",
    "\n",
    "for i in sample_list:\n",
    "    print(i)"
   ]
  },
  {
   "cell_type": "code",
   "execution_count": 4,
   "metadata": {},
   "outputs": [
    {
     "name": "stdout",
     "output_type": "stream",
     "text": [
      "A\n",
      "200\n",
      "B\n"
     ]
    }
   ],
   "source": [
    "sample_tuple = (\"A\", 200, \"B\")\n",
    "\n",
    "for i in sample_tuple:\n",
    "    print(i)"
   ]
  },
  {
   "cell_type": "code",
   "execution_count": 7,
   "metadata": {},
   "outputs": [
    {
     "name": "stdout",
     "output_type": "stream",
     "text": [
      "200\n",
      "100\n",
      "300\n"
     ]
    }
   ],
   "source": [
    "sample_set = set([100, 200, 300])\n",
    "\n",
    "for i in sample_set:\n",
    "    print(i)"
   ]
  },
  {
   "attachments": {},
   "cell_type": "markdown",
   "metadata": {},
   "source": [
    "dictはitemsで回すほか、keysやvaluesでまわすことができる。"
   ]
  },
  {
   "cell_type": "code",
   "execution_count": 1,
   "metadata": {},
   "outputs": [
    {
     "name": "stdout",
     "output_type": "stream",
     "text": [
      "A 100\n",
      "B 200\n",
      "C 300\n"
     ]
    }
   ],
   "source": [
    "sample_dict = {'A': 100, 'B': 200, 'C': 300}\n",
    "\n",
    "for k, v in sample_dict.items():\n",
    "    print(k, v)"
   ]
  },
  {
   "cell_type": "code",
   "execution_count": 2,
   "metadata": {},
   "outputs": [
    {
     "name": "stdout",
     "output_type": "stream",
     "text": [
      "('A', 100)\n",
      "('B', 200)\n",
      "('C', 300)\n"
     ]
    }
   ],
   "source": [
    "for element in sample_dict.items():\n",
    "    print(element)"
   ]
  },
  {
   "cell_type": "code",
   "execution_count": 4,
   "metadata": {},
   "outputs": [
    {
     "name": "stdout",
     "output_type": "stream",
     "text": [
      "10\n",
      "20\n"
     ]
    }
   ],
   "source": [
    "a, b = (10, 20)\n",
    "print(a)\n",
    "print(b)"
   ]
  },
  {
   "cell_type": "code",
   "execution_count": 11,
   "metadata": {},
   "outputs": [
    {
     "name": "stdout",
     "output_type": "stream",
     "text": [
      "A\n",
      "B\n",
      "C\n",
      "100\n",
      "200\n",
      "300\n"
     ]
    }
   ],
   "source": [
    "sample_dict = {'A': 100, 'B': 200, 'C': 300}\n",
    "\n",
    "for k in sample_dict.keys():\n",
    "    print(k)\n",
    "\n",
    "for v in sample_dict.values():\n",
    "    print(v)"
   ]
  },
  {
   "attachments": {},
   "cell_type": "markdown",
   "metadata": {},
   "source": [
    "### rangeで固定回数回す"
   ]
  },
  {
   "cell_type": "code",
   "execution_count": 1,
   "metadata": {},
   "outputs": [
    {
     "name": "stdout",
     "output_type": "stream",
     "text": [
      "0\n",
      "1\n",
      "2\n",
      "3\n",
      "4\n"
     ]
    }
   ],
   "source": [
    "for i in range(5):\n",
    "    print(i)"
   ]
  },
  {
   "attachments": {},
   "cell_type": "markdown",
   "metadata": {},
   "source": [
    "start, stopやstepを指定することも可能"
   ]
  },
  {
   "cell_type": "code",
   "execution_count": 3,
   "metadata": {},
   "outputs": [
    {
     "name": "stdout",
     "output_type": "stream",
     "text": [
      "5\n",
      "7\n",
      "9\n"
     ]
    }
   ],
   "source": [
    "for i in range(5,10,2):\n",
    "    print(i)"
   ]
  },
  {
   "attachments": {},
   "cell_type": "markdown",
   "metadata": {},
   "source": [
    "### enumerateで要素番号とともに回す"
   ]
  },
  {
   "attachments": {},
   "cell_type": "markdown",
   "metadata": {},
   "source": [
    "enumerateを使うことで要素番号が得られる。"
   ]
  },
  {
   "cell_type": "code",
   "execution_count": 12,
   "metadata": {},
   "outputs": [
    {
     "name": "stdout",
     "output_type": "stream",
     "text": [
      "0 100\n",
      "1 200\n",
      "2 300\n"
     ]
    }
   ],
   "source": [
    "sample_list = [100, 200, 300]\n",
    "\n",
    "for i, v in enumerate(sample_list):\n",
    "    print(i, v)"
   ]
  },
  {
   "attachments": {},
   "cell_type": "markdown",
   "metadata": {},
   "source": [
    "### zipで複数のリスト等を回す"
   ]
  },
  {
   "cell_type": "code",
   "execution_count": 5,
   "metadata": {},
   "outputs": [
    {
     "name": "stdout",
     "output_type": "stream",
     "text": [
      "10 100 A\n",
      "20 200 B\n",
      "30 300 C\n"
     ]
    }
   ],
   "source": [
    "sample_list1 = [10, 20, 30]\n",
    "sample_list2 = [100, 200, 300]\n",
    "sample_list3 = [\"A\", \"B\", \"C\"]\n",
    "\n",
    "for v1, v2, v3 in zip(sample_list1, sample_list2, sample_list3):\n",
    "    print(v1, v2, v3)"
   ]
  },
  {
   "attachments": {},
   "cell_type": "markdown",
   "metadata": {},
   "source": [
    "## 基本の条件分岐"
   ]
  },
  {
   "attachments": {},
   "cell_type": "markdown",
   "metadata": {},
   "source": [
    "### if- elif - else"
   ]
  },
  {
   "attachments": {},
   "cell_type": "markdown",
   "metadata": {},
   "source": [
    "例えば典型的には以下のように書ける。"
   ]
  },
  {
   "cell_type": "code",
   "execution_count": 6,
   "metadata": {},
   "outputs": [
    {
     "name": "stdout",
     "output_type": "stream",
     "text": [
      "10 <= A < 100\n"
     ]
    }
   ],
   "source": [
    "A = 90\n",
    "\n",
    "if A < 10:\n",
    "    print(\"A < 10\")\n",
    "elif A < 100:\n",
    "    print(\"10 <= A < 100\")\n",
    "else:\n",
    "    print(\"100 <= A\")\n",
    "\n"
   ]
  },
  {
   "attachments": {},
   "cell_type": "markdown",
   "metadata": {},
   "source": [
    "elifは実は存在しなくてもかならずelseとifで表現は可能。"
   ]
  },
  {
   "cell_type": "code",
   "execution_count": 7,
   "metadata": {},
   "outputs": [
    {
     "name": "stdout",
     "output_type": "stream",
     "text": [
      "10 <= A < 100\n"
     ]
    }
   ],
   "source": [
    "A = 90\n",
    "\n",
    "if A < 10:\n",
    "    print(\"A < 10\")\n",
    "else:\n",
    "    if A < 100:\n",
    "        print(\"10 <= A < 100\")\n",
    "    else:\n",
    "        print(\"100 <= A\")"
   ]
  },
  {
   "attachments": {},
   "cell_type": "markdown",
   "metadata": {},
   "source": [
    "コードを見直す際は、elseが無い場合などに無くて本当によいか、などをチェックした方が良い。"
   ]
  },
  {
   "attachments": {},
   "cell_type": "markdown",
   "metadata": {},
   "source": [
    "### 浮動小数のif文"
   ]
  },
  {
   "attachments": {},
   "cell_type": "markdown",
   "metadata": {},
   "source": [
    "浮動小数は条件分岐に書くときに注意が必要（特に`==`では不成立となることが多い）。"
   ]
  },
  {
   "cell_type": "code",
   "execution_count": 56,
   "metadata": {},
   "outputs": [
    {
     "name": "stdout",
     "output_type": "stream",
     "text": [
      "A=1.00000\n",
      "A is not 1\n"
     ]
    }
   ],
   "source": [
    "A = 0.2 + 0.4 + 0.3 + 0.1\n",
    "print(f\"{A=:.5f}\")\n",
    "\n",
    "if A == 1:\n",
    "    print(\"A is 1\")\n",
    "else:\n",
    "    print(\"A is not 1\")"
   ]
  },
  {
   "attachments": {},
   "cell_type": "markdown",
   "metadata": {},
   "source": [
    "これは浮動小数には丸め誤差（偶数丸め等）が発生するためである。"
   ]
  },
  {
   "cell_type": "code",
   "execution_count": 50,
   "metadata": {},
   "outputs": [
    {
     "name": "stdout",
     "output_type": "stream",
     "text": [
      "A=0.99999999999999988898\n",
      "1=1.00000000000000000000\n"
     ]
    }
   ],
   "source": [
    "print(f\"{A=:.20f}\")\n",
    "print(f\"{1=:.20f}\")"
   ]
  },
  {
   "attachments": {},
   "cell_type": "markdown",
   "metadata": {},
   "source": [
    "浮動小数は無限個のパターンの数値を取りうるので、有限な情報（32bit）などで表現するために必ず丸め誤差が生じる。\n",
    "\n",
    "それ以外に、仮数部や指数部など浮動小数のモデルをもっと知りたい方は以下などを参照。\n",
    "\n",
    "- [数値の表現](http://ss.sguc.ac.jp/~rider/basic/float.html)"
   ]
  },
  {
   "attachments": {},
   "cell_type": "markdown",
   "metadata": {},
   "source": [
    "いわゆる金融系などこういった演算を正確に行いたい場合は、Decimalを使用する必要がある。\n",
    "\n",
    "Decimalにより各演算は10進数に丸められる。"
   ]
  },
  {
   "cell_type": "code",
   "execution_count": 58,
   "metadata": {},
   "outputs": [
    {
     "name": "stdout",
     "output_type": "stream",
     "text": [
      "1.0\n",
      "A is 1\n"
     ]
    }
   ],
   "source": [
    "from decimal import Decimal\n",
    "\n",
    "A = Decimal(\"0.1\") + Decimal(\"0.5\") + Decimal(\"0.3\") + Decimal(\"0.1\")\n",
    "print(A)\n",
    "\n",
    "if A == Decimal(\"1\"):\n",
    "    print(\"A is 1\")\n",
    "else:\n",
    "    print(\"A is not 1\")"
   ]
  },
  {
   "attachments": {},
   "cell_type": "markdown",
   "metadata": {},
   "source": [
    "## for - else"
   ]
  },
  {
   "attachments": {},
   "cell_type": "markdown",
   "metadata": {},
   "source": [
    "forにelseが使えるという情報を観測したため念のため書いておく（まれに観察される）。\n",
    "\n",
    "ループをbreakで抜けたか、全部走査し終わって終了したかで処理を分ける際に使用できる。"
   ]
  },
  {
   "cell_type": "code",
   "execution_count": 60,
   "metadata": {},
   "outputs": [
    {
     "name": "stdout",
     "output_type": "stream",
     "text": [
      "find_flag=0\n"
     ]
    }
   ],
   "source": [
    "arr = [1,2,3,4,5,6,7,8,9]\n",
    "\n",
    "for i in arr:\n",
    "    if i==10:\n",
    "        find_flag = 1\n",
    "        break\n",
    "else:\n",
    "    find_flag = 0\n",
    "\n",
    "print(f\"{find_flag=:}\")\n"
   ]
  },
  {
   "attachments": {},
   "cell_type": "markdown",
   "metadata": {},
   "source": [
    "## リスト内包表記"
   ]
  },
  {
   "attachments": {},
   "cell_type": "markdown",
   "metadata": {},
   "source": [
    "普通のリスト内包表記から"
   ]
  },
  {
   "cell_type": "code",
   "execution_count": 61,
   "metadata": {},
   "outputs": [
    {
     "data": {
      "text/plain": [
       "[0, 2, 4, 6, 8, 10, 12]"
      ]
     },
     "execution_count": 61,
     "metadata": {},
     "output_type": "execute_result"
    }
   ],
   "source": [
    "sample_list = [0,1,2,3,4,5,6]\n",
    "sample_list_2 = [ i*2 for i in sample_list] # 各要素を倍にする\n",
    "sample_list_2"
   ]
  },
  {
   "attachments": {},
   "cell_type": "markdown",
   "metadata": {},
   "source": [
    "if/elseとの組み合わせで条件によって結果を変える（配列サイズ不変）。"
   ]
  },
  {
   "cell_type": "code",
   "execution_count": 67,
   "metadata": {},
   "outputs": [
    {
     "data": {
      "text/plain": [
       "[-1, 2, -1, 6, -1, 10, -1]"
      ]
     },
     "execution_count": 67,
     "metadata": {},
     "output_type": "execute_result"
    }
   ],
   "source": [
    "sample_list = [0,1,2,3,4,5,6]\n",
    "sample_list_3 = [ i*2 if i%2==1 else -1 for i in sample_list] # 奇数は倍に、偶数は-1にする\n",
    "sample_list_3"
   ]
  },
  {
   "attachments": {},
   "cell_type": "markdown",
   "metadata": {},
   "source": [
    "ここまでの書き方は要素数は変わらないものであったが、要素数を変える抽出が以下のように記述できる。\n",
    "\n",
    "末尾にif文があることが特徴。英文表記に近いのかも？"
   ]
  },
  {
   "cell_type": "code",
   "execution_count": 68,
   "metadata": {},
   "outputs": [
    {
     "data": {
      "text/plain": [
       "[2, 6, 10]"
      ]
     },
     "execution_count": 68,
     "metadata": {},
     "output_type": "execute_result"
    }
   ],
   "source": [
    "sample_list = [0,1,2,3,4,5,6]\n",
    "sample_list_4 = [ i*2 for i in sample_list if i%2==1] # 奇数のみ倍にして抽出する\n",
    "sample_list_4"
   ]
  },
  {
   "attachments": {},
   "cell_type": "markdown",
   "metadata": {},
   "source": [
    "一般的に普通のforよりもリスト内包表記の方が高速と言われるが、可読性とのトレードオフともいえる。（たとえば複数階層のリスト内包表記は理解しづらい）"
   ]
  }
 ],
 "metadata": {
  "kernelspec": {
   "display_name": "python-training-OAfC8-HB-py3.9",
   "language": "python",
   "name": "python3"
  },
  "language_info": {
   "codemirror_mode": {
    "name": "ipython",
    "version": 3
   },
   "file_extension": ".py",
   "mimetype": "text/x-python",
   "name": "python",
   "nbconvert_exporter": "python",
   "pygments_lexer": "ipython3",
   "version": "3.9.6"
  },
  "orig_nbformat": 4,
  "vscode": {
   "interpreter": {
    "hash": "f1bb3037b7047e51bb8afb7259a11f25a654836601d1df17e921fadb5d562f2f"
   }
  }
 },
 "nbformat": 4,
 "nbformat_minor": 2
}
