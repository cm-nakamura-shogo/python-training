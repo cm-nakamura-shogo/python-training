{
 "cells": [
  {
   "attachments": {},
   "cell_type": "markdown",
   "metadata": {},
   "source": [
    "<a href=\"https://colab.research.google.com/github/cm-nakamura-shogo/python-training/blob/master/doc/lecture/decolator/README.ipynb\" target=\"_parent\"><img src=\"https://colab.research.google.com/assets/colab-badge.svg\" alt=\"Open In Colab\"/></a>"
   ]
  },
  {
   "attachments": {},
   "cell_type": "markdown",
   "metadata": {},
   "source": [
    "## デコレータ"
   ]
  },
  {
   "attachments": {},
   "cell_type": "markdown",
   "metadata": {},
   "source": [
    "### デコレータとは"
   ]
  },
  {
   "attachments": {},
   "cell_type": "markdown",
   "metadata": {},
   "source": [
    "`@`とか書いて関数定義やクラス定義の直前についているやつのことをデコレータと言います。\n",
    "\n",
    "既に登場した`@classmethod`や`@staticmethod`もデコレータの１種です。"
   ]
  },
  {
   "cell_type": "code",
   "execution_count": 4,
   "metadata": {},
   "outputs": [],
   "source": [
    "# ex.1 関数に付ける例\n",
    "\n",
    "class MyClass:\n",
    "    def __init__(self):\n",
    "        pass\n",
    "    @classmethod # これがデコレータ\n",
    "    def sample_class_method(cls):\n",
    "        pass"
   ]
  },
  {
   "attachments": {},
   "cell_type": "markdown",
   "metadata": {},
   "source": [
    "以下のようにクラス定義前にもつけることが可能です。"
   ]
  },
  {
   "cell_type": "code",
   "execution_count": 5,
   "metadata": {},
   "outputs": [],
   "source": [
    "# ex.2 クラスに付ける例\n",
    "\n",
    "from dataclasses import dataclass\n",
    "\n",
    "@dataclass  # これがデコレータ\n",
    "class MyDataClass:\n",
    "    attribute1: int\n",
    "    attribute2: float"
   ]
  },
  {
   "attachments": {},
   "cell_type": "markdown",
   "metadata": {},
   "source": [
    "デコレータは自作することも可能で、関数に共通的な魔改造を施すときに使います。\n",
    "\n",
    "例は色々ありますが、ログ出力を共通で実装したい場合などが例としてあります。\n",
    "\n",
    "- [Pythonの関数の引数と戻り値のログ出力をデコレータで部品化する（Google Cloud Functions） | DevelopersIO](https://dev.classmethod.jp/articles/python-decorator-log-gcf/)"
   ]
  },
  {
   "attachments": {},
   "cell_type": "markdown",
   "metadata": {},
   "source": [
    "### デコレータの意味"
   ]
  },
  {
   "attachments": {},
   "cell_type": "markdown",
   "metadata": {},
   "source": [
    "デコレータ構文は単なるシンタックスシュガーであり、裏で行われる処理は単純に以下のようになっています。\n",
    "\n",
    "```python\n",
    "@some_decorator\n",
    "def decorated_function():\n",
    "    pass\n",
    "```\n",
    "\n",
    "上記は以下と等価です。\n",
    "\n",
    "```python\n",
    "def decorated_function():\n",
    "    pass\n",
    "decorated_function = some_decorator(decorated_function)\n",
    "```\n",
    "\n",
    "このようにデコレータは１つの引数を受け取れる、名前付きのcallableオブジェクトです。\n",
    "\n",
    "`__call__()`メソッドが定義されていれば、callableオブジェクトとなるため、関数以外で実装することも可能です。\n",
    "\n",
    "また後述しますが、デコレータがreturnするものとしてはcallable以外でもOKで何もreturnしなくてもOKです。（その場合decoratedされた関数は呼び出すとエラーになりますが）"
   ]
  },
  {
   "attachments": {},
   "cell_type": "markdown",
   "metadata": {},
   "source": [
    "### デコレータの実装例"
   ]
  },
  {
   "attachments": {},
   "cell_type": "markdown",
   "metadata": {},
   "source": [
    "よく使われる実装例は以下です。"
   ]
  },
  {
   "cell_type": "code",
   "execution_count": 3,
   "metadata": {},
   "outputs": [],
   "source": [
    "def mydecorator(function):\n",
    "    def wrapped(*args, **kwargs):\n",
    "\n",
    "        print(\"ここに前処理\")\n",
    "\n",
    "        result = function(*args, **kwargs)\n",
    "\n",
    "        print(\"ここに後処理\")\n",
    "\n",
    "        return result\n",
    "\n",
    "    return wrapped"
   ]
  },
  {
   "attachments": {},
   "cell_type": "markdown",
   "metadata": {},
   "source": [
    "引数で与えられる関数`function`を別の関数`wrapped`でラップされたものを返す関数が`mydecorator`となっていることが分かります。\n",
    "\n",
    "関数にデコレータを付けてみましょう。"
   ]
  },
  {
   "cell_type": "code",
   "execution_count": 4,
   "metadata": {},
   "outputs": [
    {
     "name": "stdout",
     "output_type": "stream",
     "text": [
      "ここに前処理\n",
      "3\n",
      "ここに後処理\n"
     ]
    }
   ],
   "source": [
    "@mydecorator\n",
    "def myfunc(a, b):\n",
    "    print(a+b)\n",
    "\n",
    "myfunc(1,2)"
   ]
  },
  {
   "attachments": {},
   "cell_type": "markdown",
   "metadata": {},
   "source": [
    "デコレータはクラスとして実装することもできます。その場合、`__call__`というメソッドを実装しておきます。\n",
    "\n",
    "デコレータが複雑なパラメータを扱う必要があったり、状態に依存した動作をさせたい場合は、クラスで実装する方が適切となります。"
   ]
  },
  {
   "cell_type": "code",
   "execution_count": 18,
   "metadata": {},
   "outputs": [],
   "source": [
    "class MyDecoratorClass():\n",
    "    def __init__(self, function):\n",
    "        self.function = function\n",
    "\n",
    "    def __call__(self, *args, **kwargs):\n",
    "\n",
    "        print(\"ここに前処理\")\n",
    "\n",
    "        result = self.function(*args, **kwargs)\n",
    "\n",
    "        print(\"ここに後処理\")\n",
    "\n",
    "        return result"
   ]
  },
  {
   "attachments": {},
   "cell_type": "markdown",
   "metadata": {},
   "source": [
    "関数に付けてみましょう。"
   ]
  },
  {
   "cell_type": "code",
   "execution_count": 19,
   "metadata": {},
   "outputs": [
    {
     "name": "stdout",
     "output_type": "stream",
     "text": [
      "ここに前処理\n",
      "3\n",
      "ここに後処理\n"
     ]
    }
   ],
   "source": [
    "@MyDecoratorClass\n",
    "def myfunc(a, b):\n",
    "    print(a+b)\n",
    "\n",
    "myfunc(1,2)"
   ]
  },
  {
   "attachments": {},
   "cell_type": "markdown",
   "metadata": {},
   "source": [
    "### パラメータを受け取るデコレータ"
   ]
  },
  {
   "attachments": {},
   "cell_type": "markdown",
   "metadata": {},
   "source": [
    "より実用的にはパラメータを受け取るデコレータも需要がある。\n",
    "\n",
    "その場合はさらにラッパーを一つ外側に増やせばよい。"
   ]
  },
  {
   "cell_type": "code",
   "execution_count": 21,
   "metadata": {},
   "outputs": [],
   "source": [
    "def decorator_wrapper(val=0):\n",
    "    def mydecorator(function):\n",
    "        def wrapped(*args, **kwargs):\n",
    "\n",
    "            print(\"ここに前処理\")\n",
    "            print(val)\n",
    "\n",
    "            result = function(*args, **kwargs)\n",
    "\n",
    "            print(\"ここに後処理\")\n",
    "\n",
    "            return result\n",
    "        return wrapped\n",
    "\n",
    "    return mydecorator"
   ]
  },
  {
   "attachments": {},
   "cell_type": "markdown",
   "metadata": {},
   "source": [
    "引数で与えられる関数`function`を別の関数`wrapped`でラップされたものを返す関数が`mydecorator`となっている点は変わりがない。\n",
    "\n",
    "その外側に`decorator_wrapper`というラッパーを作ることで、`decorator_wrapper(5)`がデコレータを返す。\n",
    "\n",
    "この`decorator_wrapper`の引数に与えたものは、それぞれの中の関数のローカルに定義されていない限り、その上位インデントのものが参照できるため、結果的にデコレータにパラメータを与えられる。\n",
    "\n",
    "（よくわから無い場合は、「day03 : 関数とクラス」を復習しよう）\n",
    "\n",
    "実際のところ`decorator_wrapper`がデコレータかと言えば微妙で、`decorator_wrapper(5)`がデコレータを返すと見た方が理解しやすいと思われる。"
   ]
  },
  {
   "cell_type": "code",
   "execution_count": 22,
   "metadata": {},
   "outputs": [
    {
     "name": "stdout",
     "output_type": "stream",
     "text": [
      "ここに前処理\n",
      "5\n",
      "3\n",
      "ここに後処理\n"
     ]
    }
   ],
   "source": [
    "@decorator_wrapper(5)\n",
    "def myfunc(a, b):\n",
    "    print(a+b)\n",
    "\n",
    "myfunc(1,2)"
   ]
  },
  {
   "attachments": {},
   "cell_type": "markdown",
   "metadata": {},
   "source": [
    "### このままではdocstringが失われる件"
   ]
  },
  {
   "attachments": {},
   "cell_type": "markdown",
   "metadata": {},
   "source": [
    "実際ここまでのサンプルのままでは、元の関数名やdocstringなどの関数のメタデータが失われ、実用上問題がある。\n",
    "\n",
    "（VSCode上でも見えなくなると思ったけど、普通にdocstring消えなかった…）"
   ]
  },
  {
   "cell_type": "code",
   "execution_count": 23,
   "metadata": {},
   "outputs": [],
   "source": [
    "@decorator_wrapper(5)\n",
    "def myfunc(a, b):\n",
    "    \"\"\"myfuncの説明\"\"\"\n",
    "    print(a+b)"
   ]
  },
  {
   "cell_type": "code",
   "execution_count": 27,
   "metadata": {},
   "outputs": [
    {
     "name": "stdout",
     "output_type": "stream",
     "text": [
      "wrapped\n"
     ]
    }
   ],
   "source": [
    "print(myfunc.__name__)"
   ]
  },
  {
   "cell_type": "code",
   "execution_count": 28,
   "metadata": {},
   "outputs": [
    {
     "name": "stdout",
     "output_type": "stream",
     "text": [
      "None\n"
     ]
    }
   ],
   "source": [
    "print(myfunc.__doc__)"
   ]
  },
  {
   "attachments": {},
   "cell_type": "markdown",
   "metadata": {},
   "source": [
    "その場合は、`wrapped`にfunctoolsで提供されるwrapsデコレータを使えばよい。"
   ]
  },
  {
   "cell_type": "code",
   "execution_count": 29,
   "metadata": {},
   "outputs": [
    {
     "name": "stdout",
     "output_type": "stream",
     "text": [
      "myfunc\n",
      "myfuncの説明\n"
     ]
    }
   ],
   "source": [
    "from functools import wraps\n",
    "\n",
    "def decorator_wrapper(val=0):\n",
    "    def mydecorator(function):\n",
    "        @wraps(function)\n",
    "        def wrapped(*args, **kwargs):\n",
    "\n",
    "            print(\"ここに前処理\")\n",
    "            print(val)\n",
    "\n",
    "            result = function(*args, **kwargs)\n",
    "\n",
    "            print(\"ここに後処理\")\n",
    "\n",
    "            return result\n",
    "        return wrapped\n",
    "\n",
    "    return mydecorator\n",
    "\n",
    "@decorator_wrapper(5)\n",
    "def myfunc(a, b):\n",
    "    \"\"\"myfuncの説明\"\"\"\n",
    "    print(a+b)\n",
    "\n",
    "print(myfunc.__name__)\n",
    "print(myfunc.__doc__)"
   ]
  },
  {
   "attachments": {},
   "cell_type": "markdown",
   "metadata": {},
   "source": [
    "これで、関数のメタデータも保持されることが分かる。"
   ]
  },
  {
   "attachments": {},
   "cell_type": "markdown",
   "metadata": {},
   "source": [
    "### 少し用途が違うデコレータ（callableを返さないデコレータ）"
   ]
  },
  {
   "attachments": {},
   "cell_type": "markdown",
   "metadata": {},
   "source": [
    "デコレータを付けた関数を普通に呼び出すことを想定しない使い方もある。"
   ]
  },
  {
   "cell_type": "code",
   "execution_count": 13,
   "metadata": {},
   "outputs": [
    {
     "name": "stdout",
     "output_type": "stream",
     "text": [
      "[<function hoge at 0x00000206D2B1CD30>, <function fuga at 0x00000206D2B1CA60>]\n"
     ]
    }
   ],
   "source": [
    "funcs = []\n",
    "\n",
    "def mydecorator(function):\n",
    "    funcs.append(function)\n",
    "\n",
    "@mydecorator\n",
    "def hoge():\n",
    "    print(\"hoge\")\n",
    "\n",
    "@mydecorator\n",
    "def fuga():\n",
    "    print(\"fuga\")\n",
    "\n",
    "print(funcs)"
   ]
  },
  {
   "attachments": {},
   "cell_type": "markdown",
   "metadata": {},
   "source": [
    "むろんこの場合は`hoge`や`fuga`を直接呼び出すことはできない。これはmydecoratorがcallableを返してないためである。（`return function`をすれば直接呼び出せる）\n",
    "\n",
    "呼び出し時は以下のように、`funcs[0]()`とすればよい。"
   ]
  },
  {
   "cell_type": "code",
   "execution_count": 12,
   "metadata": {},
   "outputs": [
    {
     "name": "stdout",
     "output_type": "stream",
     "text": [
      "hoge\n"
     ]
    }
   ],
   "source": [
    "# fuga() # エラー\n",
    "funcs[0]()"
   ]
  },
  {
   "attachments": {},
   "cell_type": "markdown",
   "metadata": {},
   "source": [
    "こういった動作は、FlaskやFastAPIなどのWebフレームワークは使用していると考えられる。\n",
    "\n",
    "参考\n",
    "\n",
    "- [Python デコレータ再入門　 ~デコレータは種類別に覚えよう~ - Qiita](https://qiita.com/macinjoke/items/1be6cf0f1f238b5ba01b)\n",
    "\n",
    "この場合にも、パラメータを与える場合には一つ外側にラッパーを設ければOK。"
   ]
  },
  {
   "attachments": {},
   "cell_type": "markdown",
   "metadata": {},
   "source": [
    "### 演習問題"
   ]
  },
  {
   "attachments": {},
   "cell_type": "markdown",
   "metadata": {},
   "source": [
    "演習１：指定回数処理を繰り返すデコレータを作成してください。\n",
    "<br>\n",
    "<br>\n",
    "<br>\n",
    "<br>\n",
    "<br>\n",
    "以下解答。"
   ]
  },
  {
   "cell_type": "code",
   "execution_count": 9,
   "metadata": {},
   "outputs": [],
   "source": [
    "from functools import wraps\n",
    "\n",
    "def repeat(n=5):\n",
    "    def mydecorator(fn):\n",
    "        @wraps(fn)\n",
    "        def wrapper(*args, **kwargs):\n",
    "            for _ in range(n):\n",
    "                fn(*args, **kwargs)\n",
    "        return wrapper\n",
    "    return mydecorator"
   ]
  },
  {
   "cell_type": "code",
   "execution_count": 10,
   "metadata": {},
   "outputs": [
    {
     "name": "stdout",
     "output_type": "stream",
     "text": [
      "hogehoge\n",
      "hogehoge\n",
      "hogehoge\n"
     ]
    }
   ],
   "source": [
    "@repeat(3)\n",
    "def myfunc():\n",
    "    \"\"\"myfuncの説明\"\"\"\n",
    "    print(\"hogehoge\")\n",
    "\n",
    "myfunc()"
   ]
  },
  {
   "attachments": {},
   "cell_type": "markdown",
   "metadata": {},
   "source": [
    "演習２：callableを返さず、funcsというdictにデコレートされた関数を追加する処理を書いてください。またそのdictのキーはデコレータのパラメータとして与えてください。\n",
    "<br>\n",
    "<br>\n",
    "<br>\n",
    "<br>\n",
    "<br>\n",
    "以下解答"
   ]
  },
  {
   "cell_type": "code",
   "execution_count": 1,
   "metadata": {},
   "outputs": [],
   "source": [
    "funcs = {}\n",
    "\n",
    "def register(key):\n",
    "    def mydecorator(fn):\n",
    "        funcs[key] = fn\n",
    "    return mydecorator"
   ]
  },
  {
   "cell_type": "code",
   "execution_count": 2,
   "metadata": {},
   "outputs": [],
   "source": [
    "@register(key=\"hoge\")\n",
    "def hogehoge():\n",
    "    print(\"hogehoge\")\n",
    "\n",
    "@register(key=\"fuga\")\n",
    "def fugafuga():\n",
    "    print(\"fugafuga\")"
   ]
  },
  {
   "cell_type": "code",
   "execution_count": 4,
   "metadata": {},
   "outputs": [
    {
     "name": "stdout",
     "output_type": "stream",
     "text": [
      "hogehoge\n"
     ]
    }
   ],
   "source": [
    "funcs[\"hoge\"]()"
   ]
  },
  {
   "cell_type": "code",
   "execution_count": 5,
   "metadata": {},
   "outputs": [
    {
     "name": "stdout",
     "output_type": "stream",
     "text": [
      "fugafuga\n"
     ]
    }
   ],
   "source": [
    "funcs[\"fuga\"]()"
   ]
  },
  {
   "attachments": {},
   "cell_type": "markdown",
   "metadata": {},
   "source": [
    "### 実用例"
   ]
  },
  {
   "attachments": {},
   "cell_type": "markdown",
   "metadata": {},
   "source": [
    "ここまで理解できていれば、以下のブログの例は理解できるはず。\n",
    "\n",
    "- [Pythonの関数の引数と戻り値のログ出力をデコレータで部品化する（Google Cloud Functions） | DevelopersIO](https://dev.classmethod.jp/articles/python-decorator-log-gcf/)\n",
    "\n",
    "かなり複雑に作り込むとこういう例も。\n",
    "\n",
    "- [A better way to logging in Python | F5 - Squashing Bugs](https://ankitbko.github.io/blog/2021/04/logging-in-python/)\n",
    "\n",
    "その他には以下の例がエキPyでは挙げられている。\n",
    "\n",
    "- 引数チェック\n",
    "- キャッシュ\n",
    "  - 関数が状態を持たない場合にのみ\n",
    "- プロキシ\n",
    "  - タグ付け、アクセス保護\n",
    "- コンテキストプロバイダ\n",
    "  - 特別な実行環境の設定をしたり、外したり\n",
    "  - 例としてはロック機構など\n",
    "  - 後述するwith文（コンテキストマネージャ）を使う方が現在は一般的"
   ]
  },
  {
   "attachments": {},
   "cell_type": "markdown",
   "metadata": {},
   "source": [
    "### 参考\n",
    "\n",
    "- 書籍 : エキスパートPythonプログラミング改訂3版 3.4.3 デコレータ"
   ]
  },
  {
   "attachments": {},
   "cell_type": "markdown",
   "metadata": {},
   "source": [
    "以上。"
   ]
  }
 ],
 "metadata": {
  "kernelspec": {
   "display_name": "python-training-OAfC8-HB-py3.9",
   "language": "python",
   "name": "python3"
  },
  "language_info": {
   "codemirror_mode": {
    "name": "ipython",
    "version": 3
   },
   "file_extension": ".py",
   "mimetype": "text/x-python",
   "name": "python",
   "nbconvert_exporter": "python",
   "pygments_lexer": "ipython3",
   "version": "3.9.6"
  },
  "orig_nbformat": 4,
  "vscode": {
   "interpreter": {
    "hash": "f1bb3037b7047e51bb8afb7259a11f25a654836601d1df17e921fadb5d562f2f"
   }
  }
 },
 "nbformat": 4,
 "nbformat_minor": 2
}
