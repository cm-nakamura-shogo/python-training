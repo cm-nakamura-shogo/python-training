{
 "cells": [
  {
   "cell_type": "markdown",
   "metadata": {},
   "source": [
    "<a href=\"https://colab.research.google.com/github/cm-nakamura-shogo/python-training/blob/master/doc/lecture/context-manager/README.ipynb\" target=\"_parent\"><img src=\"https://colab.research.google.com/assets/colab-badge.svg\" alt=\"Open In Colab\"/></a>"
   ]
  },
  {
   "attachments": {},
   "cell_type": "markdown",
   "metadata": {},
   "source": [
    "## コンテキストマネージャ"
   ]
  },
  {
   "attachments": {},
   "cell_type": "markdown",
   "metadata": {},
   "source": [
    "### コンテキストマネージャとは"
   ]
  },
  {
   "attachments": {},
   "cell_type": "markdown",
   "metadata": {},
   "source": [
    "with文を使う構文で、このコードブロックの前後でコンテキストマネージャを呼び出すことを可能としている。\n",
    "\n",
    "たとえば、コードブロック内で例外を送出しても、ブロックの前後ではある処理がコールされる。\n",
    "\n",
    "```python\n",
    "with open(\"sample.txt\", \"wt\") as f:\n",
    "    lines = f.readlines()\n",
    "    print(len(lines))\n",
    "```\n",
    "\n",
    "上記のサンプルでは、openをコンテキストマネージャとして扱っている。\n",
    "\n",
    "本来、withを使わない場合は以下のように書く。\n",
    "\n",
    "```python\n",
    "f = open(\"sample.txt\", \"wt\")\n",
    "try:\n",
    "    lines = f.readlines()\n",
    "    print(len(lines))\n",
    "finally:\n",
    "    f.close()\n",
    "```\n",
    "\n",
    "これをwithでシンプルに記述できるようになっている。"
   ]
  },
  {
   "attachments": {},
   "cell_type": "markdown",
   "metadata": {},
   "source": [
    "### コンテキストマネージャを実装する（クラス）"
   ]
  },
  {
   "attachments": {},
   "cell_type": "markdown",
   "metadata": {},
   "source": [
    "コンテキストマネージャプロトコルを実装すると、コンテキストマネージャとして使用できる。\n",
    "\n",
    "- プロトコルとしては、`__enter__`と`__exit__`を実装\n",
    "- `__enter__`は、ラップされているコードの実行前に呼び出される処理を記述し、このメソッドはコンテキスト変数を返す\n",
    "- `__exit__`は、ラップされているコードの実行後に呼び出され、例外すべてをキャプチャする"
   ]
  },
  {
   "cell_type": "code",
   "execution_count": 3,
   "metadata": {},
   "outputs": [],
   "source": [
    "class SampleContextManager:\n",
    "    def __enter__(self):\n",
    "        print(\"__enter__\")\n",
    "    def __exit__(self, exception_type, exception_value, traceback):\n",
    "        print(\"__exit__\")\n",
    "\n",
    "        if exception_type is None:\n",
    "            print(\"正常終了\")\n",
    "        else:\n",
    "            print(f\"例外あり. {exception_value}, {traceback}\")\n"
   ]
  },
  {
   "cell_type": "code",
   "execution_count": 4,
   "metadata": {},
   "outputs": [
    {
     "name": "stdout",
     "output_type": "stream",
     "text": [
      "__enter__\n",
      "ラップされた処理\n",
      "__exit__\n",
      "正常終了\n"
     ]
    }
   ],
   "source": [
    "with SampleContextManager():\n",
    "    print(\"ラップされた処理\")"
   ]
  },
  {
   "cell_type": "code",
   "execution_count": 7,
   "metadata": {},
   "outputs": [
    {
     "name": "stdout",
     "output_type": "stream",
     "text": [
      "__enter__\n",
      "ラップされた処理\n",
      "__exit__\n",
      "例外あり. , <traceback object at 0x00000277D16C6DC0>\n"
     ]
    },
    {
     "ename": "RuntimeError",
     "evalue": "",
     "output_type": "error",
     "traceback": [
      "\u001b[1;31m---------------------------------------------------------------------------\u001b[0m",
      "\u001b[1;31mRuntimeError\u001b[0m                              Traceback (most recent call last)",
      "Cell \u001b[1;32mIn[7], line 3\u001b[0m\n\u001b[0;32m      1\u001b[0m \u001b[39mwith\u001b[39;00m SampleContextManager():\n\u001b[0;32m      2\u001b[0m     \u001b[39mprint\u001b[39m(\u001b[39m\"\u001b[39m\u001b[39mラップされた処理\u001b[39m\u001b[39m\"\u001b[39m)\n\u001b[1;32m----> 3\u001b[0m     \u001b[39mraise\u001b[39;00m \u001b[39mRuntimeError\u001b[39;00m()\n",
      "\u001b[1;31mRuntimeError\u001b[0m: "
     ]
    }
   ],
   "source": [
    "with SampleContextManager():\n",
    "    print(\"ラップされた処理\")\n",
    "    raise RuntimeError()"
   ]
  },
  {
   "attachments": {},
   "cell_type": "markdown",
   "metadata": {},
   "source": [
    "また、`__enter__`に戻り値を与えると、asを使って変数に設定できる。通常はselfをreturnするケースが多い。"
   ]
  },
  {
   "cell_type": "code",
   "execution_count": 10,
   "metadata": {},
   "outputs": [
    {
     "name": "stdout",
     "output_type": "stream",
     "text": [
      "__enter__\n",
      "<__main__.SampleContextManager object at 0x00000277D1582520>\n",
      "ラップされた処理\n",
      "__exit__\n",
      "正常終了\n"
     ]
    }
   ],
   "source": [
    "class SampleContextManager:\n",
    "    def __enter__(self):\n",
    "        print(\"__enter__\")\n",
    "        return self\n",
    "    def __exit__(self, exception_type, exception_value, traceback):\n",
    "        print(\"__exit__\")\n",
    "\n",
    "        if exception_type is None:\n",
    "            print(\"正常終了\")\n",
    "        else:\n",
    "            print(f\"例外あり. {exception_value}, {traceback}\")\n",
    "\n",
    "with SampleContextManager() as context_manager:\n",
    "    print(context_manager)\n",
    "    print(\"ラップされた処理\")"
   ]
  },
  {
   "attachments": {},
   "cell_type": "markdown",
   "metadata": {},
   "source": [
    "### コンテキストマネージャを実装する（関数として）"
   ]
  },
  {
   "attachments": {},
   "cell_type": "markdown",
   "metadata": {},
   "source": [
    "contextlibモジュールを使うことで、関数としてコンテキストマネージャを実装できる。\n",
    "\n",
    "もっとも便利で使用されるのは、contextmanagerデコレータである。\n",
    "\n",
    "このデコレータで実装すると、yieldが入った関数をを作成するのみで、`__enter__`と`__exit__`の動作を実装できる。"
   ]
  },
  {
   "cell_type": "code",
   "execution_count": 19,
   "metadata": {},
   "outputs": [],
   "source": [
    "from contextlib import contextmanager\n",
    "\n",
    "@contextmanager\n",
    "def sample_context_manager():\n",
    "    print(\"__enter__\")\n",
    "\n",
    "    try:\n",
    "        yield\n",
    "    except Exception as e:\n",
    "        print(\"__exit__\")\n",
    "        print(f\"例外あり. {e}\")\n",
    "        raise # 例外は再送出が必要となる\n",
    "    else:\n",
    "        print(\"__exit__\")\n",
    "        print(\"正常終了\")"
   ]
  },
  {
   "cell_type": "code",
   "execution_count": 20,
   "metadata": {},
   "outputs": [
    {
     "name": "stdout",
     "output_type": "stream",
     "text": [
      "__enter__\n",
      "ラップされた処理\n",
      "__exit__\n",
      "正常終了\n"
     ]
    }
   ],
   "source": [
    "with sample_context_manager():\n",
    "    print(\"ラップされた処理\")"
   ]
  },
  {
   "cell_type": "code",
   "execution_count": 21,
   "metadata": {},
   "outputs": [
    {
     "name": "stdout",
     "output_type": "stream",
     "text": [
      "__enter__\n",
      "ラップされた処理\n",
      "__exit__\n",
      "例外あり. \n"
     ]
    },
    {
     "ename": "RuntimeError",
     "evalue": "",
     "output_type": "error",
     "traceback": [
      "\u001b[1;31m---------------------------------------------------------------------------\u001b[0m",
      "\u001b[1;31mRuntimeError\u001b[0m                              Traceback (most recent call last)",
      "Cell \u001b[1;32mIn[21], line 3\u001b[0m\n\u001b[0;32m      1\u001b[0m \u001b[39mwith\u001b[39;00m sample_context_manager():\n\u001b[0;32m      2\u001b[0m     \u001b[39mprint\u001b[39m(\u001b[39m\"\u001b[39m\u001b[39mラップされた処理\u001b[39m\u001b[39m\"\u001b[39m)\n\u001b[1;32m----> 3\u001b[0m     \u001b[39mraise\u001b[39;00m \u001b[39mRuntimeError\u001b[39;00m()\n",
      "\u001b[1;31mRuntimeError\u001b[0m: "
     ]
    }
   ],
   "source": [
    "with sample_context_manager():\n",
    "    print(\"ラップされた処理\")\n",
    "    raise RuntimeError()"
   ]
  },
  {
   "attachments": {},
   "cell_type": "markdown",
   "metadata": {},
   "source": [
    "yieldに戻り値を持たせれば、asで受け取ることが可能。"
   ]
  },
  {
   "cell_type": "code",
   "execution_count": 24,
   "metadata": {},
   "outputs": [],
   "source": [
    "from contextlib import contextmanager\n",
    "\n",
    "@contextmanager\n",
    "def sample_context_manager():\n",
    "    print(\"__enter__\")\n",
    "    ret_val = 100\n",
    "\n",
    "    try:\n",
    "        yield ret_val\n",
    "    except Exception as e:\n",
    "        print(\"__exit__\")\n",
    "        print(f\"例外あり. {e}\")\n",
    "        raise # 例外は再送出が必要となる\n",
    "    else:\n",
    "        print(\"__exit__\")\n",
    "        print(\"正常終了\")"
   ]
  },
  {
   "cell_type": "code",
   "execution_count": 25,
   "metadata": {},
   "outputs": [
    {
     "name": "stdout",
     "output_type": "stream",
     "text": [
      "__enter__\n",
      "ラップされた処理\n",
      "100\n",
      "__exit__\n",
      "正常終了\n"
     ]
    }
   ],
   "source": [
    "with sample_context_manager() as val:\n",
    "    print(\"ラップされた処理\")\n",
    "    print(val)"
   ]
  },
  {
   "cell_type": "markdown",
   "metadata": {},
   "source": [
    "### contextlibモジュールのその他のヘルパー"
   ]
  },
  {
   "attachments": {},
   "cell_type": "markdown",
   "metadata": {},
   "source": [
    "- closing(element)\n",
    "\n",
    "close関数のあるオブジェクトをelementに与えると、自動でクローズ処理を行ってくれるコンテキストマネージャになる。"
   ]
  },
  {
   "cell_type": "code",
   "execution_count": 33,
   "metadata": {},
   "outputs": [
    {
     "name": "stdout",
     "output_type": "stream",
     "text": [
      "True\n",
      "False\n"
     ]
    }
   ],
   "source": [
    "import contextlib\n",
    "\n",
    "class SampleClass():\n",
    "    def __init__(self):\n",
    "        self.__is_open = True\n",
    "    def close(self):\n",
    "        self.__is_open = False\n",
    "    def is_open(self):\n",
    "        return self.__is_open\n",
    "\n",
    "with contextlib.closing(SampleClass()) as f:\n",
    "    print(f.is_open())\n",
    "print(f.is_open())\n"
   ]
  },
  {
   "attachments": {},
   "cell_type": "markdown",
   "metadata": {},
   "source": [
    "- suppress(*exception)\n",
    "\n",
    "指定した例外をにぎりつぶすコンテキストマネージャを作ることができる。"
   ]
  },
  {
   "cell_type": "code",
   "execution_count": 36,
   "metadata": {},
   "outputs": [],
   "source": [
    "with contextlib.suppress(RuntimeError):\n",
    "    raise RuntimeError"
   ]
  },
  {
   "attachments": {},
   "cell_type": "markdown",
   "metadata": {},
   "source": [
    "- redirect_stdout(new_target)とredirect_stderr(new_target)\n",
    "\n",
    "ブロック内のstdoutとstderrを、new_targetにリダイレクトできる。new_targetはファイルやストリームを指定できる。"
   ]
  },
  {
   "cell_type": "code",
   "execution_count": 2,
   "metadata": {},
   "outputs": [],
   "source": [
    "import contextlib\n",
    "\n",
    "with open(\"log.txt\", \"wt\") as f:\n",
    "    with contextlib.redirect_stdout(f):\n",
    "        print(\"hogehoge\")"
   ]
  },
  {
   "attachments": {},
   "cell_type": "markdown",
   "metadata": {},
   "source": [
    "`io.StringIO`などのストリームを使う例は以下の通り。"
   ]
  },
  {
   "cell_type": "code",
   "execution_count": 6,
   "metadata": {},
   "outputs": [
    {
     "name": "stdout",
     "output_type": "stream",
     "text": [
      "hogehoge\n",
      "\n"
     ]
    }
   ],
   "source": [
    "import io\n",
    "\n",
    "with io.StringIO() as f:\n",
    "    with contextlib.redirect_stdout(f):\n",
    "        print(\"hogehoge\")\n",
    "    print(f.getvalue())"
   ]
  },
  {
   "attachments": {},
   "cell_type": "markdown",
   "metadata": {},
   "source": [
    "- ExitStack\n",
    "\n",
    "複数のコンテキストを扱うために用意されている。stackに`enter_context`すれば、すべての終了処理が走る。"
   ]
  },
  {
   "cell_type": "code",
   "execution_count": 8,
   "metadata": {},
   "outputs": [
    {
     "name": "stdout",
     "output_type": "stream",
     "text": [
      "__enter__\n",
      "__enter__\n",
      "ブロック内の処理\n",
      "__exit__\n",
      "正常終了\n",
      "__exit__\n",
      "正常終了\n"
     ]
    }
   ],
   "source": [
    "from contextlib import contextmanager\n",
    "\n",
    "@contextmanager\n",
    "def sample_context_manager():\n",
    "    print(\"__enter__\")\n",
    "    ret_val = 100\n",
    "\n",
    "    try:\n",
    "        yield ret_val\n",
    "    except Exception as e:\n",
    "        print(\"__exit__\")\n",
    "        print(f\"例外あり. {e}\")\n",
    "        raise # 例外は再送出が必要となる\n",
    "    else:\n",
    "        print(\"__exit__\")\n",
    "        print(\"正常終了\")\n",
    "\n",
    "with contextlib.ExitStack() as stack:\n",
    "    hoge = stack.enter_context(sample_context_manager())\n",
    "    fuga = stack.enter_context(sample_context_manager())\n",
    "    print(\"ブロック内の処理\")"
   ]
  },
  {
   "attachments": {},
   "cell_type": "markdown",
   "metadata": {},
   "source": [
    "複数コンテキストを動かす方法は、withに複数書くのでも実はできる。"
   ]
  },
  {
   "cell_type": "code",
   "execution_count": 9,
   "metadata": {},
   "outputs": [
    {
     "name": "stdout",
     "output_type": "stream",
     "text": [
      "__enter__\n",
      "__enter__\n",
      "ブロック内の処理\n",
      "__exit__\n",
      "正常終了\n",
      "__exit__\n",
      "正常終了\n"
     ]
    }
   ],
   "source": [
    "with sample_context_manager() as hoge, sample_context_manager() as fuga:\n",
    "    print(\"ブロック内の処理\")"
   ]
  },
  {
   "attachments": {},
   "cell_type": "markdown",
   "metadata": {},
   "source": [
    "また、Python 3.10からは、以下のような括弧書きができるようになっている（3.9でも動くが、3.10で正式対応らしい。なので3.8では動かない）"
   ]
  },
  {
   "cell_type": "code",
   "execution_count": 15,
   "metadata": {},
   "outputs": [
    {
     "name": "stdout",
     "output_type": "stream",
     "text": [
      "__enter__\n",
      "__enter__\n",
      "ブロック内の処理\n",
      "__exit__\n",
      "正常終了\n",
      "__exit__\n",
      "正常終了\n"
     ]
    }
   ],
   "source": [
    "with (\n",
    "    sample_context_manager() as hoge\n",
    "    , sample_context_manager() as fuga\n",
    "):\n",
    "    print(\"ブロック内の処理\")"
   ]
  },
  {
   "attachments": {},
   "cell_type": "markdown",
   "metadata": {},
   "source": [
    "### 参考\n",
    "\n",
    "- 書籍 : エキスパートPythonプログラミング改訂3版 3.4.4 コンテキストマネージャ\n",
    "- [Pythonのcontextlibでwithに渡せる処理を定義する - iMind Developers Blog](https://blog.imind.jp/entry/2019/07/06/144729)"
   ]
  },
  {
   "attachments": {},
   "cell_type": "markdown",
   "metadata": {},
   "source": [
    "以上。"
   ]
  }
 ],
 "metadata": {
  "kernelspec": {
   "display_name": "python-training-OAfC8-HB-py3.9",
   "language": "python",
   "name": "python3"
  },
  "language_info": {
   "codemirror_mode": {
    "name": "ipython",
    "version": 3
   },
   "file_extension": ".py",
   "mimetype": "text/x-python",
   "name": "python",
   "nbconvert_exporter": "python",
   "pygments_lexer": "ipython3",
   "version": "3.9.6"
  },
  "orig_nbformat": 4
 },
 "nbformat": 4,
 "nbformat_minor": 2
}
